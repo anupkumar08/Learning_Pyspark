{
  "cells": [
    {
      "cell_type": "code",
      "execution_count": 1,
      "metadata": {
        "colab": {
          "base_uri": "https://localhost:8080/"
        },
        "id": "NIuehsb-V7WJ",
        "outputId": "60108138-e291-4210-8e78-7832a873a655"
      },
      "outputs": [
        {
          "output_type": "stream",
          "name": "stdout",
          "text": [
            "There is only one alternative in link group java (providing /usr/bin/java): /usr/lib/jvm/java-11-openjdk-amd64/bin/java\n",
            "Nothing to configure.\n"
          ]
        }
      ],
      "source": [
        "#Check your installed Java Versions and select the desired version\n",
        "!sudo update-alternatives --config java"
      ]
    },
    {
      "cell_type": "code",
      "execution_count": 2,
      "metadata": {
        "colab": {
          "base_uri": "https://localhost:8080/"
        },
        "id": "HenS7HUfYRVw",
        "outputId": "0a929564-a1ee-4dad-e49b-f85f5deac8e0"
      },
      "outputs": [
        {
          "output_type": "stream",
          "name": "stdout",
          "text": [
            "\u001b[33m\r0% [Working]\u001b[0m\r            \rGet:1 https://cloud.r-project.org/bin/linux/ubuntu bionic-cran40/ InRelease [3,626 B]\n",
            "\u001b[33m\r0% [Connecting to archive.ubuntu.com (185.125.190.36)] [Connecting to security.\u001b[0m\u001b[33m\r0% [Connecting to archive.ubuntu.com (185.125.190.36)] [Connecting to security.\u001b[0m\u001b[33m\r0% [1 InRelease gpgv 3,626 B] [Connecting to archive.ubuntu.com (185.125.190.36\u001b[0m\r                                                                               \rIgn:2 https://developer.download.nvidia.com/compute/machine-learning/repos/ubuntu1804/x86_64  InRelease\n",
            "\u001b[33m\r0% [1 InRelease gpgv 3,626 B] [Connecting to archive.ubuntu.com (185.125.190.36\u001b[0m\r                                                                               \rGet:3 https://developer.download.nvidia.com/compute/cuda/repos/ubuntu1804/x86_64  InRelease [1,581 B]\n",
            "Hit:4 https://developer.download.nvidia.com/compute/machine-learning/repos/ubuntu1804/x86_64  Release\n",
            "Get:5 http://security.ubuntu.com/ubuntu bionic-security InRelease [88.7 kB]\n",
            "Hit:6 http://archive.ubuntu.com/ubuntu bionic InRelease\n",
            "Get:7 http://ppa.launchpad.net/c2d4u.team/c2d4u4.0+/ubuntu bionic InRelease [15.9 kB]\n",
            "Get:8 https://cloud.r-project.org/bin/linux/ubuntu bionic-cran40/ Packages [91.1 kB]\n",
            "Get:9 https://developer.download.nvidia.com/compute/cuda/repos/ubuntu1804/x86_64  Packages [912 kB]\n",
            "Get:10 http://archive.ubuntu.com/ubuntu bionic-updates InRelease [88.7 kB]\n",
            "Hit:12 http://ppa.launchpad.net/cran/libgit2/ubuntu bionic InRelease\n",
            "Get:13 http://archive.ubuntu.com/ubuntu bionic-backports InRelease [74.6 kB]\n",
            "Hit:14 http://ppa.launchpad.net/deadsnakes/ppa/ubuntu bionic InRelease\n",
            "Get:15 http://security.ubuntu.com/ubuntu bionic-security/universe amd64 Packages [1,534 kB]\n",
            "Hit:16 http://ppa.launchpad.net/graphics-drivers/ppa/ubuntu bionic InRelease\n",
            "Get:17 http://archive.ubuntu.com/ubuntu bionic-updates/main amd64 Packages [3,369 kB]\n",
            "Get:18 http://ppa.launchpad.net/c2d4u.team/c2d4u4.0+/ubuntu bionic/main Sources [2,094 kB]\n",
            "Get:19 http://security.ubuntu.com/ubuntu bionic-security/main amd64 Packages [2,939 kB]\n",
            "Get:20 http://archive.ubuntu.com/ubuntu bionic-updates/universe amd64 Packages [2,311 kB]\n",
            "Get:21 http://ppa.launchpad.net/c2d4u.team/c2d4u4.0+/ubuntu bionic/main amd64 Packages [1,073 kB]\n",
            "Fetched 14.6 MB in 4s (3,940 kB/s)\n",
            "Reading package lists... Done\n",
            "Building dependency tree       \n",
            "Reading state information... Done\n",
            "40 packages can be upgraded. Run 'apt list --upgradable' to see them.\n",
            "spark-3.3.0-bin-hadoop3/\n",
            "spark-3.3.0-bin-hadoop3/NOTICE\n",
            "spark-3.3.0-bin-hadoop3/kubernetes/\n",
            "spark-3.3.0-bin-hadoop3/kubernetes/tests/\n",
            "spark-3.3.0-bin-hadoop3/kubernetes/tests/python_executable_check.py\n",
            "spark-3.3.0-bin-hadoop3/kubernetes/tests/autoscale.py\n",
            "spark-3.3.0-bin-hadoop3/kubernetes/tests/worker_memory_check.py\n",
            "spark-3.3.0-bin-hadoop3/kubernetes/tests/py_container_checks.py\n",
            "spark-3.3.0-bin-hadoop3/kubernetes/tests/decommissioning.py\n",
            "spark-3.3.0-bin-hadoop3/kubernetes/tests/pyfiles.py\n",
            "spark-3.3.0-bin-hadoop3/kubernetes/tests/decommissioning_cleanup.py\n",
            "spark-3.3.0-bin-hadoop3/kubernetes/dockerfiles/\n",
            "spark-3.3.0-bin-hadoop3/kubernetes/dockerfiles/spark/\n",
            "spark-3.3.0-bin-hadoop3/kubernetes/dockerfiles/spark/decom.sh\n",
            "spark-3.3.0-bin-hadoop3/kubernetes/dockerfiles/spark/entrypoint.sh\n",
            "spark-3.3.0-bin-hadoop3/kubernetes/dockerfiles/spark/bindings/\n",
            "spark-3.3.0-bin-hadoop3/kubernetes/dockerfiles/spark/bindings/R/\n",
            "spark-3.3.0-bin-hadoop3/kubernetes/dockerfiles/spark/bindings/R/Dockerfile\n",
            "spark-3.3.0-bin-hadoop3/kubernetes/dockerfiles/spark/bindings/python/\n",
            "spark-3.3.0-bin-hadoop3/kubernetes/dockerfiles/spark/bindings/python/Dockerfile\n",
            "spark-3.3.0-bin-hadoop3/kubernetes/dockerfiles/spark/Dockerfile\n",
            "spark-3.3.0-bin-hadoop3/kubernetes/dockerfiles/spark/Dockerfile.java17\n",
            "spark-3.3.0-bin-hadoop3/jars/\n",
            "spark-3.3.0-bin-hadoop3/jars/spark-network-shuffle_2.12-3.3.0.jar\n",
            "spark-3.3.0-bin-hadoop3/jars/shapeless_2.12-2.3.7.jar\n",
            "spark-3.3.0-bin-hadoop3/jars/arrow-format-7.0.0.jar\n",
            "spark-3.3.0-bin-hadoop3/jars/metrics-jvm-4.2.7.jar\n",
            "spark-3.3.0-bin-hadoop3/jars/spark-tags_2.12-3.3.0.jar\n",
            "spark-3.3.0-bin-hadoop3/jars/okhttp-3.12.12.jar\n",
            "spark-3.3.0-bin-hadoop3/jars/hive-shims-common-2.3.9.jar\n",
            "spark-3.3.0-bin-hadoop3/jars/spire_2.12-0.17.0.jar\n",
            "spark-3.3.0-bin-hadoop3/jars/logging-interceptor-3.12.12.jar\n",
            "spark-3.3.0-bin-hadoop3/jars/hive-serde-2.3.9.jar\n",
            "spark-3.3.0-bin-hadoop3/jars/objenesis-3.2.jar\n",
            "spark-3.3.0-bin-hadoop3/jars/spark-streaming_2.12-3.3.0.jar\n",
            "spark-3.3.0-bin-hadoop3/jars/avro-1.11.0.jar\n",
            "spark-3.3.0-bin-hadoop3/jars/zookeeper-3.6.2.jar\n",
            "spark-3.3.0-bin-hadoop3/jars/spark-kvstore_2.12-3.3.0.jar\n",
            "spark-3.3.0-bin-hadoop3/jars/kryo-shaded-4.0.2.jar\n",
            "spark-3.3.0-bin-hadoop3/jars/hive-jdbc-2.3.9.jar\n",
            "spark-3.3.0-bin-hadoop3/jars/jackson-annotations-2.13.3.jar\n",
            "spark-3.3.0-bin-hadoop3/jars/commons-logging-1.1.3.jar\n",
            "spark-3.3.0-bin-hadoop3/jars/commons-compiler-3.0.16.jar\n",
            "spark-3.3.0-bin-hadoop3/jars/spark-sql_2.12-3.3.0.jar\n",
            "spark-3.3.0-bin-hadoop3/jars/jdo-api-3.0.1.jar\n",
            "spark-3.3.0-bin-hadoop3/jars/pickle-1.2.jar\n",
            "spark-3.3.0-bin-hadoop3/jars/JLargeArrays-1.5.jar\n",
            "spark-3.3.0-bin-hadoop3/jars/kubernetes-model-apiextensions-5.12.2.jar\n",
            "spark-3.3.0-bin-hadoop3/jars/parquet-common-1.12.2.jar\n",
            "spark-3.3.0-bin-hadoop3/jars/httpcore-4.4.14.jar\n",
            "spark-3.3.0-bin-hadoop3/jars/commons-codec-1.15.jar\n",
            "spark-3.3.0-bin-hadoop3/jars/parquet-format-structures-1.12.2.jar\n",
            "spark-3.3.0-bin-hadoop3/jars/commons-io-2.11.0.jar\n",
            "spark-3.3.0-bin-hadoop3/jars/stax-api-1.0.1.jar\n",
            "spark-3.3.0-bin-hadoop3/jars/hive-storage-api-2.7.2.jar\n",
            "spark-3.3.0-bin-hadoop3/jars/kubernetes-model-certificates-5.12.2.jar\n",
            "spark-3.3.0-bin-hadoop3/jars/zookeeper-jute-3.6.2.jar\n",
            "spark-3.3.0-bin-hadoop3/jars/spark-yarn_2.12-3.3.0.jar\n",
            "spark-3.3.0-bin-hadoop3/jars/commons-collections4-4.4.jar\n",
            "spark-3.3.0-bin-hadoop3/jars/jline-2.14.6.jar\n",
            "spark-3.3.0-bin-hadoop3/jars/dropwizard-metrics-hadoop-metrics2-reporter-0.1.2.jar\n",
            "spark-3.3.0-bin-hadoop3/jars/commons-pool-1.5.4.jar\n",
            "spark-3.3.0-bin-hadoop3/jars/snakeyaml-1.30.jar\n",
            "spark-3.3.0-bin-hadoop3/jars/xbean-asm9-shaded-4.20.jar\n",
            "spark-3.3.0-bin-hadoop3/jars/lz4-java-1.8.0.jar\n",
            "spark-3.3.0-bin-hadoop3/jars/cats-kernel_2.12-2.1.1.jar\n",
            "spark-3.3.0-bin-hadoop3/jars/jta-1.1.jar\n",
            "spark-3.3.0-bin-hadoop3/jars/istack-commons-runtime-3.0.8.jar\n",
            "spark-3.3.0-bin-hadoop3/jars/jackson-module-scala_2.12-2.13.3.jar\n",
            "spark-3.3.0-bin-hadoop3/jars/hive-common-2.3.9.jar\n",
            "spark-3.3.0-bin-hadoop3/jars/shims-0.9.25.jar\n",
            "spark-3.3.0-bin-hadoop3/jars/compress-lzf-1.1.jar\n",
            "spark-3.3.0-bin-hadoop3/jars/commons-collections-3.2.2.jar\n",
            "spark-3.3.0-bin-hadoop3/jars/audience-annotations-0.5.0.jar\n",
            "spark-3.3.0-bin-hadoop3/jars/joda-time-2.10.13.jar\n",
            "spark-3.3.0-bin-hadoop3/jars/jpam-1.1.jar\n",
            "spark-3.3.0-bin-hadoop3/jars/jakarta.annotation-api-1.3.5.jar\n",
            "spark-3.3.0-bin-hadoop3/jars/kubernetes-model-coordination-5.12.2.jar\n",
            "spark-3.3.0-bin-hadoop3/jars/tink-1.6.1.jar\n",
            "spark-3.3.0-bin-hadoop3/jars/metrics-json-4.2.7.jar\n",
            "spark-3.3.0-bin-hadoop3/jars/spark-kubernetes_2.12-3.3.0.jar\n",
            "spark-3.3.0-bin-hadoop3/jars/jersey-common-2.34.jar\n",
            "spark-3.3.0-bin-hadoop3/jars/kubernetes-model-common-5.12.2.jar\n",
            "spark-3.3.0-bin-hadoop3/jars/spark-graphx_2.12-3.3.0.jar\n",
            "spark-3.3.0-bin-hadoop3/jars/parquet-hadoop-1.12.2.jar\n",
            "spark-3.3.0-bin-hadoop3/jars/curator-recipes-2.13.0.jar\n",
            "spark-3.3.0-bin-hadoop3/jars/zstd-jni-1.5.2-1.jar\n",
            "spark-3.3.0-bin-hadoop3/jars/commons-math3-3.6.1.jar\n",
            "spark-3.3.0-bin-hadoop3/jars/spark-tags_2.12-3.3.0-tests.jar\n",
            "spark-3.3.0-bin-hadoop3/jars/orc-shims-1.7.4.jar\n",
            "spark-3.3.0-bin-hadoop3/jars/netty-transport-4.1.74.Final.jar\n",
            "spark-3.3.0-bin-hadoop3/jars/netty-tcnative-classes-2.0.48.Final.jar\n",
            "spark-3.3.0-bin-hadoop3/jars/spark-launcher_2.12-3.3.0.jar\n",
            "spark-3.3.0-bin-hadoop3/jars/antlr4-runtime-4.8.jar\n",
            "spark-3.3.0-bin-hadoop3/jars/javax.jdo-3.2.0-m3.jar\n",
            "spark-3.3.0-bin-hadoop3/jars/spark-hive-thriftserver_2.12-3.3.0.jar\n",
            "spark-3.3.0-bin-hadoop3/jars/paranamer-2.8.jar\n",
            "spark-3.3.0-bin-hadoop3/jars/spark-network-common_2.12-3.3.0.jar\n",
            "spark-3.3.0-bin-hadoop3/jars/netty-all-4.1.74.Final.jar\n",
            "spark-3.3.0-bin-hadoop3/jars/arrow-memory-core-7.0.0.jar\n",
            "spark-3.3.0-bin-hadoop3/jars/orc-core-1.7.4.jar\n",
            "spark-3.3.0-bin-hadoop3/jars/kubernetes-model-storageclass-5.12.2.jar\n",
            "spark-3.3.0-bin-hadoop3/jars/flatbuffers-java-1.12.0.jar\n",
            "spark-3.3.0-bin-hadoop3/jars/kubernetes-model-autoscaling-5.12.2.jar\n",
            "spark-3.3.0-bin-hadoop3/jars/json4s-core_2.12-3.7.0-M11.jar\n",
            "spark-3.3.0-bin-hadoop3/jars/stream-2.9.6.jar\n",
            "spark-3.3.0-bin-hadoop3/jars/log4j-core-2.17.2.jar\n",
            "spark-3.3.0-bin-hadoop3/jars/arpack-2.2.1.jar\n",
            "spark-3.3.0-bin-hadoop3/jars/avro-ipc-1.11.0.jar\n",
            "spark-3.3.0-bin-hadoop3/jars/hive-shims-2.3.9.jar\n",
            "spark-3.3.0-bin-hadoop3/jars/datanucleus-api-jdo-4.2.4.jar\n",
            "spark-3.3.0-bin-hadoop3/jars/gson-2.2.4.jar\n",
            "spark-3.3.0-bin-hadoop3/jars/jersey-container-servlet-2.34.jar\n",
            "spark-3.3.0-bin-hadoop3/jars/commons-compress-1.21.jar\n",
            "spark-3.3.0-bin-hadoop3/jars/curator-client-2.13.0.jar\n",
            "spark-3.3.0-bin-hadoop3/jars/opencsv-2.3.jar\n",
            "spark-3.3.0-bin-hadoop3/jars/hive-exec-2.3.9-core.jar\n",
            "spark-3.3.0-bin-hadoop3/jars/jsr305-3.0.0.jar\n",
            "spark-3.3.0-bin-hadoop3/jars/netty-transport-native-epoll-4.1.74.Final-linux-x86_64.jar\n",
            "spark-3.3.0-bin-hadoop3/jars/derby-10.14.2.0.jar\n",
            "spark-3.3.0-bin-hadoop3/jars/spark-catalyst_2.12-3.3.0.jar\n",
            "spark-3.3.0-bin-hadoop3/jars/commons-dbcp-1.4.jar\n",
            "spark-3.3.0-bin-hadoop3/jars/scala-reflect-2.12.15.jar\n",
            "spark-3.3.0-bin-hadoop3/jars/okio-1.14.0.jar\n",
            "spark-3.3.0-bin-hadoop3/jars/hk2-api-2.6.1.jar\n",
            "spark-3.3.0-bin-hadoop3/jars/netty-transport-native-epoll-4.1.74.Final-linux-aarch_64.jar\n",
            "spark-3.3.0-bin-hadoop3/jars/hive-shims-0.23-2.3.9.jar\n",
            "spark-3.3.0-bin-hadoop3/jars/spark-hive_2.12-3.3.0.jar\n",
            "spark-3.3.0-bin-hadoop3/jars/jakarta.servlet-api-4.0.3.jar\n",
            "spark-3.3.0-bin-hadoop3/jars/commons-lang3-3.12.0.jar\n",
            "spark-3.3.0-bin-hadoop3/jars/automaton-1.11-8.jar\n",
            "spark-3.3.0-bin-hadoop3/jars/commons-lang-2.6.jar\n",
            "spark-3.3.0-bin-hadoop3/jars/kubernetes-model-core-5.12.2.jar\n",
            "spark-3.3.0-bin-hadoop3/jars/ivy-2.5.0.jar\n",
            "spark-3.3.0-bin-hadoop3/jars/hk2-utils-2.6.1.jar\n",
            "spark-3.3.0-bin-hadoop3/jars/parquet-column-1.12.2.jar\n",
            "spark-3.3.0-bin-hadoop3/jars/kubernetes-model-events-5.12.2.jar\n",
            "spark-3.3.0-bin-hadoop3/jars/kubernetes-model-node-5.12.2.jar\n",
            "spark-3.3.0-bin-hadoop3/jars/velocity-1.5.jar\n",
            "spark-3.3.0-bin-hadoop3/jars/netty-buffer-4.1.74.Final.jar\n",
            "spark-3.3.0-bin-hadoop3/jars/httpclient-4.5.13.jar\n",
            "spark-3.3.0-bin-hadoop3/jars/JTransforms-3.1.jar\n",
            "spark-3.3.0-bin-hadoop3/jars/netty-handler-4.1.74.Final.jar\n",
            "spark-3.3.0-bin-hadoop3/jars/json4s-scalap_2.12-3.7.0-M11.jar\n",
            "spark-3.3.0-bin-hadoop3/jars/slf4j-api-1.7.32.jar\n",
            "spark-3.3.0-bin-hadoop3/jars/kubernetes-model-rbac-5.12.2.jar\n",
            "spark-3.3.0-bin-hadoop3/jars/spark-repl_2.12-3.3.0.jar\n",
            "spark-3.3.0-bin-hadoop3/jars/kubernetes-model-discovery-5.12.2.jar\n",
            "spark-3.3.0-bin-hadoop3/jars/RoaringBitmap-0.9.25.jar\n",
            "spark-3.3.0-bin-hadoop3/jars/jersey-server-2.34.jar\n",
            "spark-3.3.0-bin-hadoop3/jars/netty-transport-classes-kqueue-4.1.74.Final.jar\n",
            "spark-3.3.0-bin-hadoop3/jars/aircompressor-0.21.jar\n",
            "spark-3.3.0-bin-hadoop3/jars/arrow-vector-7.0.0.jar\n",
            "spark-3.3.0-bin-hadoop3/jars/jackson-core-2.13.3.jar\n",
            "spark-3.3.0-bin-hadoop3/jars/jcl-over-slf4j-1.7.32.jar\n",
            "spark-3.3.0-bin-hadoop3/jars/metrics-core-4.2.7.jar\n",
            "spark-3.3.0-bin-hadoop3/jars/spark-core_2.12-3.3.0.jar\n",
            "spark-3.3.0-bin-hadoop3/jars/jakarta.validation-api-2.0.2.jar\n",
            "spark-3.3.0-bin-hadoop3/jars/jul-to-slf4j-1.7.32.jar\n",
            "spark-3.3.0-bin-hadoop3/jars/netty-transport-native-kqueue-4.1.74.Final-osx-x86_64.jar\n",
            "spark-3.3.0-bin-hadoop3/jars/guava-14.0.1.jar\n",
            "spark-3.3.0-bin-hadoop3/jars/parquet-jackson-1.12.2.jar\n",
            "spark-3.3.0-bin-hadoop3/jars/zjsonpatch-0.3.0.jar\n",
            "spark-3.3.0-bin-hadoop3/jars/hive-service-rpc-3.1.2.jar\n",
            "spark-3.3.0-bin-hadoop3/jars/metrics-graphite-4.2.7.jar\n",
            "spark-3.3.0-bin-hadoop3/jars/oro-2.0.8.jar\n",
            "spark-3.3.0-bin-hadoop3/jars/commons-text-1.9.jar\n",
            "spark-3.3.0-bin-hadoop3/jars/libfb303-0.9.3.jar\n",
            "spark-3.3.0-bin-hadoop3/jars/core-1.1.2.jar\n",
            "spark-3.3.0-bin-hadoop3/jars/avro-mapred-1.11.0.jar\n",
            "spark-3.3.0-bin-hadoop3/jars/datanucleus-rdbms-4.1.19.jar\n",
            "spark-3.3.0-bin-hadoop3/jars/super-csv-2.2.0.jar\n",
            "spark-3.3.0-bin-hadoop3/jars/hadoop-yarn-server-web-proxy-3.3.2.jar\n",
            "spark-3.3.0-bin-hadoop3/jars/scala-compiler-2.12.15.jar\n",
            "spark-3.3.0-bin-hadoop3/jars/log4j-api-2.17.2.jar\n",
            "spark-3.3.0-bin-hadoop3/jars/osgi-resource-locator-1.0.3.jar\n",
            "spark-3.3.0-bin-hadoop3/jars/spark-sketch_2.12-3.3.0.jar\n",
            "spark-3.3.0-bin-hadoop3/jars/hadoop-client-api-3.3.2.jar\n",
            "spark-3.3.0-bin-hadoop3/jars/arrow-memory-netty-7.0.0.jar\n",
            "spark-3.3.0-bin-hadoop3/jars/json-1.8.jar\n",
            "spark-3.3.0-bin-hadoop3/jars/kubernetes-model-policy-5.12.2.jar\n",
            "spark-3.3.0-bin-hadoop3/jars/antlr-runtime-3.5.2.jar\n",
            "spark-3.3.0-bin-hadoop3/jars/jackson-datatype-jsr310-2.13.3.jar\n",
            "spark-3.3.0-bin-hadoop3/jars/jackson-databind-2.13.3.jar\n",
            "spark-3.3.0-bin-hadoop3/jars/spark-mllib_2.12-3.3.0.jar\n",
            "spark-3.3.0-bin-hadoop3/jars/netty-transport-classes-epoll-4.1.74.Final.jar\n",
            "spark-3.3.0-bin-hadoop3/jars/threeten-extra-1.5.0.jar\n",
            "spark-3.3.0-bin-hadoop3/jars/kubernetes-client-5.12.2.jar\n",
            "spark-3.3.0-bin-hadoop3/jars/scala-library-2.12.15.jar\n",
            "spark-3.3.0-bin-hadoop3/jars/kubernetes-model-metrics-5.12.2.jar\n",
            "spark-3.3.0-bin-hadoop3/jars/snappy-java-1.1.8.4.jar\n",
            "spark-3.3.0-bin-hadoop3/jars/activation-1.1.1.jar\n",
            "spark-3.3.0-bin-hadoop3/jars/annotations-17.0.0.jar\n",
            "spark-3.3.0-bin-hadoop3/jars/commons-crypto-1.1.0.jar\n",
            "spark-3.3.0-bin-hadoop3/jars/log4j-1.2-api-2.17.2.jar\n",
            "spark-3.3.0-bin-hadoop3/jars/libthrift-0.12.0.jar\n",
            "spark-3.3.0-bin-hadoop3/jars/HikariCP-2.5.1.jar\n",
            "spark-3.3.0-bin-hadoop3/jars/generex-1.0.2.jar\n",
            "spark-3.3.0-bin-hadoop3/jars/leveldbjni-all-1.8.jar\n",
            "spark-3.3.0-bin-hadoop3/jars/jaxb-runtime-2.3.2.jar\n",
            "spark-3.3.0-bin-hadoop3/jars/rocksdbjni-6.20.3.jar\n",
            "spark-3.3.0-bin-hadoop3/jars/netty-transport-native-unix-common-4.1.74.Final.jar\n",
            "spark-3.3.0-bin-hadoop3/jars/lapack-2.2.1.jar\n",
            "spark-3.3.0-bin-hadoop3/jars/jackson-core-asl-1.9.13.jar\n",
            "spark-3.3.0-bin-hadoop3/jars/spark-mllib-local_2.12-3.3.0.jar\n",
            "spark-3.3.0-bin-hadoop3/jars/hive-cli-2.3.9.jar\n",
            "spark-3.3.0-bin-hadoop3/jars/hive-beeline-2.3.9.jar\n",
            "spark-3.3.0-bin-hadoop3/jars/scala-xml_2.12-1.2.0.jar\n",
            "spark-3.3.0-bin-hadoop3/jars/hk2-locator-2.6.1.jar\n",
            "spark-3.3.0-bin-hadoop3/jars/kubernetes-model-apps-5.12.2.jar\n",
            "spark-3.3.0-bin-hadoop3/jars/metrics-jmx-4.2.7.jar\n",
            "spark-3.3.0-bin-hadoop3/jars/jackson-mapper-asl-1.9.13.jar\n",
            "spark-3.3.0-bin-hadoop3/jars/blas-2.2.1.jar\n",
            "spark-3.3.0-bin-hadoop3/jars/ST4-4.0.4.jar\n",
            "spark-3.3.0-bin-hadoop3/jars/jackson-dataformat-yaml-2.13.3.jar\n",
            "spark-3.3.0-bin-hadoop3/jars/chill_2.12-0.10.0.jar\n",
            "spark-3.3.0-bin-hadoop3/jars/json4s-jackson_2.12-3.7.0-M11.jar\n",
            "spark-3.3.0-bin-hadoop3/jars/netty-resolver-4.1.74.Final.jar\n",
            "spark-3.3.0-bin-hadoop3/jars/breeze-macros_2.12-1.2.jar\n",
            "spark-3.3.0-bin-hadoop3/jars/xz-1.8.jar\n",
            "spark-3.3.0-bin-hadoop3/jars/minlog-1.3.0.jar\n",
            "spark-3.3.0-bin-hadoop3/jars/jersey-hk2-2.34.jar\n",
            "spark-3.3.0-bin-hadoop3/jars/netty-common-4.1.74.Final.jar\n",
            "spark-3.3.0-bin-hadoop3/jars/jakarta.ws.rs-api-2.1.6.jar\n",
            "spark-3.3.0-bin-hadoop3/jars/spark-unsafe_2.12-3.3.0.jar\n",
            "spark-3.3.0-bin-hadoop3/jars/jersey-container-servlet-core-2.34.jar\n",
            "spark-3.3.0-bin-hadoop3/jars/aopalliance-repackaged-2.6.1.jar\n",
            "spark-3.3.0-bin-hadoop3/jars/netty-transport-native-kqueue-4.1.74.Final-osx-aarch_64.jar\n",
            "spark-3.3.0-bin-hadoop3/jars/bonecp-0.8.0.RELEASE.jar\n",
            "spark-3.3.0-bin-hadoop3/jars/jodd-core-3.5.2.jar\n",
            "spark-3.3.0-bin-hadoop3/jars/orc-mapreduce-1.7.4.jar\n",
            "spark-3.3.0-bin-hadoop3/jars/spire-util_2.12-0.17.0.jar\n",
            "spark-3.3.0-bin-hadoop3/jars/protobuf-java-2.5.0.jar\n",
            "spark-3.3.0-bin-hadoop3/jars/jersey-client-2.34.jar\n",
            "spark-3.3.0-bin-hadoop3/jars/datanucleus-core-4.1.17.jar\n",
            "spark-3.3.0-bin-hadoop3/jars/janino-3.0.16.jar\n",
            "spark-3.3.0-bin-hadoop3/jars/spire-platform_2.12-0.17.0.jar\n",
            "spark-3.3.0-bin-hadoop3/jars/javolution-5.5.1.jar\n",
            "spark-3.3.0-bin-hadoop3/jars/transaction-api-1.1.jar\n",
            "spark-3.3.0-bin-hadoop3/jars/mesos-1.4.3-shaded-protobuf.jar\n",
            "spark-3.3.0-bin-hadoop3/jars/curator-framework-2.13.0.jar\n",
            "spark-3.3.0-bin-hadoop3/jars/parquet-encoding-1.12.2.jar\n",
            "spark-3.3.0-bin-hadoop3/jars/jakarta.inject-2.6.1.jar\n",
            "spark-3.3.0-bin-hadoop3/jars/hive-llap-common-2.3.9.jar\n",
            "spark-3.3.0-bin-hadoop3/jars/commons-cli-1.5.0.jar\n",
            "spark-3.3.0-bin-hadoop3/jars/jakarta.xml.bind-api-2.3.2.jar\n",
            "spark-3.3.0-bin-hadoop3/jars/kubernetes-model-flowcontrol-5.12.2.jar\n",
            "spark-3.3.0-bin-hadoop3/jars/algebra_2.12-2.0.1.jar\n",
            "spark-3.3.0-bin-hadoop3/jars/hadoop-shaded-guava-1.1.1.jar\n",
            "spark-3.3.0-bin-hadoop3/jars/arpack_combined_all-0.1.jar\n",
            "spark-3.3.0-bin-hadoop3/jars/hive-vector-code-gen-2.3.9.jar\n",
            "spark-3.3.0-bin-hadoop3/jars/kubernetes-model-admissionregistration-5.12.2.jar\n",
            "spark-3.3.0-bin-hadoop3/jars/spark-mesos_2.12-3.3.0.jar\n",
            "spark-3.3.0-bin-hadoop3/jars/json4s-ast_2.12-3.7.0-M11.jar\n",
            "spark-3.3.0-bin-hadoop3/jars/log4j-slf4j-impl-2.17.2.jar\n",
            "spark-3.3.0-bin-hadoop3/jars/javassist-3.25.0-GA.jar\n",
            "spark-3.3.0-bin-hadoop3/jars/scala-collection-compat_2.12-2.1.1.jar\n",
            "spark-3.3.0-bin-hadoop3/jars/kubernetes-model-networking-5.12.2.jar\n",
            "spark-3.3.0-bin-hadoop3/jars/py4j-0.10.9.5.jar\n",
            "spark-3.3.0-bin-hadoop3/jars/netty-codec-4.1.74.Final.jar\n",
            "spark-3.3.0-bin-hadoop3/jars/hadoop-client-runtime-3.3.2.jar\n",
            "spark-3.3.0-bin-hadoop3/jars/univocity-parsers-2.9.1.jar\n",
            "spark-3.3.0-bin-hadoop3/jars/hive-shims-scheduler-2.3.9.jar\n",
            "spark-3.3.0-bin-hadoop3/jars/kubernetes-model-extensions-5.12.2.jar\n",
            "spark-3.3.0-bin-hadoop3/jars/breeze_2.12-1.2.jar\n",
            "spark-3.3.0-bin-hadoop3/jars/chill-java-0.10.0.jar\n",
            "spark-3.3.0-bin-hadoop3/jars/spire-macros_2.12-0.17.0.jar\n",
            "spark-3.3.0-bin-hadoop3/jars/scala-parser-combinators_2.12-1.1.2.jar\n",
            "spark-3.3.0-bin-hadoop3/jars/hive-metastore-2.3.9.jar\n",
            "spark-3.3.0-bin-hadoop3/jars/kubernetes-model-scheduling-5.12.2.jar\n",
            "spark-3.3.0-bin-hadoop3/jars/kubernetes-model-batch-5.12.2.jar\n",
            "spark-3.3.0-bin-hadoop3/data/\n",
            "spark-3.3.0-bin-hadoop3/data/mllib/\n",
            "spark-3.3.0-bin-hadoop3/data/mllib/sample_lda_data.txt\n",
            "spark-3.3.0-bin-hadoop3/data/mllib/sample_libsvm_data.txt\n",
            "spark-3.3.0-bin-hadoop3/data/mllib/sample_svm_data.txt\n",
            "spark-3.3.0-bin-hadoop3/data/mllib/sample_multiclass_classification_data.txt\n",
            "spark-3.3.0-bin-hadoop3/data/mllib/sample_linear_regression_data.txt\n",
            "spark-3.3.0-bin-hadoop3/data/mllib/sample_lda_libsvm_data.txt\n",
            "spark-3.3.0-bin-hadoop3/data/mllib/sample_fpgrowth.txt\n",
            "spark-3.3.0-bin-hadoop3/data/mllib/sample_binary_classification_data.txt\n",
            "spark-3.3.0-bin-hadoop3/data/mllib/sample_isotonic_regression_libsvm_data.txt\n",
            "spark-3.3.0-bin-hadoop3/data/mllib/sample_movielens_data.txt\n",
            "spark-3.3.0-bin-hadoop3/data/mllib/als/\n",
            "spark-3.3.0-bin-hadoop3/data/mllib/als/test.data\n",
            "spark-3.3.0-bin-hadoop3/data/mllib/als/sample_movielens_ratings.txt\n",
            "spark-3.3.0-bin-hadoop3/data/mllib/sample_kmeans_data.txt\n",
            "spark-3.3.0-bin-hadoop3/data/mllib/pic_data.txt\n",
            "spark-3.3.0-bin-hadoop3/data/mllib/images/\n",
            "spark-3.3.0-bin-hadoop3/data/mllib/images/origin/\n",
            "spark-3.3.0-bin-hadoop3/data/mllib/images/origin/kittens/\n",
            "spark-3.3.0-bin-hadoop3/data/mllib/images/origin/kittens/54893.jpg\n",
            "spark-3.3.0-bin-hadoop3/data/mllib/images/origin/kittens/not-image.txt\n",
            "spark-3.3.0-bin-hadoop3/data/mllib/images/origin/kittens/DP802813.jpg\n",
            "spark-3.3.0-bin-hadoop3/data/mllib/images/origin/kittens/29.5.a_b_EGDP022204.jpg\n",
            "spark-3.3.0-bin-hadoop3/data/mllib/images/origin/kittens/DP153539.jpg\n",
            "spark-3.3.0-bin-hadoop3/data/mllib/images/origin/license.txt\n",
            "spark-3.3.0-bin-hadoop3/data/mllib/images/origin/multi-channel/\n",
            "spark-3.3.0-bin-hadoop3/data/mllib/images/origin/multi-channel/BGRA.png\n",
            "spark-3.3.0-bin-hadoop3/data/mllib/images/origin/multi-channel/BGRA_alpha_60.png\n",
            "spark-3.3.0-bin-hadoop3/data/mllib/images/origin/multi-channel/grayscale.jpg\n",
            "spark-3.3.0-bin-hadoop3/data/mllib/images/origin/multi-channel/chr30.4.184.jpg\n",
            "spark-3.3.0-bin-hadoop3/data/mllib/images/license.txt\n",
            "spark-3.3.0-bin-hadoop3/data/mllib/ridge-data/\n",
            "spark-3.3.0-bin-hadoop3/data/mllib/ridge-data/lpsa.data\n",
            "spark-3.3.0-bin-hadoop3/data/mllib/kmeans_data.txt\n",
            "spark-3.3.0-bin-hadoop3/data/mllib/streaming_kmeans_data_test.txt\n",
            "spark-3.3.0-bin-hadoop3/data/mllib/pagerank_data.txt\n",
            "spark-3.3.0-bin-hadoop3/data/mllib/gmm_data.txt\n",
            "spark-3.3.0-bin-hadoop3/data/graphx/\n",
            "spark-3.3.0-bin-hadoop3/data/graphx/users.txt\n",
            "spark-3.3.0-bin-hadoop3/data/graphx/followers.txt\n",
            "spark-3.3.0-bin-hadoop3/data/streaming/\n",
            "spark-3.3.0-bin-hadoop3/data/streaming/AFINN-111.txt\n",
            "spark-3.3.0-bin-hadoop3/R/\n",
            "spark-3.3.0-bin-hadoop3/R/lib/\n",
            "spark-3.3.0-bin-hadoop3/R/lib/sparkr.zip\n",
            "spark-3.3.0-bin-hadoop3/R/lib/SparkR/\n",
            "spark-3.3.0-bin-hadoop3/R/lib/SparkR/tests/\n",
            "spark-3.3.0-bin-hadoop3/R/lib/SparkR/tests/testthat/\n",
            "spark-3.3.0-bin-hadoop3/R/lib/SparkR/tests/testthat/test_basic.R\n",
            "spark-3.3.0-bin-hadoop3/R/lib/SparkR/DESCRIPTION\n",
            "spark-3.3.0-bin-hadoop3/R/lib/SparkR/profile/\n",
            "spark-3.3.0-bin-hadoop3/R/lib/SparkR/profile/shell.R\n",
            "spark-3.3.0-bin-hadoop3/R/lib/SparkR/profile/general.R\n",
            "spark-3.3.0-bin-hadoop3/R/lib/SparkR/INDEX\n",
            "spark-3.3.0-bin-hadoop3/R/lib/SparkR/Meta/\n",
            "spark-3.3.0-bin-hadoop3/R/lib/SparkR/Meta/features.rds\n",
            "spark-3.3.0-bin-hadoop3/R/lib/SparkR/Meta/links.rds\n",
            "spark-3.3.0-bin-hadoop3/R/lib/SparkR/Meta/nsInfo.rds\n",
            "spark-3.3.0-bin-hadoop3/R/lib/SparkR/Meta/package.rds\n",
            "spark-3.3.0-bin-hadoop3/R/lib/SparkR/Meta/vignette.rds\n",
            "spark-3.3.0-bin-hadoop3/R/lib/SparkR/Meta/Rd.rds\n",
            "spark-3.3.0-bin-hadoop3/R/lib/SparkR/Meta/hsearch.rds\n",
            "spark-3.3.0-bin-hadoop3/R/lib/SparkR/help/\n",
            "spark-3.3.0-bin-hadoop3/R/lib/SparkR/help/SparkR.rdb\n",
            "spark-3.3.0-bin-hadoop3/R/lib/SparkR/help/aliases.rds\n",
            "spark-3.3.0-bin-hadoop3/R/lib/SparkR/help/SparkR.rdx\n",
            "spark-3.3.0-bin-hadoop3/R/lib/SparkR/help/AnIndex\n",
            "spark-3.3.0-bin-hadoop3/R/lib/SparkR/help/paths.rds\n",
            "spark-3.3.0-bin-hadoop3/R/lib/SparkR/R/\n",
            "spark-3.3.0-bin-hadoop3/R/lib/SparkR/R/SparkR.rdb\n",
            "spark-3.3.0-bin-hadoop3/R/lib/SparkR/R/SparkR.rdx\n",
            "spark-3.3.0-bin-hadoop3/R/lib/SparkR/R/SparkR\n",
            "spark-3.3.0-bin-hadoop3/R/lib/SparkR/NAMESPACE\n",
            "spark-3.3.0-bin-hadoop3/R/lib/SparkR/doc/\n",
            "spark-3.3.0-bin-hadoop3/R/lib/SparkR/doc/sparkr-vignettes.Rmd\n",
            "spark-3.3.0-bin-hadoop3/R/lib/SparkR/doc/index.html\n",
            "spark-3.3.0-bin-hadoop3/R/lib/SparkR/doc/sparkr-vignettes.html\n",
            "spark-3.3.0-bin-hadoop3/R/lib/SparkR/doc/sparkr-vignettes.R\n",
            "spark-3.3.0-bin-hadoop3/R/lib/SparkR/html/\n",
            "spark-3.3.0-bin-hadoop3/R/lib/SparkR/html/00Index.html\n",
            "spark-3.3.0-bin-hadoop3/R/lib/SparkR/html/R.css\n",
            "spark-3.3.0-bin-hadoop3/R/lib/SparkR/worker/\n",
            "spark-3.3.0-bin-hadoop3/R/lib/SparkR/worker/worker.R\n",
            "spark-3.3.0-bin-hadoop3/R/lib/SparkR/worker/daemon.R\n",
            "spark-3.3.0-bin-hadoop3/README.md\n",
            "spark-3.3.0-bin-hadoop3/RELEASE\n",
            "spark-3.3.0-bin-hadoop3/yarn/\n",
            "spark-3.3.0-bin-hadoop3/yarn/spark-3.3.0-yarn-shuffle.jar\n",
            "spark-3.3.0-bin-hadoop3/LICENSE\n",
            "spark-3.3.0-bin-hadoop3/sbin/\n",
            "spark-3.3.0-bin-hadoop3/sbin/start-workers.sh\n",
            "spark-3.3.0-bin-hadoop3/sbin/stop-mesos-shuffle-service.sh\n",
            "spark-3.3.0-bin-hadoop3/sbin/start-master.sh\n",
            "spark-3.3.0-bin-hadoop3/sbin/workers.sh\n",
            "spark-3.3.0-bin-hadoop3/sbin/start-worker.sh\n",
            "spark-3.3.0-bin-hadoop3/sbin/spark-config.sh\n",
            "spark-3.3.0-bin-hadoop3/sbin/start-history-server.sh\n",
            "spark-3.3.0-bin-hadoop3/sbin/start-slaves.sh\n",
            "spark-3.3.0-bin-hadoop3/sbin/spark-daemon.sh\n",
            "spark-3.3.0-bin-hadoop3/sbin/stop-worker.sh\n",
            "spark-3.3.0-bin-hadoop3/sbin/stop-mesos-dispatcher.sh\n",
            "spark-3.3.0-bin-hadoop3/sbin/decommission-worker.sh\n",
            "spark-3.3.0-bin-hadoop3/sbin/start-mesos-shuffle-service.sh\n",
            "spark-3.3.0-bin-hadoop3/sbin/decommission-slave.sh\n",
            "spark-3.3.0-bin-hadoop3/sbin/slaves.sh\n",
            "spark-3.3.0-bin-hadoop3/sbin/stop-history-server.sh\n",
            "spark-3.3.0-bin-hadoop3/sbin/start-thriftserver.sh\n",
            "spark-3.3.0-bin-hadoop3/sbin/stop-thriftserver.sh\n",
            "spark-3.3.0-bin-hadoop3/sbin/start-slave.sh\n",
            "spark-3.3.0-bin-hadoop3/sbin/start-all.sh\n",
            "spark-3.3.0-bin-hadoop3/sbin/stop-slave.sh\n",
            "spark-3.3.0-bin-hadoop3/sbin/spark-daemons.sh\n",
            "spark-3.3.0-bin-hadoop3/sbin/stop-workers.sh\n",
            "spark-3.3.0-bin-hadoop3/sbin/stop-slaves.sh\n",
            "spark-3.3.0-bin-hadoop3/sbin/stop-all.sh\n",
            "spark-3.3.0-bin-hadoop3/sbin/start-mesos-dispatcher.sh\n",
            "spark-3.3.0-bin-hadoop3/sbin/stop-master.sh\n",
            "spark-3.3.0-bin-hadoop3/examples/\n",
            "spark-3.3.0-bin-hadoop3/examples/src/\n",
            "spark-3.3.0-bin-hadoop3/examples/src/main/\n",
            "spark-3.3.0-bin-hadoop3/examples/src/main/r/\n",
            "spark-3.3.0-bin-hadoop3/examples/src/main/r/ml/\n",
            "spark-3.3.0-bin-hadoop3/examples/src/main/r/ml/survreg.R\n",
            "spark-3.3.0-bin-hadoop3/examples/src/main/r/ml/glm.R\n",
            "spark-3.3.0-bin-hadoop3/examples/src/main/r/ml/prefixSpan.R\n",
            "spark-3.3.0-bin-hadoop3/examples/src/main/r/ml/lm_with_elastic_net.R\n",
            "spark-3.3.0-bin-hadoop3/examples/src/main/r/ml/powerIterationClustering.R\n",
            "spark-3.3.0-bin-hadoop3/examples/src/main/r/ml/lda.R\n",
            "spark-3.3.0-bin-hadoop3/examples/src/main/r/ml/kstest.R\n",
            "spark-3.3.0-bin-hadoop3/examples/src/main/r/ml/isoreg.R\n",
            "spark-3.3.0-bin-hadoop3/examples/src/main/r/ml/ml.R\n",
            "spark-3.3.0-bin-hadoop3/examples/src/main/r/ml/naiveBayes.R\n",
            "spark-3.3.0-bin-hadoop3/examples/src/main/r/ml/fmRegressor.R\n",
            "spark-3.3.0-bin-hadoop3/examples/src/main/r/ml/mlp.R\n",
            "spark-3.3.0-bin-hadoop3/examples/src/main/r/ml/als.R\n",
            "spark-3.3.0-bin-hadoop3/examples/src/main/r/ml/kmeans.R\n",
            "spark-3.3.0-bin-hadoop3/examples/src/main/r/ml/svmLinear.R\n",
            "spark-3.3.0-bin-hadoop3/examples/src/main/r/ml/fmClassifier.R\n",
            "spark-3.3.0-bin-hadoop3/examples/src/main/r/ml/logit.R\n",
            "spark-3.3.0-bin-hadoop3/examples/src/main/r/ml/randomForest.R\n",
            "spark-3.3.0-bin-hadoop3/examples/src/main/r/ml/gbt.R\n",
            "spark-3.3.0-bin-hadoop3/examples/src/main/r/ml/decisionTree.R\n",
            "spark-3.3.0-bin-hadoop3/examples/src/main/r/ml/gaussianMixture.R\n",
            "spark-3.3.0-bin-hadoop3/examples/src/main/r/ml/bisectingKmeans.R\n",
            "spark-3.3.0-bin-hadoop3/examples/src/main/r/ml/fpm.R\n",
            "spark-3.3.0-bin-hadoop3/examples/src/main/r/dataframe.R\n",
            "spark-3.3.0-bin-hadoop3/examples/src/main/r/RSparkSQLExample.R\n",
            "spark-3.3.0-bin-hadoop3/examples/src/main/r/data-manipulation.R\n",
            "spark-3.3.0-bin-hadoop3/examples/src/main/r/streaming/\n",
            "spark-3.3.0-bin-hadoop3/examples/src/main/r/streaming/structured_network_wordcount.R\n",
            "spark-3.3.0-bin-hadoop3/examples/src/main/scala/\n",
            "spark-3.3.0-bin-hadoop3/examples/src/main/scala/org/\n",
            "spark-3.3.0-bin-hadoop3/examples/src/main/scala/org/apache/\n",
            "spark-3.3.0-bin-hadoop3/examples/src/main/scala/org/apache/spark/\n",
            "spark-3.3.0-bin-hadoop3/examples/src/main/scala/org/apache/spark/examples/\n",
            "spark-3.3.0-bin-hadoop3/examples/src/main/scala/org/apache/spark/examples/SparkPageRank.scala\n",
            "spark-3.3.0-bin-hadoop3/examples/src/main/scala/org/apache/spark/examples/SkewedGroupByTest.scala\n",
            "spark-3.3.0-bin-hadoop3/examples/src/main/scala/org/apache/spark/examples/AccumulatorMetricsTest.scala\n",
            "spark-3.3.0-bin-hadoop3/examples/src/main/scala/org/apache/spark/examples/HdfsTest.scala\n",
            "spark-3.3.0-bin-hadoop3/examples/src/main/scala/org/apache/spark/examples/ml/\n",
            "spark-3.3.0-bin-hadoop3/examples/src/main/scala/org/apache/spark/examples/ml/Word2VecExample.scala\n",
            "spark-3.3.0-bin-hadoop3/examples/src/main/scala/org/apache/spark/examples/ml/DeveloperApiExample.scala\n",
            "spark-3.3.0-bin-hadoop3/examples/src/main/scala/org/apache/spark/examples/ml/MinHashLSHExample.scala\n",
            "spark-3.3.0-bin-hadoop3/examples/src/main/scala/org/apache/spark/examples/ml/IndexToStringExample.scala\n",
            "spark-3.3.0-bin-hadoop3/examples/src/main/scala/org/apache/spark/examples/ml/BisectingKMeansExample.scala\n",
            "spark-3.3.0-bin-hadoop3/examples/src/main/scala/org/apache/spark/examples/ml/CorrelationExample.scala\n",
            "spark-3.3.0-bin-hadoop3/examples/src/main/scala/org/apache/spark/examples/ml/MulticlassLogisticRegressionWithElasticNetExample.scala\n",
            "spark-3.3.0-bin-hadoop3/examples/src/main/scala/org/apache/spark/examples/ml/VectorSizeHintExample.scala\n",
            "spark-3.3.0-bin-hadoop3/examples/src/main/scala/org/apache/spark/examples/ml/NGramExample.scala\n",
            "spark-3.3.0-bin-hadoop3/examples/src/main/scala/org/apache/spark/examples/ml/BucketedRandomProjectionLSHExample.scala\n",
            "spark-3.3.0-bin-hadoop3/examples/src/main/scala/org/apache/spark/examples/ml/BinarizerExample.scala\n",
            "spark-3.3.0-bin-hadoop3/examples/src/main/scala/org/apache/spark/examples/ml/RandomForestExample.scala\n",
            "spark-3.3.0-bin-hadoop3/examples/src/main/scala/org/apache/spark/examples/ml/StandardScalerExample.scala\n",
            "spark-3.3.0-bin-hadoop3/examples/src/main/scala/org/apache/spark/examples/ml/LogisticRegressionExample.scala\n",
            "spark-3.3.0-bin-hadoop3/examples/src/main/scala/org/apache/spark/examples/ml/FeatureHasherExample.scala\n",
            "spark-3.3.0-bin-hadoop3/examples/src/main/scala/org/apache/spark/examples/ml/OneVsRestExample.scala\n",
            "spark-3.3.0-bin-hadoop3/examples/src/main/scala/org/apache/spark/examples/ml/StopWordsRemoverExample.scala\n",
            "spark-3.3.0-bin-hadoop3/examples/src/main/scala/org/apache/spark/examples/ml/LinearSVCExample.scala\n",
            "spark-3.3.0-bin-hadoop3/examples/src/main/scala/org/apache/spark/examples/ml/GaussianMixtureExample.scala\n",
            "spark-3.3.0-bin-hadoop3/examples/src/main/scala/org/apache/spark/examples/ml/MaxAbsScalerExample.scala\n",
            "spark-3.3.0-bin-hadoop3/examples/src/main/scala/org/apache/spark/examples/ml/VarianceThresholdSelectorExample.scala\n",
            "spark-3.3.0-bin-hadoop3/examples/src/main/scala/org/apache/spark/examples/ml/GBTExample.scala\n",
            "spark-3.3.0-bin-hadoop3/examples/src/main/scala/org/apache/spark/examples/ml/IsotonicRegressionExample.scala\n",
            "spark-3.3.0-bin-hadoop3/examples/src/main/scala/org/apache/spark/examples/ml/ModelSelectionViaCrossValidationExample.scala\n",
            "spark-3.3.0-bin-hadoop3/examples/src/main/scala/org/apache/spark/examples/ml/EstimatorTransformerParamExample.scala\n",
            "spark-3.3.0-bin-hadoop3/examples/src/main/scala/org/apache/spark/examples/ml/DecisionTreeRegressionExample.scala\n",
            "spark-3.3.0-bin-hadoop3/examples/src/main/scala/org/apache/spark/examples/ml/RandomForestRegressorExample.scala\n",
            "spark-3.3.0-bin-hadoop3/examples/src/main/scala/org/apache/spark/examples/ml/PrefixSpanExample.scala\n",
            "spark-3.3.0-bin-hadoop3/examples/src/main/scala/org/apache/spark/examples/ml/KMeansExample.scala\n",
            "spark-3.3.0-bin-hadoop3/examples/src/main/scala/org/apache/spark/examples/ml/ModelSelectionViaTrainValidationSplitExample.scala\n",
            "spark-3.3.0-bin-hadoop3/examples/src/main/scala/org/apache/spark/examples/ml/LogisticRegressionSummaryExample.scala\n",
            "spark-3.3.0-bin-hadoop3/examples/src/main/scala/org/apache/spark/examples/ml/MultilayerPerceptronClassifierExample.scala\n",
            "spark-3.3.0-bin-hadoop3/examples/src/main/scala/org/apache/spark/examples/ml/PCAExample.scala\n",
            "spark-3.3.0-bin-hadoop3/examples/src/main/scala/org/apache/spark/examples/ml/DCTExample.scala\n",
            "spark-3.3.0-bin-hadoop3/examples/src/main/scala/org/apache/spark/examples/ml/FPGrowthExample.scala\n",
            "spark-3.3.0-bin-hadoop3/examples/src/main/scala/org/apache/spark/examples/ml/ElementwiseProductExample.scala\n",
            "spark-3.3.0-bin-hadoop3/examples/src/main/scala/org/apache/spark/examples/ml/GeneralizedLinearRegressionExample.scala\n",
            "spark-3.3.0-bin-hadoop3/examples/src/main/scala/org/apache/spark/examples/ml/UnivariateFeatureSelectorExample.scala\n",
            "spark-3.3.0-bin-hadoop3/examples/src/main/scala/org/apache/spark/examples/ml/CountVectorizerExample.scala\n",
            "spark-3.3.0-bin-hadoop3/examples/src/main/scala/org/apache/spark/examples/ml/MinMaxScalerExample.scala\n",
            "spark-3.3.0-bin-hadoop3/examples/src/main/scala/org/apache/spark/examples/ml/ChiSquareTestExample.scala\n",
            "spark-3.3.0-bin-hadoop3/examples/src/main/scala/org/apache/spark/examples/ml/LogisticRegressionWithElasticNetExample.scala\n",
            "spark-3.3.0-bin-hadoop3/examples/src/main/scala/org/apache/spark/examples/ml/FMRegressorExample.scala\n",
            "spark-3.3.0-bin-hadoop3/examples/src/main/scala/org/apache/spark/examples/ml/VectorSlicerExample.scala\n",
            "spark-3.3.0-bin-hadoop3/examples/src/main/scala/org/apache/spark/examples/ml/LinearRegressionExample.scala\n",
            "spark-3.3.0-bin-hadoop3/examples/src/main/scala/org/apache/spark/examples/ml/StringIndexerExample.scala\n",
            "spark-3.3.0-bin-hadoop3/examples/src/main/scala/org/apache/spark/examples/ml/GradientBoostedTreeRegressorExample.scala\n",
            "spark-3.3.0-bin-hadoop3/examples/src/main/scala/org/apache/spark/examples/ml/ALSExample.scala\n",
            "spark-3.3.0-bin-hadoop3/examples/src/main/scala/org/apache/spark/examples/ml/DecisionTreeClassificationExample.scala\n",
            "spark-3.3.0-bin-hadoop3/examples/src/main/scala/org/apache/spark/examples/ml/PolynomialExpansionExample.scala\n",
            "spark-3.3.0-bin-hadoop3/examples/src/main/scala/org/apache/spark/examples/ml/FMClassifierExample.scala\n",
            "spark-3.3.0-bin-hadoop3/examples/src/main/scala/org/apache/spark/examples/ml/UnaryTransformerExample.scala\n",
            "spark-3.3.0-bin-hadoop3/examples/src/main/scala/org/apache/spark/examples/ml/ImputerExample.scala\n",
            "spark-3.3.0-bin-hadoop3/examples/src/main/scala/org/apache/spark/examples/ml/TokenizerExample.scala\n",
            "spark-3.3.0-bin-hadoop3/examples/src/main/scala/org/apache/spark/examples/ml/DecisionTreeExample.scala\n",
            "spark-3.3.0-bin-hadoop3/examples/src/main/scala/org/apache/spark/examples/ml/GradientBoostedTreeClassifierExample.scala\n",
            "spark-3.3.0-bin-hadoop3/examples/src/main/scala/org/apache/spark/examples/ml/PowerIterationClusteringExample.scala\n",
            "spark-3.3.0-bin-hadoop3/examples/src/main/scala/org/apache/spark/examples/ml/SQLTransformerExample.scala\n",
            "spark-3.3.0-bin-hadoop3/examples/src/main/scala/org/apache/spark/examples/ml/SummarizerExample.scala\n",
            "spark-3.3.0-bin-hadoop3/examples/src/main/scala/org/apache/spark/examples/ml/DataFrameExample.scala\n",
            "spark-3.3.0-bin-hadoop3/examples/src/main/scala/org/apache/spark/examples/ml/BucketizerExample.scala\n",
            "spark-3.3.0-bin-hadoop3/examples/src/main/scala/org/apache/spark/examples/ml/TfIdfExample.scala\n",
            "spark-3.3.0-bin-hadoop3/examples/src/main/scala/org/apache/spark/examples/ml/AFTSurvivalRegressionExample.scala\n",
            "spark-3.3.0-bin-hadoop3/examples/src/main/scala/org/apache/spark/examples/ml/QuantileDiscretizerExample.scala\n",
            "spark-3.3.0-bin-hadoop3/examples/src/main/scala/org/apache/spark/examples/ml/OneHotEncoderExample.scala\n",
            "spark-3.3.0-bin-hadoop3/examples/src/main/scala/org/apache/spark/examples/ml/PipelineExample.scala\n",
            "spark-3.3.0-bin-hadoop3/examples/src/main/scala/org/apache/spark/examples/ml/InteractionExample.scala\n",
            "spark-3.3.0-bin-hadoop3/examples/src/main/scala/org/apache/spark/examples/ml/LDAExample.scala\n",
            "spark-3.3.0-bin-hadoop3/examples/src/main/scala/org/apache/spark/examples/ml/RFormulaExample.scala\n",
            "spark-3.3.0-bin-hadoop3/examples/src/main/scala/org/apache/spark/examples/ml/VectorIndexerExample.scala\n",
            "spark-3.3.0-bin-hadoop3/examples/src/main/scala/org/apache/spark/examples/ml/VectorAssemblerExample.scala\n",
            "spark-3.3.0-bin-hadoop3/examples/src/main/scala/org/apache/spark/examples/ml/NormalizerExample.scala\n",
            "spark-3.3.0-bin-hadoop3/examples/src/main/scala/org/apache/spark/examples/ml/ChiSqSelectorExample.scala\n",
            "spark-3.3.0-bin-hadoop3/examples/src/main/scala/org/apache/spark/examples/ml/NaiveBayesExample.scala\n",
            "spark-3.3.0-bin-hadoop3/examples/src/main/scala/org/apache/spark/examples/ml/RandomForestClassifierExample.scala\n",
            "spark-3.3.0-bin-hadoop3/examples/src/main/scala/org/apache/spark/examples/ml/LinearRegressionWithElasticNetExample.scala\n",
            "spark-3.3.0-bin-hadoop3/examples/src/main/scala/org/apache/spark/examples/ml/RobustScalerExample.scala\n",
            "spark-3.3.0-bin-hadoop3/examples/src/main/scala/org/apache/spark/examples/LogQuery.scala\n",
            "spark-3.3.0-bin-hadoop3/examples/src/main/scala/org/apache/spark/examples/SparkRemoteFileTest.scala\n",
            "spark-3.3.0-bin-hadoop3/examples/src/main/scala/org/apache/spark/examples/ExceptionHandlingTest.scala\n",
            "spark-3.3.0-bin-hadoop3/examples/src/main/scala/org/apache/spark/examples/pythonconverters/\n",
            "spark-3.3.0-bin-hadoop3/examples/src/main/scala/org/apache/spark/examples/pythonconverters/AvroConverters.scala\n",
            "spark-3.3.0-bin-hadoop3/examples/src/main/scala/org/apache/spark/examples/BroadcastTest.scala\n",
            "spark-3.3.0-bin-hadoop3/examples/src/main/scala/org/apache/spark/examples/SparkHdfsLR.scala\n",
            "spark-3.3.0-bin-hadoop3/examples/src/main/scala/org/apache/spark/examples/mllib/\n",
            "spark-3.3.0-bin-hadoop3/examples/src/main/scala/org/apache/spark/examples/mllib/Word2VecExample.scala\n",
            "spark-3.3.0-bin-hadoop3/examples/src/main/scala/org/apache/spark/examples/mllib/GradientBoostedTreesRunner.scala\n",
            "spark-3.3.0-bin-hadoop3/examples/src/main/scala/org/apache/spark/examples/mllib/RandomRDDGeneration.scala\n",
            "spark-3.3.0-bin-hadoop3/examples/src/main/scala/org/apache/spark/examples/mllib/PMMLModelExportExample.scala\n",
            "spark-3.3.0-bin-hadoop3/examples/src/main/scala/org/apache/spark/examples/mllib/BisectingKMeansExample.scala\n",
            "spark-3.3.0-bin-hadoop3/examples/src/main/scala/org/apache/spark/examples/mllib/DecisionTreeRunner.scala\n",
            "spark-3.3.0-bin-hadoop3/examples/src/main/scala/org/apache/spark/examples/mllib/MultiLabelMetricsExample.scala\n",
            "spark-3.3.0-bin-hadoop3/examples/src/main/scala/org/apache/spark/examples/mllib/CorrelationsExample.scala\n",
            "spark-3.3.0-bin-hadoop3/examples/src/main/scala/org/apache/spark/examples/mllib/LBFGSExample.scala\n",
            "spark-3.3.0-bin-hadoop3/examples/src/main/scala/org/apache/spark/examples/mllib/TFIDFExample.scala\n",
            "spark-3.3.0-bin-hadoop3/examples/src/main/scala/org/apache/spark/examples/mllib/StandardScalerExample.scala\n",
            "spark-3.3.0-bin-hadoop3/examples/src/main/scala/org/apache/spark/examples/mllib/LogisticRegressionWithLBFGSExample.scala\n",
            "spark-3.3.0-bin-hadoop3/examples/src/main/scala/org/apache/spark/examples/mllib/StreamingTestExample.scala\n",
            "spark-3.3.0-bin-hadoop3/examples/src/main/scala/org/apache/spark/examples/mllib/BinaryClassification.scala\n",
            "spark-3.3.0-bin-hadoop3/examples/src/main/scala/org/apache/spark/examples/mllib/DenseKMeans.scala\n",
            "spark-3.3.0-bin-hadoop3/examples/src/main/scala/org/apache/spark/examples/mllib/GradientBoostingClassificationExample.scala\n",
            "spark-3.3.0-bin-hadoop3/examples/src/main/scala/org/apache/spark/examples/mllib/RankingMetricsExample.scala\n",
            "spark-3.3.0-bin-hadoop3/examples/src/main/scala/org/apache/spark/examples/mllib/GaussianMixtureExample.scala\n",
            "spark-3.3.0-bin-hadoop3/examples/src/main/scala/org/apache/spark/examples/mllib/MultivariateSummarizer.scala\n",
            "spark-3.3.0-bin-hadoop3/examples/src/main/scala/org/apache/spark/examples/mllib/IsotonicRegressionExample.scala\n",
            "spark-3.3.0-bin-hadoop3/examples/src/main/scala/org/apache/spark/examples/mllib/PCAOnSourceVectorExample.scala\n",
            "spark-3.3.0-bin-hadoop3/examples/src/main/scala/org/apache/spark/examples/mllib/Correlations.scala\n",
            "spark-3.3.0-bin-hadoop3/examples/src/main/scala/org/apache/spark/examples/mllib/HypothesisTestingExample.scala\n",
            "spark-3.3.0-bin-hadoop3/examples/src/main/scala/org/apache/spark/examples/mllib/DecisionTreeRegressionExample.scala\n",
            "spark-3.3.0-bin-hadoop3/examples/src/main/scala/org/apache/spark/examples/mllib/AssociationRulesExample.scala\n",
            "spark-3.3.0-bin-hadoop3/examples/src/main/scala/org/apache/spark/examples/mllib/StreamingLogisticRegression.scala\n",
            "spark-3.3.0-bin-hadoop3/examples/src/main/scala/org/apache/spark/examples/mllib/SVDExample.scala\n",
            "spark-3.3.0-bin-hadoop3/examples/src/main/scala/org/apache/spark/examples/mllib/PrefixSpanExample.scala\n",
            "spark-3.3.0-bin-hadoop3/examples/src/main/scala/org/apache/spark/examples/mllib/KMeansExample.scala\n",
            "spark-3.3.0-bin-hadoop3/examples/src/main/scala/org/apache/spark/examples/mllib/SparseNaiveBayes.scala\n",
            "spark-3.3.0-bin-hadoop3/examples/src/main/scala/org/apache/spark/examples/mllib/AbstractParams.scala\n",
            "spark-3.3.0-bin-hadoop3/examples/src/main/scala/org/apache/spark/examples/mllib/BinaryClassificationMetricsExample.scala\n",
            "spark-3.3.0-bin-hadoop3/examples/src/main/scala/org/apache/spark/examples/mllib/SampledRDDs.scala\n",
            "spark-3.3.0-bin-hadoop3/examples/src/main/scala/org/apache/spark/examples/mllib/FPGrowthExample.scala\n",
            "spark-3.3.0-bin-hadoop3/examples/src/main/scala/org/apache/spark/examples/mllib/ElementwiseProductExample.scala\n",
            "spark-3.3.0-bin-hadoop3/examples/src/main/scala/org/apache/spark/examples/mllib/RecommendationExample.scala\n",
            "spark-3.3.0-bin-hadoop3/examples/src/main/scala/org/apache/spark/examples/mllib/TallSkinnySVD.scala\n",
            "spark-3.3.0-bin-hadoop3/examples/src/main/scala/org/apache/spark/examples/mllib/HypothesisTestingKolmogorovSmirnovTestExample.scala\n",
            "spark-3.3.0-bin-hadoop3/examples/src/main/scala/org/apache/spark/examples/mllib/GradientBoostingRegressionExample.scala\n",
            "spark-3.3.0-bin-hadoop3/examples/src/main/scala/org/apache/spark/examples/mllib/StreamingKMeansExample.scala\n",
            "spark-3.3.0-bin-hadoop3/examples/src/main/scala/org/apache/spark/examples/mllib/CosineSimilarity.scala\n",
            "spark-3.3.0-bin-hadoop3/examples/src/main/scala/org/apache/spark/examples/mllib/RandomForestRegressionExample.scala\n",
            "spark-3.3.0-bin-hadoop3/examples/src/main/scala/org/apache/spark/examples/mllib/StreamingLinearRegressionExample.scala\n",
            "spark-3.3.0-bin-hadoop3/examples/src/main/scala/org/apache/spark/examples/mllib/StratifiedSamplingExample.scala\n",
            "spark-3.3.0-bin-hadoop3/examples/src/main/scala/org/apache/spark/examples/mllib/DecisionTreeClassificationExample.scala\n",
            "spark-3.3.0-bin-hadoop3/examples/src/main/scala/org/apache/spark/examples/mllib/TallSkinnyPCA.scala\n",
            "spark-3.3.0-bin-hadoop3/examples/src/main/scala/org/apache/spark/examples/mllib/RandomForestClassificationExample.scala\n",
            "spark-3.3.0-bin-hadoop3/examples/src/main/scala/org/apache/spark/examples/mllib/SimpleFPGrowth.scala\n",
            "spark-3.3.0-bin-hadoop3/examples/src/main/scala/org/apache/spark/examples/mllib/LatentDirichletAllocationExample.scala\n",
            "spark-3.3.0-bin-hadoop3/examples/src/main/scala/org/apache/spark/examples/mllib/KernelDensityEstimationExample.scala\n",
            "spark-3.3.0-bin-hadoop3/examples/src/main/scala/org/apache/spark/examples/mllib/PowerIterationClusteringExample.scala\n",
            "spark-3.3.0-bin-hadoop3/examples/src/main/scala/org/apache/spark/examples/mllib/SVMWithSGDExample.scala\n",
            "spark-3.3.0-bin-hadoop3/examples/src/main/scala/org/apache/spark/examples/mllib/LDAExample.scala\n",
            "spark-3.3.0-bin-hadoop3/examples/src/main/scala/org/apache/spark/examples/mllib/MovieLensALS.scala\n",
            "spark-3.3.0-bin-hadoop3/examples/src/main/scala/org/apache/spark/examples/mllib/NormalizerExample.scala\n",
            "spark-3.3.0-bin-hadoop3/examples/src/main/scala/org/apache/spark/examples/mllib/MulticlassMetricsExample.scala\n",
            "spark-3.3.0-bin-hadoop3/examples/src/main/scala/org/apache/spark/examples/mllib/ChiSqSelectorExample.scala\n",
            "spark-3.3.0-bin-hadoop3/examples/src/main/scala/org/apache/spark/examples/mllib/SummaryStatisticsExample.scala\n",
            "spark-3.3.0-bin-hadoop3/examples/src/main/scala/org/apache/spark/examples/mllib/PCAOnRowMatrixExample.scala\n",
            "spark-3.3.0-bin-hadoop3/examples/src/main/scala/org/apache/spark/examples/mllib/NaiveBayesExample.scala\n",
            "spark-3.3.0-bin-hadoop3/examples/src/main/scala/org/apache/spark/examples/SparkTC.scala\n",
            "spark-3.3.0-bin-hadoop3/examples/src/main/scala/org/apache/spark/examples/DriverSubmissionTest.scala\n",
            "spark-3.3.0-bin-hadoop3/examples/src/main/scala/org/apache/spark/examples/MultiBroadcastTest.scala\n",
            "spark-3.3.0-bin-hadoop3/examples/src/main/scala/org/apache/spark/examples/SparkLR.scala\n",
            "spark-3.3.0-bin-hadoop3/examples/src/main/scala/org/apache/spark/examples/SparkPi.scala\n",
            "spark-3.3.0-bin-hadoop3/examples/src/main/scala/org/apache/spark/examples/graphx/\n",
            "spark-3.3.0-bin-hadoop3/examples/src/main/scala/org/apache/spark/examples/graphx/ConnectedComponentsExample.scala\n",
            "spark-3.3.0-bin-hadoop3/examples/src/main/scala/org/apache/spark/examples/graphx/LiveJournalPageRank.scala\n",
            "spark-3.3.0-bin-hadoop3/examples/src/main/scala/org/apache/spark/examples/graphx/AggregateMessagesExample.scala\n",
            "spark-3.3.0-bin-hadoop3/examples/src/main/scala/org/apache/spark/examples/graphx/SSSPExample.scala\n",
            "spark-3.3.0-bin-hadoop3/examples/src/main/scala/org/apache/spark/examples/graphx/SynthBenchmark.scala\n",
            "spark-3.3.0-bin-hadoop3/examples/src/main/scala/org/apache/spark/examples/graphx/TriangleCountingExample.scala\n",
            "spark-3.3.0-bin-hadoop3/examples/src/main/scala/org/apache/spark/examples/graphx/PageRankExample.scala\n",
            "spark-3.3.0-bin-hadoop3/examples/src/main/scala/org/apache/spark/examples/graphx/ComprehensiveExample.scala\n",
            "spark-3.3.0-bin-hadoop3/examples/src/main/scala/org/apache/spark/examples/graphx/Analytics.scala\n",
            "spark-3.3.0-bin-hadoop3/examples/src/main/scala/org/apache/spark/examples/SparkKMeans.scala\n",
            "spark-3.3.0-bin-hadoop3/examples/src/main/scala/org/apache/spark/examples/streaming/\n",
            "spark-3.3.0-bin-hadoop3/examples/src/main/scala/org/apache/spark/examples/streaming/clickstream/\n",
            "spark-3.3.0-bin-hadoop3/examples/src/main/scala/org/apache/spark/examples/streaming/clickstream/PageViewGenerator.scala\n",
            "spark-3.3.0-bin-hadoop3/examples/src/main/scala/org/apache/spark/examples/streaming/clickstream/PageViewStream.scala\n",
            "spark-3.3.0-bin-hadoop3/examples/src/main/scala/org/apache/spark/examples/streaming/DirectKafkaWordCount.scala\n",
            "spark-3.3.0-bin-hadoop3/examples/src/main/scala/org/apache/spark/examples/streaming/HdfsWordCount.scala\n",
            "spark-3.3.0-bin-hadoop3/examples/src/main/scala/org/apache/spark/examples/streaming/DirectKerberizedKafkaWordCount.scala\n",
            "spark-3.3.0-bin-hadoop3/examples/src/main/scala/org/apache/spark/examples/streaming/RecoverableNetworkWordCount.scala\n",
            "spark-3.3.0-bin-hadoop3/examples/src/main/scala/org/apache/spark/examples/streaming/NetworkWordCount.scala\n",
            "spark-3.3.0-bin-hadoop3/examples/src/main/scala/org/apache/spark/examples/streaming/QueueStream.scala\n",
            "spark-3.3.0-bin-hadoop3/examples/src/main/scala/org/apache/spark/examples/streaming/SqlNetworkWordCount.scala\n",
            "spark-3.3.0-bin-hadoop3/examples/src/main/scala/org/apache/spark/examples/streaming/CustomReceiver.scala\n",
            "spark-3.3.0-bin-hadoop3/examples/src/main/scala/org/apache/spark/examples/streaming/RawNetworkGrep.scala\n",
            "spark-3.3.0-bin-hadoop3/examples/src/main/scala/org/apache/spark/examples/streaming/StatefulNetworkWordCount.scala\n",
            "spark-3.3.0-bin-hadoop3/examples/src/main/scala/org/apache/spark/examples/streaming/StreamingExamples.scala\n",
            "spark-3.3.0-bin-hadoop3/examples/src/main/scala/org/apache/spark/examples/LocalLR.scala\n",
            "spark-3.3.0-bin-hadoop3/examples/src/main/scala/org/apache/spark/examples/LocalKMeans.scala\n",
            "spark-3.3.0-bin-hadoop3/examples/src/main/scala/org/apache/spark/examples/GroupByTest.scala\n",
            "spark-3.3.0-bin-hadoop3/examples/src/main/scala/org/apache/spark/examples/LocalALS.scala\n",
            "spark-3.3.0-bin-hadoop3/examples/src/main/scala/org/apache/spark/examples/sql/\n",
            "spark-3.3.0-bin-hadoop3/examples/src/main/scala/org/apache/spark/examples/sql/SimpleTypedAggregator.scala\n",
            "spark-3.3.0-bin-hadoop3/examples/src/main/scala/org/apache/spark/examples/sql/UserDefinedUntypedAggregation.scala\n",
            "spark-3.3.0-bin-hadoop3/examples/src/main/scala/org/apache/spark/examples/sql/hive/\n",
            "spark-3.3.0-bin-hadoop3/examples/src/main/scala/org/apache/spark/examples/sql/hive/SparkHiveExample.scala\n",
            "spark-3.3.0-bin-hadoop3/examples/src/main/scala/org/apache/spark/examples/sql/RDDRelation.scala\n",
            "spark-3.3.0-bin-hadoop3/examples/src/main/scala/org/apache/spark/examples/sql/SparkSQLExample.scala\n",
            "spark-3.3.0-bin-hadoop3/examples/src/main/scala/org/apache/spark/examples/sql/SQLDataSourceExample.scala\n",
            "spark-3.3.0-bin-hadoop3/examples/src/main/scala/org/apache/spark/examples/sql/streaming/\n",
            "spark-3.3.0-bin-hadoop3/examples/src/main/scala/org/apache/spark/examples/sql/streaming/StructuredKerberizedKafkaWordCount.scala\n",
            "spark-3.3.0-bin-hadoop3/examples/src/main/scala/org/apache/spark/examples/sql/streaming/StructuredComplexSessionization.scala\n",
            "spark-3.3.0-bin-hadoop3/examples/src/main/scala/org/apache/spark/examples/sql/streaming/StructuredNetworkWordCount.scala\n",
            "spark-3.3.0-bin-hadoop3/examples/src/main/scala/org/apache/spark/examples/sql/streaming/StructuredNetworkWordCountWindowed.scala\n",
            "spark-3.3.0-bin-hadoop3/examples/src/main/scala/org/apache/spark/examples/sql/streaming/StructuredKafkaWordCount.scala\n",
            "spark-3.3.0-bin-hadoop3/examples/src/main/scala/org/apache/spark/examples/sql/streaming/StructuredSessionization.scala\n",
            "spark-3.3.0-bin-hadoop3/examples/src/main/scala/org/apache/spark/examples/sql/UserDefinedTypedAggregation.scala\n",
            "spark-3.3.0-bin-hadoop3/examples/src/main/scala/org/apache/spark/examples/sql/UserDefinedScalar.scala\n",
            "spark-3.3.0-bin-hadoop3/examples/src/main/scala/org/apache/spark/examples/sql/jdbc/\n",
            "spark-3.3.0-bin-hadoop3/examples/src/main/scala/org/apache/spark/examples/sql/jdbc/ExampleJdbcConnectionProvider.scala\n",
            "spark-3.3.0-bin-hadoop3/examples/src/main/scala/org/apache/spark/examples/SimpleSkewedGroupByTest.scala\n",
            "spark-3.3.0-bin-hadoop3/examples/src/main/scala/org/apache/spark/examples/extensions/\n",
            "spark-3.3.0-bin-hadoop3/examples/src/main/scala/org/apache/spark/examples/extensions/SparkSessionExtensionsTest.scala\n",
            "spark-3.3.0-bin-hadoop3/examples/src/main/scala/org/apache/spark/examples/extensions/SessionExtensionsWithoutLoader.scala\n",
            "spark-3.3.0-bin-hadoop3/examples/src/main/scala/org/apache/spark/examples/extensions/SessionExtensionsWithLoader.scala\n",
            "spark-3.3.0-bin-hadoop3/examples/src/main/scala/org/apache/spark/examples/extensions/AgeExample.scala\n",
            "spark-3.3.0-bin-hadoop3/examples/src/main/scala/org/apache/spark/examples/LocalFileLR.scala\n",
            "spark-3.3.0-bin-hadoop3/examples/src/main/scala/org/apache/spark/examples/MiniReadWriteTest.scala\n",
            "spark-3.3.0-bin-hadoop3/examples/src/main/scala/org/apache/spark/examples/LocalPi.scala\n",
            "spark-3.3.0-bin-hadoop3/examples/src/main/scala/org/apache/spark/examples/DFSReadWriteTest.scala\n",
            "spark-3.3.0-bin-hadoop3/examples/src/main/scala/org/apache/spark/examples/SparkALS.scala\n",
            "spark-3.3.0-bin-hadoop3/examples/src/main/resources/\n",
            "spark-3.3.0-bin-hadoop3/examples/src/main/resources/people.json\n",
            "spark-3.3.0-bin-hadoop3/examples/src/main/resources/users.avro\n",
            "spark-3.3.0-bin-hadoop3/examples/src/main/resources/people.csv\n",
            "spark-3.3.0-bin-hadoop3/examples/src/main/resources/users.parquet\n",
            "spark-3.3.0-bin-hadoop3/examples/src/main/resources/META-INF/\n",
            "spark-3.3.0-bin-hadoop3/examples/src/main/resources/META-INF/services/\n",
            "spark-3.3.0-bin-hadoop3/examples/src/main/resources/META-INF/services/org.apache.spark.sql.SparkSessionExtensionsProvider\n",
            "spark-3.3.0-bin-hadoop3/examples/src/main/resources/META-INF/services/org.apache.spark.sql.jdbc.JdbcConnectionProvider\n",
            "spark-3.3.0-bin-hadoop3/examples/src/main/resources/users.orc\n",
            "spark-3.3.0-bin-hadoop3/examples/src/main/resources/dir1/\n",
            "spark-3.3.0-bin-hadoop3/examples/src/main/resources/dir1/file1.parquet\n",
            "spark-3.3.0-bin-hadoop3/examples/src/main/resources/dir1/dir2/\n",
            "spark-3.3.0-bin-hadoop3/examples/src/main/resources/dir1/dir2/file2.parquet\n",
            "spark-3.3.0-bin-hadoop3/examples/src/main/resources/dir1/file3.json\n",
            "spark-3.3.0-bin-hadoop3/examples/src/main/resources/user.avsc\n",
            "spark-3.3.0-bin-hadoop3/examples/src/main/resources/full_user.avsc\n",
            "spark-3.3.0-bin-hadoop3/examples/src/main/resources/kv1.txt\n",
            "spark-3.3.0-bin-hadoop3/examples/src/main/resources/people.txt\n",
            "spark-3.3.0-bin-hadoop3/examples/src/main/resources/employees.json\n",
            "spark-3.3.0-bin-hadoop3/examples/src/main/java/\n",
            "spark-3.3.0-bin-hadoop3/examples/src/main/java/org/\n",
            "spark-3.3.0-bin-hadoop3/examples/src/main/java/org/apache/\n",
            "spark-3.3.0-bin-hadoop3/examples/src/main/java/org/apache/spark/\n",
            "spark-3.3.0-bin-hadoop3/examples/src/main/java/org/apache/spark/examples/\n",
            "spark-3.3.0-bin-hadoop3/examples/src/main/java/org/apache/spark/examples/ml/\n",
            "spark-3.3.0-bin-hadoop3/examples/src/main/java/org/apache/spark/examples/ml/JavaStringIndexerExample.java\n",
            "spark-3.3.0-bin-hadoop3/examples/src/main/java/org/apache/spark/examples/ml/JavaChiSqSelectorExample.java\n",
            "spark-3.3.0-bin-hadoop3/examples/src/main/java/org/apache/spark/examples/ml/JavaLabeledDocument.java\n",
            "spark-3.3.0-bin-hadoop3/examples/src/main/java/org/apache/spark/examples/ml/JavaLogisticRegressionWithElasticNetExample.java\n",
            "spark-3.3.0-bin-hadoop3/examples/src/main/java/org/apache/spark/examples/ml/JavaPolynomialExpansionExample.java\n",
            "spark-3.3.0-bin-hadoop3/examples/src/main/java/org/apache/spark/examples/ml/JavaTfIdfExample.java\n",
            "spark-3.3.0-bin-hadoop3/examples/src/main/java/org/apache/spark/examples/ml/JavaBucketizerExample.java\n",
            "spark-3.3.0-bin-hadoop3/examples/src/main/java/org/apache/spark/examples/ml/JavaLogisticRegressionSummaryExample.java\n",
            "spark-3.3.0-bin-hadoop3/examples/src/main/java/org/apache/spark/examples/ml/JavaSummarizerExample.java\n",
            "spark-3.3.0-bin-hadoop3/examples/src/main/java/org/apache/spark/examples/ml/JavaQuantileDiscretizerExample.java\n",
            "spark-3.3.0-bin-hadoop3/examples/src/main/java/org/apache/spark/examples/ml/JavaBinarizerExample.java\n",
            "spark-3.3.0-bin-hadoop3/examples/src/main/java/org/apache/spark/examples/ml/JavaOneHotEncoderExample.java\n",
            "spark-3.3.0-bin-hadoop3/examples/src/main/java/org/apache/spark/examples/ml/JavaStandardScalerExample.java\n",
            "spark-3.3.0-bin-hadoop3/examples/src/main/java/org/apache/spark/examples/ml/JavaDCTExample.java\n",
            "spark-3.3.0-bin-hadoop3/examples/src/main/java/org/apache/spark/examples/ml/JavaDecisionTreeRegressionExample.java\n",
            "spark-3.3.0-bin-hadoop3/examples/src/main/java/org/apache/spark/examples/ml/JavaRandomForestClassifierExample.java\n",
            "spark-3.3.0-bin-hadoop3/examples/src/main/java/org/apache/spark/examples/ml/JavaOneVsRestExample.java\n",
            "spark-3.3.0-bin-hadoop3/examples/src/main/java/org/apache/spark/examples/ml/JavaGeneralizedLinearRegressionExample.java\n",
            "spark-3.3.0-bin-hadoop3/examples/src/main/java/org/apache/spark/examples/ml/JavaGaussianMixtureExample.java\n",
            "spark-3.3.0-bin-hadoop3/examples/src/main/java/org/apache/spark/examples/ml/JavaWord2VecExample.java\n",
            "spark-3.3.0-bin-hadoop3/examples/src/main/java/org/apache/spark/examples/ml/JavaNormalizerExample.java\n",
            "spark-3.3.0-bin-hadoop3/examples/src/main/java/org/apache/spark/examples/ml/JavaLDAExample.java\n",
            "spark-3.3.0-bin-hadoop3/examples/src/main/java/org/apache/spark/examples/ml/JavaCountVectorizerExample.java\n",
            "spark-3.3.0-bin-hadoop3/examples/src/main/java/org/apache/spark/examples/ml/JavaMultilayerPerceptronClassifierExample.java\n",
            "spark-3.3.0-bin-hadoop3/examples/src/main/java/org/apache/spark/examples/ml/JavaMinMaxScalerExample.java\n",
            "spark-3.3.0-bin-hadoop3/examples/src/main/java/org/apache/spark/examples/ml/JavaCorrelationExample.java\n",
            "spark-3.3.0-bin-hadoop3/examples/src/main/java/org/apache/spark/examples/ml/JavaNGramExample.java\n",
            "spark-3.3.0-bin-hadoop3/examples/src/main/java/org/apache/spark/examples/ml/JavaImputerExample.java\n",
            "spark-3.3.0-bin-hadoop3/examples/src/main/java/org/apache/spark/examples/ml/JavaMinHashLSHExample.java\n",
            "spark-3.3.0-bin-hadoop3/examples/src/main/java/org/apache/spark/examples/ml/JavaVectorSizeHintExample.java\n",
            "spark-3.3.0-bin-hadoop3/examples/src/main/java/org/apache/spark/examples/ml/JavaFMClassifierExample.java\n",
            "spark-3.3.0-bin-hadoop3/examples/src/main/java/org/apache/spark/examples/ml/JavaFeatureHasherExample.java\n",
            "spark-3.3.0-bin-hadoop3/examples/src/main/java/org/apache/spark/examples/ml/JavaModelSelectionViaTrainValidationSplitExample.java\n",
            "spark-3.3.0-bin-hadoop3/examples/src/main/java/org/apache/spark/examples/ml/JavaSQLTransformerExample.java\n",
            "spark-3.3.0-bin-hadoop3/examples/src/main/java/org/apache/spark/examples/ml/JavaKMeansExample.java\n",
            "spark-3.3.0-bin-hadoop3/examples/src/main/java/org/apache/spark/examples/ml/JavaVectorAssemblerExample.java\n",
            "spark-3.3.0-bin-hadoop3/examples/src/main/java/org/apache/spark/examples/ml/JavaGradientBoostedTreeRegressorExample.java\n",
            "spark-3.3.0-bin-hadoop3/examples/src/main/java/org/apache/spark/examples/ml/JavaPrefixSpanExample.java\n",
            "spark-3.3.0-bin-hadoop3/examples/src/main/java/org/apache/spark/examples/ml/JavaFMRegressorExample.java\n",
            "spark-3.3.0-bin-hadoop3/examples/src/main/java/org/apache/spark/examples/ml/JavaNaiveBayesExample.java\n",
            "spark-3.3.0-bin-hadoop3/examples/src/main/java/org/apache/spark/examples/ml/JavaMulticlassLogisticRegressionWithElasticNetExample.java\n",
            "spark-3.3.0-bin-hadoop3/examples/src/main/java/org/apache/spark/examples/ml/JavaModelSelectionViaCrossValidationExample.java\n",
            "spark-3.3.0-bin-hadoop3/examples/src/main/java/org/apache/spark/examples/ml/JavaDocument.java\n",
            "spark-3.3.0-bin-hadoop3/examples/src/main/java/org/apache/spark/examples/ml/JavaUnivariateFeatureSelectorExample.java\n",
            "spark-3.3.0-bin-hadoop3/examples/src/main/java/org/apache/spark/examples/ml/JavaGradientBoostedTreeClassifierExample.java\n",
            "spark-3.3.0-bin-hadoop3/examples/src/main/java/org/apache/spark/examples/ml/JavaRandomForestRegressorExample.java\n",
            "spark-3.3.0-bin-hadoop3/examples/src/main/java/org/apache/spark/examples/ml/JavaAFTSurvivalRegressionExample.java\n",
            "spark-3.3.0-bin-hadoop3/examples/src/main/java/org/apache/spark/examples/ml/JavaIsotonicRegressionExample.java\n",
            "spark-3.3.0-bin-hadoop3/examples/src/main/java/org/apache/spark/examples/ml/JavaElementwiseProductExample.java\n",
            "spark-3.3.0-bin-hadoop3/examples/src/main/java/org/apache/spark/examples/ml/JavaALSExample.java\n",
            "spark-3.3.0-bin-hadoop3/examples/src/main/java/org/apache/spark/examples/ml/JavaBucketedRandomProjectionLSHExample.java\n",
            "spark-3.3.0-bin-hadoop3/examples/src/main/java/org/apache/spark/examples/ml/JavaVarianceThresholdSelectorExample.java\n",
            "spark-3.3.0-bin-hadoop3/examples/src/main/java/org/apache/spark/examples/ml/JavaVectorSlicerExample.java\n",
            "spark-3.3.0-bin-hadoop3/examples/src/main/java/org/apache/spark/examples/ml/JavaTokenizerExample.java\n",
            "spark-3.3.0-bin-hadoop3/examples/src/main/java/org/apache/spark/examples/ml/JavaRFormulaExample.java\n",
            "spark-3.3.0-bin-hadoop3/examples/src/main/java/org/apache/spark/examples/ml/JavaEstimatorTransformerParamExample.java\n",
            "spark-3.3.0-bin-hadoop3/examples/src/main/java/org/apache/spark/examples/ml/JavaPowerIterationClusteringExample.java\n",
            "spark-3.3.0-bin-hadoop3/examples/src/main/java/org/apache/spark/examples/ml/JavaBisectingKMeansExample.java\n",
            "spark-3.3.0-bin-hadoop3/examples/src/main/java/org/apache/spark/examples/ml/JavaMaxAbsScalerExample.java\n",
            "spark-3.3.0-bin-hadoop3/examples/src/main/java/org/apache/spark/examples/ml/JavaDecisionTreeClassificationExample.java\n",
            "spark-3.3.0-bin-hadoop3/examples/src/main/java/org/apache/spark/examples/ml/JavaPCAExample.java\n",
            "spark-3.3.0-bin-hadoop3/examples/src/main/java/org/apache/spark/examples/ml/JavaPipelineExample.java\n",
            "spark-3.3.0-bin-hadoop3/examples/src/main/java/org/apache/spark/examples/ml/JavaStopWordsRemoverExample.java\n",
            "spark-3.3.0-bin-hadoop3/examples/src/main/java/org/apache/spark/examples/ml/JavaIndexToStringExample.java\n",
            "spark-3.3.0-bin-hadoop3/examples/src/main/java/org/apache/spark/examples/ml/JavaFPGrowthExample.java\n",
            "spark-3.3.0-bin-hadoop3/examples/src/main/java/org/apache/spark/examples/ml/JavaVectorIndexerExample.java\n",
            "spark-3.3.0-bin-hadoop3/examples/src/main/java/org/apache/spark/examples/ml/JavaInteractionExample.java\n",
            "spark-3.3.0-bin-hadoop3/examples/src/main/java/org/apache/spark/examples/ml/JavaChiSquareTestExample.java\n",
            "spark-3.3.0-bin-hadoop3/examples/src/main/java/org/apache/spark/examples/ml/JavaRobustScalerExample.java\n",
            "spark-3.3.0-bin-hadoop3/examples/src/main/java/org/apache/spark/examples/ml/JavaLinearRegressionWithElasticNetExample.java\n",
            "spark-3.3.0-bin-hadoop3/examples/src/main/java/org/apache/spark/examples/ml/JavaLinearSVCExample.java\n",
            "spark-3.3.0-bin-hadoop3/examples/src/main/java/org/apache/spark/examples/JavaWordCount.java\n",
            "spark-3.3.0-bin-hadoop3/examples/src/main/java/org/apache/spark/examples/JavaHdfsLR.java\n",
            "spark-3.3.0-bin-hadoop3/examples/src/main/java/org/apache/spark/examples/JavaStatusTrackerDemo.java\n",
            "spark-3.3.0-bin-hadoop3/examples/src/main/java/org/apache/spark/examples/mllib/\n",
            "spark-3.3.0-bin-hadoop3/examples/src/main/java/org/apache/spark/examples/mllib/JavaChiSqSelectorExample.java\n",
            "spark-3.3.0-bin-hadoop3/examples/src/main/java/org/apache/spark/examples/mllib/JavaHypothesisTestingKolmogorovSmirnovTestExample.java\n",
            "spark-3.3.0-bin-hadoop3/examples/src/main/java/org/apache/spark/examples/mllib/JavaRandomForestRegressionExample.java\n",
            "spark-3.3.0-bin-hadoop3/examples/src/main/java/org/apache/spark/examples/mllib/JavaSimpleFPGrowth.java\n",
            "spark-3.3.0-bin-hadoop3/examples/src/main/java/org/apache/spark/examples/mllib/JavaRandomForestClassificationExample.java\n",
            "spark-3.3.0-bin-hadoop3/examples/src/main/java/org/apache/spark/examples/mllib/JavaMulticlassClassificationMetricsExample.java\n",
            "spark-3.3.0-bin-hadoop3/examples/src/main/java/org/apache/spark/examples/mllib/JavaKernelDensityEstimationExample.java\n",
            "spark-3.3.0-bin-hadoop3/examples/src/main/java/org/apache/spark/examples/mllib/JavaSummaryStatisticsExample.java\n",
            "spark-3.3.0-bin-hadoop3/examples/src/main/java/org/apache/spark/examples/mllib/JavaDecisionTreeRegressionExample.java\n",
            "spark-3.3.0-bin-hadoop3/examples/src/main/java/org/apache/spark/examples/mllib/JavaGradientBoostingClassificationExample.java\n",
            "spark-3.3.0-bin-hadoop3/examples/src/main/java/org/apache/spark/examples/mllib/JavaGaussianMixtureExample.java\n",
            "spark-3.3.0-bin-hadoop3/examples/src/main/java/org/apache/spark/examples/mllib/JavaStratifiedSamplingExample.java\n",
            "spark-3.3.0-bin-hadoop3/examples/src/main/java/org/apache/spark/examples/mllib/JavaSVDExample.java\n",
            "spark-3.3.0-bin-hadoop3/examples/src/main/java/org/apache/spark/examples/mllib/JavaAssociationRulesExample.java\n",
            "spark-3.3.0-bin-hadoop3/examples/src/main/java/org/apache/spark/examples/mllib/JavaALS.java\n",
            "spark-3.3.0-bin-hadoop3/examples/src/main/java/org/apache/spark/examples/mllib/JavaKMeansExample.java\n",
            "spark-3.3.0-bin-hadoop3/examples/src/main/java/org/apache/spark/examples/mllib/JavaSVMWithSGDExample.java\n",
            "spark-3.3.0-bin-hadoop3/examples/src/main/java/org/apache/spark/examples/mllib/JavaPrefixSpanExample.java\n",
            "spark-3.3.0-bin-hadoop3/examples/src/main/java/org/apache/spark/examples/mllib/JavaNaiveBayesExample.java\n",
            "spark-3.3.0-bin-hadoop3/examples/src/main/java/org/apache/spark/examples/mllib/JavaLogisticRegressionWithLBFGSExample.java\n",
            "spark-3.3.0-bin-hadoop3/examples/src/main/java/org/apache/spark/examples/mllib/JavaLBFGSExample.java\n",
            "spark-3.3.0-bin-hadoop3/examples/src/main/java/org/apache/spark/examples/mllib/JavaGradientBoostingRegressionExample.java\n",
            "spark-3.3.0-bin-hadoop3/examples/src/main/java/org/apache/spark/examples/mllib/JavaRankingMetricsExample.java\n",
            "spark-3.3.0-bin-hadoop3/examples/src/main/java/org/apache/spark/examples/mllib/JavaIsotonicRegressionExample.java\n",
            "spark-3.3.0-bin-hadoop3/examples/src/main/java/org/apache/spark/examples/mllib/JavaElementwiseProductExample.java\n",
            "spark-3.3.0-bin-hadoop3/examples/src/main/java/org/apache/spark/examples/mllib/JavaCorrelationsExample.java\n",
            "spark-3.3.0-bin-hadoop3/examples/src/main/java/org/apache/spark/examples/mllib/JavaPowerIterationClusteringExample.java\n",
            "spark-3.3.0-bin-hadoop3/examples/src/main/java/org/apache/spark/examples/mllib/JavaBisectingKMeansExample.java\n",
            "spark-3.3.0-bin-hadoop3/examples/src/main/java/org/apache/spark/examples/mllib/JavaDecisionTreeClassificationExample.java\n",
            "spark-3.3.0-bin-hadoop3/examples/src/main/java/org/apache/spark/examples/mllib/JavaPCAExample.java\n",
            "spark-3.3.0-bin-hadoop3/examples/src/main/java/org/apache/spark/examples/mllib/JavaRecommendationExample.java\n",
            "spark-3.3.0-bin-hadoop3/examples/src/main/java/org/apache/spark/examples/mllib/JavaLatentDirichletAllocationExample.java\n",
            "spark-3.3.0-bin-hadoop3/examples/src/main/java/org/apache/spark/examples/mllib/JavaHypothesisTestingExample.java\n",
            "spark-3.3.0-bin-hadoop3/examples/src/main/java/org/apache/spark/examples/mllib/JavaMultiLabelClassificationMetricsExample.java\n",
            "spark-3.3.0-bin-hadoop3/examples/src/main/java/org/apache/spark/examples/mllib/JavaBinaryClassificationMetricsExample.java\n",
            "spark-3.3.0-bin-hadoop3/examples/src/main/java/org/apache/spark/examples/mllib/JavaStreamingTestExample.java\n",
            "spark-3.3.0-bin-hadoop3/examples/src/main/java/org/apache/spark/examples/JavaPageRank.java\n",
            "spark-3.3.0-bin-hadoop3/examples/src/main/java/org/apache/spark/examples/JavaLogQuery.java\n",
            "spark-3.3.0-bin-hadoop3/examples/src/main/java/org/apache/spark/examples/streaming/\n",
            "spark-3.3.0-bin-hadoop3/examples/src/main/java/org/apache/spark/examples/streaming/JavaStatefulNetworkWordCount.java\n",
            "spark-3.3.0-bin-hadoop3/examples/src/main/java/org/apache/spark/examples/streaming/JavaCustomReceiver.java\n",
            "spark-3.3.0-bin-hadoop3/examples/src/main/java/org/apache/spark/examples/streaming/JavaRecord.java\n",
            "spark-3.3.0-bin-hadoop3/examples/src/main/java/org/apache/spark/examples/streaming/JavaNetworkWordCount.java\n",
            "spark-3.3.0-bin-hadoop3/examples/src/main/java/org/apache/spark/examples/streaming/JavaDirectKerberizedKafkaWordCount.java\n",
            "spark-3.3.0-bin-hadoop3/examples/src/main/java/org/apache/spark/examples/streaming/JavaDirectKafkaWordCount.java\n",
            "spark-3.3.0-bin-hadoop3/examples/src/main/java/org/apache/spark/examples/streaming/JavaSqlNetworkWordCount.java\n",
            "spark-3.3.0-bin-hadoop3/examples/src/main/java/org/apache/spark/examples/streaming/JavaRecoverableNetworkWordCount.java\n",
            "spark-3.3.0-bin-hadoop3/examples/src/main/java/org/apache/spark/examples/streaming/JavaQueueStream.java\n",
            "spark-3.3.0-bin-hadoop3/examples/src/main/java/org/apache/spark/examples/JavaSparkPi.java\n",
            "spark-3.3.0-bin-hadoop3/examples/src/main/java/org/apache/spark/examples/sql/\n",
            "spark-3.3.0-bin-hadoop3/examples/src/main/java/org/apache/spark/examples/sql/JavaUserDefinedScalar.java\n",
            "spark-3.3.0-bin-hadoop3/examples/src/main/java/org/apache/spark/examples/sql/hive/\n",
            "spark-3.3.0-bin-hadoop3/examples/src/main/java/org/apache/spark/examples/sql/hive/JavaSparkHiveExample.java\n",
            "spark-3.3.0-bin-hadoop3/examples/src/main/java/org/apache/spark/examples/sql/JavaUserDefinedTypedAggregation.java\n",
            "spark-3.3.0-bin-hadoop3/examples/src/main/java/org/apache/spark/examples/sql/JavaSQLDataSourceExample.java\n",
            "spark-3.3.0-bin-hadoop3/examples/src/main/java/org/apache/spark/examples/sql/JavaSparkSQLExample.java\n",
            "spark-3.3.0-bin-hadoop3/examples/src/main/java/org/apache/spark/examples/sql/JavaUserDefinedUntypedAggregation.java\n",
            "spark-3.3.0-bin-hadoop3/examples/src/main/java/org/apache/spark/examples/sql/streaming/\n",
            "spark-3.3.0-bin-hadoop3/examples/src/main/java/org/apache/spark/examples/sql/streaming/JavaStructuredKafkaWordCount.java\n",
            "spark-3.3.0-bin-hadoop3/examples/src/main/java/org/apache/spark/examples/sql/streaming/JavaStructuredComplexSessionization.java\n",
            "spark-3.3.0-bin-hadoop3/examples/src/main/java/org/apache/spark/examples/sql/streaming/JavaStructuredNetworkWordCountWindowed.java\n",
            "spark-3.3.0-bin-hadoop3/examples/src/main/java/org/apache/spark/examples/sql/streaming/JavaStructuredSessionization.java\n",
            "spark-3.3.0-bin-hadoop3/examples/src/main/java/org/apache/spark/examples/sql/streaming/JavaStructuredNetworkWordCount.java\n",
            "spark-3.3.0-bin-hadoop3/examples/src/main/java/org/apache/spark/examples/sql/streaming/JavaStructuredKerberizedKafkaWordCount.java\n",
            "spark-3.3.0-bin-hadoop3/examples/src/main/java/org/apache/spark/examples/JavaTC.java\n",
            "spark-3.3.0-bin-hadoop3/examples/src/main/scripts/\n",
            "spark-3.3.0-bin-hadoop3/examples/src/main/scripts/getGpusResources.sh\n",
            "spark-3.3.0-bin-hadoop3/examples/src/main/python/\n",
            "spark-3.3.0-bin-hadoop3/examples/src/main/python/kmeans.py\n",
            "spark-3.3.0-bin-hadoop3/examples/src/main/python/ml/\n",
            "spark-3.3.0-bin-hadoop3/examples/src/main/python/ml/dct_example.py\n",
            "spark-3.3.0-bin-hadoop3/examples/src/main/python/ml/count_vectorizer_example.py\n",
            "spark-3.3.0-bin-hadoop3/examples/src/main/python/ml/chisq_selector_example.py\n",
            "spark-3.3.0-bin-hadoop3/examples/src/main/python/ml/gradient_boosted_tree_regressor_example.py\n",
            "spark-3.3.0-bin-hadoop3/examples/src/main/python/ml/tf_idf_example.py\n",
            "spark-3.3.0-bin-hadoop3/examples/src/main/python/ml/cross_validator.py\n",
            "spark-3.3.0-bin-hadoop3/examples/src/main/python/ml/linear_regression_with_elastic_net.py\n",
            "spark-3.3.0-bin-hadoop3/examples/src/main/python/ml/normalizer_example.py\n",
            "spark-3.3.0-bin-hadoop3/examples/src/main/python/ml/fm_regressor_example.py\n",
            "spark-3.3.0-bin-hadoop3/examples/src/main/python/ml/univariate_feature_selector_example.py\n",
            "spark-3.3.0-bin-hadoop3/examples/src/main/python/ml/polynomial_expansion_example.py\n",
            "spark-3.3.0-bin-hadoop3/examples/src/main/python/ml/pipeline_example.py\n",
            "spark-3.3.0-bin-hadoop3/examples/src/main/python/ml/generalized_linear_regression_example.py\n",
            "spark-3.3.0-bin-hadoop3/examples/src/main/python/ml/multilayer_perceptron_classification.py\n",
            "spark-3.3.0-bin-hadoop3/examples/src/main/python/ml/bisecting_k_means_example.py\n",
            "spark-3.3.0-bin-hadoop3/examples/src/main/python/ml/chi_square_test_example.py\n",
            "spark-3.3.0-bin-hadoop3/examples/src/main/python/ml/train_validation_split.py\n",
            "spark-3.3.0-bin-hadoop3/examples/src/main/python/ml/stopwords_remover_example.py\n",
            "spark-3.3.0-bin-hadoop3/examples/src/main/python/ml/linearsvc.py\n",
            "spark-3.3.0-bin-hadoop3/examples/src/main/python/ml/lda_example.py\n",
            "spark-3.3.0-bin-hadoop3/examples/src/main/python/ml/random_forest_regressor_example.py\n",
            "spark-3.3.0-bin-hadoop3/examples/src/main/python/ml/vector_assembler_example.py\n",
            "spark-3.3.0-bin-hadoop3/examples/src/main/python/ml/word2vec_example.py\n",
            "spark-3.3.0-bin-hadoop3/examples/src/main/python/ml/string_indexer_example.py\n",
            "spark-3.3.0-bin-hadoop3/examples/src/main/python/ml/decision_tree_classification_example.py\n",
            "spark-3.3.0-bin-hadoop3/examples/src/main/python/ml/index_to_string_example.py\n",
            "spark-3.3.0-bin-hadoop3/examples/src/main/python/ml/bucketizer_example.py\n",
            "spark-3.3.0-bin-hadoop3/examples/src/main/python/ml/vector_size_hint_example.py\n",
            "spark-3.3.0-bin-hadoop3/examples/src/main/python/ml/vector_indexer_example.py\n",
            "spark-3.3.0-bin-hadoop3/examples/src/main/python/ml/tokenizer_example.py\n",
            "spark-3.3.0-bin-hadoop3/examples/src/main/python/ml/robust_scaler_example.py\n",
            "spark-3.3.0-bin-hadoop3/examples/src/main/python/ml/standard_scaler_example.py\n",
            "spark-3.3.0-bin-hadoop3/examples/src/main/python/ml/kmeans_example.py\n",
            "spark-3.3.0-bin-hadoop3/examples/src/main/python/ml/power_iteration_clustering_example.py\n",
            "spark-3.3.0-bin-hadoop3/examples/src/main/python/ml/naive_bayes_example.py\n",
            "spark-3.3.0-bin-hadoop3/examples/src/main/python/ml/pca_example.py\n",
            "spark-3.3.0-bin-hadoop3/examples/src/main/python/ml/aft_survival_regression.py\n",
            "spark-3.3.0-bin-hadoop3/examples/src/main/python/ml/min_max_scaler_example.py\n",
            "spark-3.3.0-bin-hadoop3/examples/src/main/python/ml/elementwise_product_example.py\n",
            "spark-3.3.0-bin-hadoop3/examples/src/main/python/ml/dataframe_example.py\n",
            "spark-3.3.0-bin-hadoop3/examples/src/main/python/ml/n_gram_example.py\n",
            "spark-3.3.0-bin-hadoop3/examples/src/main/python/ml/rformula_example.py\n",
            "spark-3.3.0-bin-hadoop3/examples/src/main/python/ml/one_vs_rest_example.py\n",
            "spark-3.3.0-bin-hadoop3/examples/src/main/python/ml/als_example.py\n",
            "spark-3.3.0-bin-hadoop3/examples/src/main/python/ml/onehot_encoder_example.py\n",
            "spark-3.3.0-bin-hadoop3/examples/src/main/python/ml/vector_slicer_example.py\n",
            "spark-3.3.0-bin-hadoop3/examples/src/main/python/ml/logistic_regression_with_elastic_net.py\n",
            "spark-3.3.0-bin-hadoop3/examples/src/main/python/ml/sql_transformer.py\n",
            "spark-3.3.0-bin-hadoop3/examples/src/main/python/ml/multiclass_logistic_regression_with_elastic_net.py\n",
            "spark-3.3.0-bin-hadoop3/examples/src/main/python/ml/summarizer_example.py\n",
            "spark-3.3.0-bin-hadoop3/examples/src/main/python/ml/quantile_discretizer_example.py\n",
            "spark-3.3.0-bin-hadoop3/examples/src/main/python/ml/feature_hasher_example.py\n",
            "spark-3.3.0-bin-hadoop3/examples/src/main/python/ml/imputer_example.py\n",
            "spark-3.3.0-bin-hadoop3/examples/src/main/python/ml/bucketed_random_projection_lsh_example.py\n",
            "spark-3.3.0-bin-hadoop3/examples/src/main/python/ml/estimator_transformer_param_example.py\n",
            "spark-3.3.0-bin-hadoop3/examples/src/main/python/ml/gradient_boosted_tree_classifier_example.py\n",
            "spark-3.3.0-bin-hadoop3/examples/src/main/python/ml/logistic_regression_summary_example.py\n",
            "spark-3.3.0-bin-hadoop3/examples/src/main/python/ml/decision_tree_regression_example.py\n",
            "spark-3.3.0-bin-hadoop3/examples/src/main/python/ml/__init__,py\n",
            "spark-3.3.0-bin-hadoop3/examples/src/main/python/ml/fm_classifier_example.py\n",
            "spark-3.3.0-bin-hadoop3/examples/src/main/python/ml/gaussian_mixture_example.py\n",
            "spark-3.3.0-bin-hadoop3/examples/src/main/python/ml/fpgrowth_example.py\n",
            "spark-3.3.0-bin-hadoop3/examples/src/main/python/ml/variance_threshold_selector_example.py\n",
            "spark-3.3.0-bin-hadoop3/examples/src/main/python/ml/random_forest_classifier_example.py\n",
            "spark-3.3.0-bin-hadoop3/examples/src/main/python/ml/correlation_example.py\n",
            "spark-3.3.0-bin-hadoop3/examples/src/main/python/ml/min_hash_lsh_example.py\n",
            "spark-3.3.0-bin-hadoop3/examples/src/main/python/ml/binarizer_example.py\n",
            "spark-3.3.0-bin-hadoop3/examples/src/main/python/ml/prefixspan_example.py\n",
            "spark-3.3.0-bin-hadoop3/examples/src/main/python/ml/max_abs_scaler_example.py\n",
            "spark-3.3.0-bin-hadoop3/examples/src/main/python/ml/isotonic_regression_example.py\n",
            "spark-3.3.0-bin-hadoop3/examples/src/main/python/ml/interaction_example.py\n",
            "spark-3.3.0-bin-hadoop3/examples/src/main/python/logistic_regression.py\n",
            "spark-3.3.0-bin-hadoop3/examples/src/main/python/__init__.py\n",
            "spark-3.3.0-bin-hadoop3/examples/src/main/python/als.py\n",
            "spark-3.3.0-bin-hadoop3/examples/src/main/python/mllib/\n",
            "spark-3.3.0-bin-hadoop3/examples/src/main/python/mllib/word2vec.py\n",
            "spark-3.3.0-bin-hadoop3/examples/src/main/python/mllib/correlations_example.py\n",
            "spark-3.3.0-bin-hadoop3/examples/src/main/python/mllib/gradient_boosting_classification_example.py\n",
            "spark-3.3.0-bin-hadoop3/examples/src/main/python/mllib/kernel_density_estimation_example.py\n",
            "spark-3.3.0-bin-hadoop3/examples/src/main/python/mllib/hypothesis_testing_example.py\n",
            "spark-3.3.0-bin-hadoop3/examples/src/main/python/mllib/svd_example.py\n",
            "spark-3.3.0-bin-hadoop3/examples/src/main/python/mllib/kmeans.py\n",
            "spark-3.3.0-bin-hadoop3/examples/src/main/python/mllib/latent_dirichlet_allocation_example.py\n",
            "spark-3.3.0-bin-hadoop3/examples/src/main/python/mllib/tf_idf_example.py\n",
            "spark-3.3.0-bin-hadoop3/examples/src/main/python/mllib/correlations.py\n",
            "spark-3.3.0-bin-hadoop3/examples/src/main/python/mllib/random_forest_regression_example.py\n",
            "spark-3.3.0-bin-hadoop3/examples/src/main/python/mllib/normalizer_example.py\n",
            "spark-3.3.0-bin-hadoop3/examples/src/main/python/mllib/logistic_regression.py\n",
            "spark-3.3.0-bin-hadoop3/examples/src/main/python/mllib/multi_label_metrics_example.py\n",
            "spark-3.3.0-bin-hadoop3/examples/src/main/python/mllib/gradient_boosting_regression_example.py\n",
            "spark-3.3.0-bin-hadoop3/examples/src/main/python/mllib/random_forest_classification_example.py\n",
            "spark-3.3.0-bin-hadoop3/examples/src/main/python/mllib/__init__.py\n",
            "spark-3.3.0-bin-hadoop3/examples/src/main/python/mllib/streaming_linear_regression_example.py\n",
            "spark-3.3.0-bin-hadoop3/examples/src/main/python/mllib/sampled_rdds.py\n",
            "spark-3.3.0-bin-hadoop3/examples/src/main/python/mllib/bisecting_k_means_example.py\n",
            "spark-3.3.0-bin-hadoop3/examples/src/main/python/mllib/logistic_regression_with_lbfgs_example.py\n",
            "spark-3.3.0-bin-hadoop3/examples/src/main/python/mllib/k_means_example.py\n",
            "spark-3.3.0-bin-hadoop3/examples/src/main/python/mllib/streaming_k_means_example.py\n",
            "spark-3.3.0-bin-hadoop3/examples/src/main/python/mllib/word2vec_example.py\n",
            "spark-3.3.0-bin-hadoop3/examples/src/main/python/mllib/multi_class_metrics_example.py\n",
            "spark-3.3.0-bin-hadoop3/examples/src/main/python/mllib/decision_tree_classification_example.py\n",
            "spark-3.3.0-bin-hadoop3/examples/src/main/python/mllib/summary_statistics_example.py\n",
            "spark-3.3.0-bin-hadoop3/examples/src/main/python/mllib/binary_classification_metrics_example.py\n",
            "spark-3.3.0-bin-hadoop3/examples/src/main/python/mllib/standard_scaler_example.py\n",
            "spark-3.3.0-bin-hadoop3/examples/src/main/python/mllib/power_iteration_clustering_example.py\n",
            "spark-3.3.0-bin-hadoop3/examples/src/main/python/mllib/gaussian_mixture_model.py\n",
            "spark-3.3.0-bin-hadoop3/examples/src/main/python/mllib/regression_metrics_example.py\n",
            "spark-3.3.0-bin-hadoop3/examples/src/main/python/mllib/naive_bayes_example.py\n",
            "spark-3.3.0-bin-hadoop3/examples/src/main/python/mllib/elementwise_product_example.py\n",
            "spark-3.3.0-bin-hadoop3/examples/src/main/python/mllib/linear_regression_with_sgd_example.py\n",
            "spark-3.3.0-bin-hadoop3/examples/src/main/python/mllib/pca_rowmatrix_example.py\n",
            "spark-3.3.0-bin-hadoop3/examples/src/main/python/mllib/hypothesis_testing_kolmogorov_smirnov_test_example.py\n",
            "spark-3.3.0-bin-hadoop3/examples/src/main/python/mllib/random_rdd_generation.py\n",
            "spark-3.3.0-bin-hadoop3/examples/src/main/python/mllib/decision_tree_regression_example.py\n",
            "spark-3.3.0-bin-hadoop3/examples/src/main/python/mllib/gaussian_mixture_example.py\n",
            "spark-3.3.0-bin-hadoop3/examples/src/main/python/mllib/recommendation_example.py\n",
            "spark-3.3.0-bin-hadoop3/examples/src/main/python/mllib/fpgrowth_example.py\n",
            "spark-3.3.0-bin-hadoop3/examples/src/main/python/mllib/ranking_metrics_example.py\n",
            "spark-3.3.0-bin-hadoop3/examples/src/main/python/mllib/svm_with_sgd_example.py\n",
            "spark-3.3.0-bin-hadoop3/examples/src/main/python/mllib/isotonic_regression_example.py\n",
            "spark-3.3.0-bin-hadoop3/examples/src/main/python/mllib/stratified_sampling_example.py\n",
            "spark-3.3.0-bin-hadoop3/examples/src/main/python/wordcount.py\n",
            "spark-3.3.0-bin-hadoop3/examples/src/main/python/status_api_demo.py\n",
            "spark-3.3.0-bin-hadoop3/examples/src/main/python/pagerank.py\n",
            "spark-3.3.0-bin-hadoop3/examples/src/main/python/sort.py\n",
            "spark-3.3.0-bin-hadoop3/examples/src/main/python/transitive_closure.py\n",
            "spark-3.3.0-bin-hadoop3/examples/src/main/python/avro_inputformat.py\n",
            "spark-3.3.0-bin-hadoop3/examples/src/main/python/pi.py\n",
            "spark-3.3.0-bin-hadoop3/examples/src/main/python/streaming/\n",
            "spark-3.3.0-bin-hadoop3/examples/src/main/python/streaming/queue_stream.py\n",
            "spark-3.3.0-bin-hadoop3/examples/src/main/python/streaming/__init__.py\n",
            "spark-3.3.0-bin-hadoop3/examples/src/main/python/streaming/stateful_network_wordcount.py\n",
            "spark-3.3.0-bin-hadoop3/examples/src/main/python/streaming/network_wordjoinsentiments.py\n",
            "spark-3.3.0-bin-hadoop3/examples/src/main/python/streaming/sql_network_wordcount.py\n",
            "spark-3.3.0-bin-hadoop3/examples/src/main/python/streaming/network_wordcount.py\n",
            "spark-3.3.0-bin-hadoop3/examples/src/main/python/streaming/hdfs_wordcount.py\n",
            "spark-3.3.0-bin-hadoop3/examples/src/main/python/streaming/recoverable_network_wordcount.py\n",
            "spark-3.3.0-bin-hadoop3/examples/src/main/python/sql/\n",
            "spark-3.3.0-bin-hadoop3/examples/src/main/python/sql/datasource.py\n",
            "spark-3.3.0-bin-hadoop3/examples/src/main/python/sql/__init__.py\n",
            "spark-3.3.0-bin-hadoop3/examples/src/main/python/sql/hive.py\n",
            "spark-3.3.0-bin-hadoop3/examples/src/main/python/sql/arrow.py\n",
            "spark-3.3.0-bin-hadoop3/examples/src/main/python/sql/streaming/\n",
            "spark-3.3.0-bin-hadoop3/examples/src/main/python/sql/streaming/structured_network_wordcount_windowed.py\n",
            "spark-3.3.0-bin-hadoop3/examples/src/main/python/sql/streaming/structured_network_wordcount.py\n",
            "spark-3.3.0-bin-hadoop3/examples/src/main/python/sql/streaming/structured_sessionization.py\n",
            "spark-3.3.0-bin-hadoop3/examples/src/main/python/sql/streaming/__init__,py\n",
            "spark-3.3.0-bin-hadoop3/examples/src/main/python/sql/streaming/structured_kafka_wordcount.py\n",
            "spark-3.3.0-bin-hadoop3/examples/src/main/python/sql/basic.py\n",
            "spark-3.3.0-bin-hadoop3/examples/src/main/python/parquet_inputformat.py\n",
            "spark-3.3.0-bin-hadoop3/examples/jars/\n",
            "spark-3.3.0-bin-hadoop3/examples/jars/spark-examples_2.12-3.3.0.jar\n",
            "spark-3.3.0-bin-hadoop3/examples/jars/scopt_2.12-3.7.1.jar\n",
            "spark-3.3.0-bin-hadoop3/conf/\n",
            "spark-3.3.0-bin-hadoop3/conf/metrics.properties.template\n",
            "spark-3.3.0-bin-hadoop3/conf/workers.template\n",
            "spark-3.3.0-bin-hadoop3/conf/fairscheduler.xml.template\n",
            "spark-3.3.0-bin-hadoop3/conf/spark-defaults.conf.template\n",
            "spark-3.3.0-bin-hadoop3/conf/spark-env.sh.template\n",
            "spark-3.3.0-bin-hadoop3/conf/log4j2.properties.template\n",
            "spark-3.3.0-bin-hadoop3/bin/\n",
            "spark-3.3.0-bin-hadoop3/bin/sparkR.cmd\n",
            "spark-3.3.0-bin-hadoop3/bin/sparkR\n",
            "spark-3.3.0-bin-hadoop3/bin/spark-submit\n",
            "spark-3.3.0-bin-hadoop3/bin/pyspark2.cmd\n",
            "spark-3.3.0-bin-hadoop3/bin/spark-class\n",
            "spark-3.3.0-bin-hadoop3/bin/pyspark.cmd\n",
            "spark-3.3.0-bin-hadoop3/bin/spark-submit2.cmd\n",
            "spark-3.3.0-bin-hadoop3/bin/load-spark-env.cmd\n",
            "spark-3.3.0-bin-hadoop3/bin/spark-sql\n",
            "spark-3.3.0-bin-hadoop3/bin/docker-image-tool.sh\n",
            "spark-3.3.0-bin-hadoop3/bin/find-spark-home.cmd\n",
            "spark-3.3.0-bin-hadoop3/bin/load-spark-env.sh\n",
            "spark-3.3.0-bin-hadoop3/bin/pyspark\n",
            "spark-3.3.0-bin-hadoop3/bin/spark-shell.cmd\n",
            "spark-3.3.0-bin-hadoop3/bin/spark-shell2.cmd\n",
            "spark-3.3.0-bin-hadoop3/bin/spark-submit.cmd\n",
            "spark-3.3.0-bin-hadoop3/bin/beeline.cmd\n",
            "spark-3.3.0-bin-hadoop3/bin/find-spark-home\n",
            "spark-3.3.0-bin-hadoop3/bin/spark-class.cmd\n",
            "spark-3.3.0-bin-hadoop3/bin/sparkR2.cmd\n",
            "spark-3.3.0-bin-hadoop3/bin/beeline\n",
            "spark-3.3.0-bin-hadoop3/bin/spark-class2.cmd\n",
            "spark-3.3.0-bin-hadoop3/bin/spark-sql.cmd\n",
            "spark-3.3.0-bin-hadoop3/bin/run-example\n",
            "spark-3.3.0-bin-hadoop3/bin/spark-shell\n",
            "spark-3.3.0-bin-hadoop3/bin/run-example.cmd\n",
            "spark-3.3.0-bin-hadoop3/bin/spark-sql2.cmd\n",
            "spark-3.3.0-bin-hadoop3/python/\n",
            "spark-3.3.0-bin-hadoop3/python/.gitignore\n",
            "spark-3.3.0-bin-hadoop3/python/run-tests-with-coverage\n",
            "spark-3.3.0-bin-hadoop3/python/mypy.ini\n",
            "spark-3.3.0-bin-hadoop3/python/MANIFEST.in\n",
            "spark-3.3.0-bin-hadoop3/python/README.md\n",
            "spark-3.3.0-bin-hadoop3/python/test_coverage/\n",
            "spark-3.3.0-bin-hadoop3/python/test_coverage/coverage_daemon.py\n",
            "spark-3.3.0-bin-hadoop3/python/test_coverage/conf/\n",
            "spark-3.3.0-bin-hadoop3/python/test_coverage/conf/spark-defaults.conf\n",
            "spark-3.3.0-bin-hadoop3/python/test_coverage/sitecustomize.py\n",
            "spark-3.3.0-bin-hadoop3/python/run-tests.py\n",
            "spark-3.3.0-bin-hadoop3/python/setup.py\n",
            "spark-3.3.0-bin-hadoop3/python/test_support/\n",
            "spark-3.3.0-bin-hadoop3/python/test_support/userlibrary.py\n",
            "spark-3.3.0-bin-hadoop3/python/test_support/hello/\n",
            "spark-3.3.0-bin-hadoop3/python/test_support/hello/sub_hello/\n",
            "spark-3.3.0-bin-hadoop3/python/test_support/hello/sub_hello/sub_hello.txt\n",
            "spark-3.3.0-bin-hadoop3/python/test_support/hello/hello.txt\n",
            "spark-3.3.0-bin-hadoop3/python/test_support/userlib-0.1.zip\n",
            "spark-3.3.0-bin-hadoop3/python/test_support/SimpleHTTPServer.py\n",
            "spark-3.3.0-bin-hadoop3/python/test_support/sql/\n",
            "spark-3.3.0-bin-hadoop3/python/test_support/sql/people.json\n",
            "spark-3.3.0-bin-hadoop3/python/test_support/sql/people_array.json\n",
            "spark-3.3.0-bin-hadoop3/python/test_support/sql/people_array_utf16le.json\n",
            "spark-3.3.0-bin-hadoop3/python/test_support/sql/text-test.txt\n",
            "spark-3.3.0-bin-hadoop3/python/test_support/sql/ages.csv\n",
            "spark-3.3.0-bin-hadoop3/python/test_support/sql/parquet_partitioned/\n",
            "spark-3.3.0-bin-hadoop3/python/test_support/sql/parquet_partitioned/year=2015/\n",
            "spark-3.3.0-bin-hadoop3/python/test_support/sql/parquet_partitioned/year=2015/month=10/\n",
            "spark-3.3.0-bin-hadoop3/python/test_support/sql/parquet_partitioned/year=2015/month=10/day=26/\n",
            "spark-3.3.0-bin-hadoop3/python/test_support/sql/parquet_partitioned/year=2015/month=10/day=26/.part-r-00005.gz.parquet.crc\n",
            "spark-3.3.0-bin-hadoop3/python/test_support/sql/parquet_partitioned/year=2015/month=10/day=26/part-r-00005.gz.parquet\n",
            "spark-3.3.0-bin-hadoop3/python/test_support/sql/parquet_partitioned/year=2015/month=10/day=25/\n",
            "spark-3.3.0-bin-hadoop3/python/test_support/sql/parquet_partitioned/year=2015/month=10/day=25/.part-r-00002.gz.parquet.crc\n",
            "spark-3.3.0-bin-hadoop3/python/test_support/sql/parquet_partitioned/year=2015/month=10/day=25/.part-r-00004.gz.parquet.crc\n",
            "spark-3.3.0-bin-hadoop3/python/test_support/sql/parquet_partitioned/year=2015/month=10/day=25/part-r-00004.gz.parquet\n",
            "spark-3.3.0-bin-hadoop3/python/test_support/sql/parquet_partitioned/year=2015/month=10/day=25/part-r-00002.gz.parquet\n",
            "spark-3.3.0-bin-hadoop3/python/test_support/sql/parquet_partitioned/year=2015/month=9/\n",
            "spark-3.3.0-bin-hadoop3/python/test_support/sql/parquet_partitioned/year=2015/month=9/day=1/\n",
            "spark-3.3.0-bin-hadoop3/python/test_support/sql/parquet_partitioned/year=2015/month=9/day=1/.part-r-00007.gz.parquet.crc\n",
            "spark-3.3.0-bin-hadoop3/python/test_support/sql/parquet_partitioned/year=2015/month=9/day=1/part-r-00007.gz.parquet\n",
            "spark-3.3.0-bin-hadoop3/python/test_support/sql/parquet_partitioned/_metadata\n",
            "spark-3.3.0-bin-hadoop3/python/test_support/sql/parquet_partitioned/year=2014/\n",
            "spark-3.3.0-bin-hadoop3/python/test_support/sql/parquet_partitioned/year=2014/month=9/\n",
            "spark-3.3.0-bin-hadoop3/python/test_support/sql/parquet_partitioned/year=2014/month=9/day=1/\n",
            "spark-3.3.0-bin-hadoop3/python/test_support/sql/parquet_partitioned/year=2014/month=9/day=1/.part-r-00008.gz.parquet.crc\n",
            "spark-3.3.0-bin-hadoop3/python/test_support/sql/parquet_partitioned/year=2014/month=9/day=1/part-r-00008.gz.parquet\n",
            "spark-3.3.0-bin-hadoop3/python/test_support/sql/parquet_partitioned/_common_metadata\n",
            "spark-3.3.0-bin-hadoop3/python/test_support/sql/parquet_partitioned/_SUCCESS\n",
            "spark-3.3.0-bin-hadoop3/python/test_support/sql/orc_partitioned/\n",
            "spark-3.3.0-bin-hadoop3/python/test_support/sql/orc_partitioned/b=1/\n",
            "spark-3.3.0-bin-hadoop3/python/test_support/sql/orc_partitioned/b=1/c=1/\n",
            "spark-3.3.0-bin-hadoop3/python/test_support/sql/orc_partitioned/b=1/c=1/part-r-00000-829af031-b970-49d6-ad39-30460a0be2c8.orc\n",
            "spark-3.3.0-bin-hadoop3/python/test_support/sql/orc_partitioned/b=1/c=1/.part-r-00000-829af031-b970-49d6-ad39-30460a0be2c8.orc.crc\n",
            "spark-3.3.0-bin-hadoop3/python/test_support/sql/orc_partitioned/b=0/\n",
            "spark-3.3.0-bin-hadoop3/python/test_support/sql/orc_partitioned/b=0/c=0/\n",
            "spark-3.3.0-bin-hadoop3/python/test_support/sql/orc_partitioned/b=0/c=0/part-r-00000-829af031-b970-49d6-ad39-30460a0be2c8.orc\n",
            "spark-3.3.0-bin-hadoop3/python/test_support/sql/orc_partitioned/b=0/c=0/.part-r-00000-829af031-b970-49d6-ad39-30460a0be2c8.orc.crc\n",
            "spark-3.3.0-bin-hadoop3/python/test_support/sql/orc_partitioned/_SUCCESS\n",
            "spark-3.3.0-bin-hadoop3/python/test_support/sql/ages_newlines.csv\n",
            "spark-3.3.0-bin-hadoop3/python/test_support/sql/streaming/\n",
            "spark-3.3.0-bin-hadoop3/python/test_support/sql/streaming/text-test.txt\n",
            "spark-3.3.0-bin-hadoop3/python/test_support/sql/people1.json\n",
            "spark-3.3.0-bin-hadoop3/python/pyspark/\n",
            "spark-3.3.0-bin-hadoop3/python/pyspark/tests/\n",
            "spark-3.3.0-bin-hadoop3/python/pyspark/tests/test_rddbarrier.py\n",
            "spark-3.3.0-bin-hadoop3/python/pyspark/tests/test_worker.py\n",
            "spark-3.3.0-bin-hadoop3/python/pyspark/tests/test_serializers.py\n",
            "spark-3.3.0-bin-hadoop3/python/pyspark/tests/test_util.py\n",
            "spark-3.3.0-bin-hadoop3/python/pyspark/tests/test_rdd.py\n",
            "spark-3.3.0-bin-hadoop3/python/pyspark/tests/test_statcounter.py\n",
            "spark-3.3.0-bin-hadoop3/python/pyspark/tests/__init__.py\n",
            "spark-3.3.0-bin-hadoop3/python/pyspark/tests/test_broadcast.py\n",
            "spark-3.3.0-bin-hadoop3/python/pyspark/tests/test_appsubmit.py\n",
            "spark-3.3.0-bin-hadoop3/python/pyspark/tests/test_profiler.py\n",
            "spark-3.3.0-bin-hadoop3/python/pyspark/tests/test_pin_thread.py\n",
            "spark-3.3.0-bin-hadoop3/python/pyspark/tests/test_install_spark.py\n",
            "spark-3.3.0-bin-hadoop3/python/pyspark/tests/typing/\n",
            "spark-3.3.0-bin-hadoop3/python/pyspark/tests/typing/test_resultiterable.yml\n",
            "spark-3.3.0-bin-hadoop3/python/pyspark/tests/typing/test_context.yml\n",
            "spark-3.3.0-bin-hadoop3/python/pyspark/tests/typing/test_rdd.yml\n",
            "spark-3.3.0-bin-hadoop3/python/pyspark/tests/typing/test_core.yml\n",
            "spark-3.3.0-bin-hadoop3/python/pyspark/tests/test_shuffle.py\n",
            "spark-3.3.0-bin-hadoop3/python/pyspark/tests/test_join.py\n",
            "spark-3.3.0-bin-hadoop3/python/pyspark/tests/test_taskcontext.py\n",
            "spark-3.3.0-bin-hadoop3/python/pyspark/tests/test_context.py\n",
            "spark-3.3.0-bin-hadoop3/python/pyspark/tests/test_readwrite.py\n",
            "spark-3.3.0-bin-hadoop3/python/pyspark/tests/test_conf.py\n",
            "spark-3.3.0-bin-hadoop3/python/pyspark/tests/test_daemon.py\n",
            "spark-3.3.0-bin-hadoop3/python/pyspark/pandas/\n",
            "spark-3.3.0-bin-hadoop3/python/pyspark/pandas/tests/\n",
            "spark-3.3.0-bin-hadoop3/python/pyspark/pandas/tests/test_series.py\n",
            "spark-3.3.0-bin-hadoop3/python/pyspark/pandas/tests/test_utils.py\n",
            "spark-3.3.0-bin-hadoop3/python/pyspark/pandas/tests/test_dataframe.py\n",
            "spark-3.3.0-bin-hadoop3/python/pyspark/pandas/tests/indexes/\n",
            "spark-3.3.0-bin-hadoop3/python/pyspark/pandas/tests/indexes/__init__.py\n",
            "spark-3.3.0-bin-hadoop3/python/pyspark/pandas/tests/indexes/test_timedelta.py\n",
            "spark-3.3.0-bin-hadoop3/python/pyspark/pandas/tests/indexes/test_category.py\n",
            "spark-3.3.0-bin-hadoop3/python/pyspark/pandas/tests/indexes/test_datetime.py\n",
            "spark-3.3.0-bin-hadoop3/python/pyspark/pandas/tests/indexes/test_base.py\n",
            "spark-3.3.0-bin-hadoop3/python/pyspark/pandas/tests/test_window.py\n",
            "spark-3.3.0-bin-hadoop3/python/pyspark/pandas/tests/test_indexops_spark.py\n",
            "spark-3.3.0-bin-hadoop3/python/pyspark/pandas/tests/__init__.py\n",
            "spark-3.3.0-bin-hadoop3/python/pyspark/pandas/tests/test_stats.py\n",
            "spark-3.3.0-bin-hadoop3/python/pyspark/pandas/tests/test_extension.py\n",
            "spark-3.3.0-bin-hadoop3/python/pyspark/pandas/tests/test_default_index.py\n",
            "spark-3.3.0-bin-hadoop3/python/pyspark/pandas/tests/test_expanding.py\n",
            "spark-3.3.0-bin-hadoop3/python/pyspark/pandas/tests/test_series_datetime.py\n",
            "spark-3.3.0-bin-hadoop3/python/pyspark/pandas/tests/test_indexing.py\n",
            "spark-3.3.0-bin-hadoop3/python/pyspark/pandas/tests/test_typedef.py\n",
            "spark-3.3.0-bin-hadoop3/python/pyspark/pandas/tests/test_numpy_compat.py\n",
            "spark-3.3.0-bin-hadoop3/python/pyspark/pandas/tests/test_dataframe_spark_io.py\n",
            "spark-3.3.0-bin-hadoop3/python/pyspark/pandas/tests/test_repr.py\n",
            "spark-3.3.0-bin-hadoop3/python/pyspark/pandas/tests/test_ops_on_diff_frames_groupby_expanding.py\n",
            "spark-3.3.0-bin-hadoop3/python/pyspark/pandas/tests/test_namespace.py\n",
            "spark-3.3.0-bin-hadoop3/python/pyspark/pandas/tests/test_ops_on_diff_frames_groupby.py\n",
            "spark-3.3.0-bin-hadoop3/python/pyspark/pandas/tests/test_series_conversion.py\n",
            "spark-3.3.0-bin-hadoop3/python/pyspark/pandas/tests/test_internal.py\n",
            "spark-3.3.0-bin-hadoop3/python/pyspark/pandas/tests/test_series_string.py\n",
            "spark-3.3.0-bin-hadoop3/python/pyspark/pandas/tests/test_groupby.py\n",
            "spark-3.3.0-bin-hadoop3/python/pyspark/pandas/tests/test_csv.py\n",
            "spark-3.3.0-bin-hadoop3/python/pyspark/pandas/tests/test_ops_on_diff_frames_groupby_rolling.py\n",
            "spark-3.3.0-bin-hadoop3/python/pyspark/pandas/tests/test_dataframe_conversion.py\n",
            "spark-3.3.0-bin-hadoop3/python/pyspark/pandas/tests/data_type_ops/\n",
            "spark-3.3.0-bin-hadoop3/python/pyspark/pandas/tests/data_type_ops/test_categorical_ops.py\n",
            "spark-3.3.0-bin-hadoop3/python/pyspark/pandas/tests/data_type_ops/test_complex_ops.py\n",
            "spark-3.3.0-bin-hadoop3/python/pyspark/pandas/tests/data_type_ops/test_boolean_ops.py\n",
            "spark-3.3.0-bin-hadoop3/python/pyspark/pandas/tests/data_type_ops/test_string_ops.py\n",
            "spark-3.3.0-bin-hadoop3/python/pyspark/pandas/tests/data_type_ops/__init__.py\n",
            "spark-3.3.0-bin-hadoop3/python/pyspark/pandas/tests/data_type_ops/testing_utils.py\n",
            "spark-3.3.0-bin-hadoop3/python/pyspark/pandas/tests/data_type_ops/test_udt_ops.py\n",
            "spark-3.3.0-bin-hadoop3/python/pyspark/pandas/tests/data_type_ops/test_num_ops.py\n",
            "spark-3.3.0-bin-hadoop3/python/pyspark/pandas/tests/data_type_ops/test_date_ops.py\n",
            "spark-3.3.0-bin-hadoop3/python/pyspark/pandas/tests/data_type_ops/test_timedelta_ops.py\n",
            "spark-3.3.0-bin-hadoop3/python/pyspark/pandas/tests/data_type_ops/test_null_ops.py\n",
            "spark-3.3.0-bin-hadoop3/python/pyspark/pandas/tests/data_type_ops/test_datetime_ops.py\n",
            "spark-3.3.0-bin-hadoop3/python/pyspark/pandas/tests/data_type_ops/test_binary_ops.py\n",
            "spark-3.3.0-bin-hadoop3/python/pyspark/pandas/tests/data_type_ops/test_base.py\n",
            "spark-3.3.0-bin-hadoop3/python/pyspark/pandas/tests/test_frame_spark.py\n",
            "spark-3.3.0-bin-hadoop3/python/pyspark/pandas/tests/test_config.py\n",
            "spark-3.3.0-bin-hadoop3/python/pyspark/pandas/tests/test_categorical.py\n",
            "spark-3.3.0-bin-hadoop3/python/pyspark/pandas/tests/plot/\n",
            "spark-3.3.0-bin-hadoop3/python/pyspark/pandas/tests/plot/__init__.py\n",
            "spark-3.3.0-bin-hadoop3/python/pyspark/pandas/tests/plot/test_frame_plot.py\n",
            "spark-3.3.0-bin-hadoop3/python/pyspark/pandas/tests/plot/test_frame_plot_matplotlib.py\n",
            "spark-3.3.0-bin-hadoop3/python/pyspark/pandas/tests/plot/test_frame_plot_plotly.py\n",
            "spark-3.3.0-bin-hadoop3/python/pyspark/pandas/tests/plot/test_series_plot_matplotlib.py\n",
            "spark-3.3.0-bin-hadoop3/python/pyspark/pandas/tests/plot/test_series_plot_plotly.py\n",
            "spark-3.3.0-bin-hadoop3/python/pyspark/pandas/tests/plot/test_series_plot.py\n",
            "spark-3.3.0-bin-hadoop3/python/pyspark/pandas/tests/test_ops_on_diff_frames.py\n",
            "spark-3.3.0-bin-hadoop3/python/pyspark/pandas/tests/test_rolling.py\n",
            "spark-3.3.0-bin-hadoop3/python/pyspark/pandas/tests/test_reshape.py\n",
            "spark-3.3.0-bin-hadoop3/python/pyspark/pandas/tests/test_sql.py\n",
            "spark-3.3.0-bin-hadoop3/python/pyspark/pandas/tests/test_spark_functions.py\n",
            "spark-3.3.0-bin-hadoop3/python/pyspark/pandas/sql_processor.py\n",
            "spark-3.3.0-bin-hadoop3/python/pyspark/pandas/numpy_compat.py\n",
            "spark-3.3.0-bin-hadoop3/python/pyspark/pandas/usage_logging/\n",
            "spark-3.3.0-bin-hadoop3/python/pyspark/pandas/usage_logging/__init__.py\n",
            "spark-3.3.0-bin-hadoop3/python/pyspark/pandas/usage_logging/usage_logger.py\n",
            "spark-3.3.0-bin-hadoop3/python/pyspark/pandas/spark/\n",
            "spark-3.3.0-bin-hadoop3/python/pyspark/pandas/spark/functions.py\n",
            "spark-3.3.0-bin-hadoop3/python/pyspark/pandas/spark/__init__.py\n",
            "spark-3.3.0-bin-hadoop3/python/pyspark/pandas/spark/accessors.py\n",
            "spark-3.3.0-bin-hadoop3/python/pyspark/pandas/spark/utils.py\n",
            "spark-3.3.0-bin-hadoop3/python/pyspark/pandas/base.py\n",
            "spark-3.3.0-bin-hadoop3/python/pyspark/pandas/sql_formatter.py\n",
            "spark-3.3.0-bin-hadoop3/python/pyspark/pandas/frame.py\n",
            "spark-3.3.0-bin-hadoop3/python/pyspark/pandas/window.py\n",
            "spark-3.3.0-bin-hadoop3/python/pyspark/pandas/indexes/\n",
            "spark-3.3.0-bin-hadoop3/python/pyspark/pandas/indexes/base.py\n",
            "spark-3.3.0-bin-hadoop3/python/pyspark/pandas/indexes/__init__.py\n",
            "spark-3.3.0-bin-hadoop3/python/pyspark/pandas/indexes/timedelta.py\n",
            "spark-3.3.0-bin-hadoop3/python/pyspark/pandas/indexes/numeric.py\n",
            "spark-3.3.0-bin-hadoop3/python/pyspark/pandas/indexes/datetimes.py\n",
            "spark-3.3.0-bin-hadoop3/python/pyspark/pandas/indexes/category.py\n",
            "spark-3.3.0-bin-hadoop3/python/pyspark/pandas/indexes/multi.py\n",
            "spark-3.3.0-bin-hadoop3/python/pyspark/pandas/namespace.py\n",
            "spark-3.3.0-bin-hadoop3/python/pyspark/pandas/mlflow.py\n",
            "spark-3.3.0-bin-hadoop3/python/pyspark/pandas/indexing.py\n",
            "spark-3.3.0-bin-hadoop3/python/pyspark/pandas/strings.py\n",
            "spark-3.3.0-bin-hadoop3/python/pyspark/pandas/__init__.py\n",
            "spark-3.3.0-bin-hadoop3/python/pyspark/pandas/extensions.py\n",
            "spark-3.3.0-bin-hadoop3/python/pyspark/pandas/accessors.py\n",
            "spark-3.3.0-bin-hadoop3/python/pyspark/pandas/config.py\n",
            "spark-3.3.0-bin-hadoop3/python/pyspark/pandas/groupby.py\n",
            "spark-3.3.0-bin-hadoop3/python/pyspark/pandas/internal.py\n",
            "spark-3.3.0-bin-hadoop3/python/pyspark/pandas/missing/\n",
            "spark-3.3.0-bin-hadoop3/python/pyspark/pandas/missing/frame.py\n",
            "spark-3.3.0-bin-hadoop3/python/pyspark/pandas/missing/window.py\n",
            "spark-3.3.0-bin-hadoop3/python/pyspark/pandas/missing/__init__.py\n",
            "spark-3.3.0-bin-hadoop3/python/pyspark/pandas/missing/groupby.py\n",
            "spark-3.3.0-bin-hadoop3/python/pyspark/pandas/missing/series.py\n",
            "spark-3.3.0-bin-hadoop3/python/pyspark/pandas/missing/indexes.py\n",
            "spark-3.3.0-bin-hadoop3/python/pyspark/pandas/missing/common.py\n",
            "spark-3.3.0-bin-hadoop3/python/pyspark/pandas/ml.py\n",
            "spark-3.3.0-bin-hadoop3/python/pyspark/pandas/series.py\n",
            "spark-3.3.0-bin-hadoop3/python/pyspark/pandas/_typing.py\n",
            "spark-3.3.0-bin-hadoop3/python/pyspark/pandas/datetimes.py\n",
            "spark-3.3.0-bin-hadoop3/python/pyspark/pandas/utils.py\n",
            "spark-3.3.0-bin-hadoop3/python/pyspark/pandas/data_type_ops/\n",
            "spark-3.3.0-bin-hadoop3/python/pyspark/pandas/data_type_ops/complex_ops.py\n",
            "spark-3.3.0-bin-hadoop3/python/pyspark/pandas/data_type_ops/binary_ops.py\n",
            "spark-3.3.0-bin-hadoop3/python/pyspark/pandas/data_type_ops/base.py\n",
            "spark-3.3.0-bin-hadoop3/python/pyspark/pandas/data_type_ops/categorical_ops.py\n",
            "spark-3.3.0-bin-hadoop3/python/pyspark/pandas/data_type_ops/string_ops.py\n",
            "spark-3.3.0-bin-hadoop3/python/pyspark/pandas/data_type_ops/timedelta_ops.py\n",
            "spark-3.3.0-bin-hadoop3/python/pyspark/pandas/data_type_ops/__init__.py\n",
            "spark-3.3.0-bin-hadoop3/python/pyspark/pandas/data_type_ops/date_ops.py\n",
            "spark-3.3.0-bin-hadoop3/python/pyspark/pandas/data_type_ops/udt_ops.py\n",
            "spark-3.3.0-bin-hadoop3/python/pyspark/pandas/data_type_ops/null_ops.py\n",
            "spark-3.3.0-bin-hadoop3/python/pyspark/pandas/data_type_ops/datetime_ops.py\n",
            "spark-3.3.0-bin-hadoop3/python/pyspark/pandas/data_type_ops/num_ops.py\n",
            "spark-3.3.0-bin-hadoop3/python/pyspark/pandas/data_type_ops/boolean_ops.py\n",
            "spark-3.3.0-bin-hadoop3/python/pyspark/pandas/plot/\n",
            "spark-3.3.0-bin-hadoop3/python/pyspark/pandas/plot/core.py\n",
            "spark-3.3.0-bin-hadoop3/python/pyspark/pandas/plot/__init__.py\n",
            "spark-3.3.0-bin-hadoop3/python/pyspark/pandas/plot/plotly.py\n",
            "spark-3.3.0-bin-hadoop3/python/pyspark/pandas/plot/matplotlib.py\n",
            "spark-3.3.0-bin-hadoop3/python/pyspark/pandas/typedef/\n",
            "spark-3.3.0-bin-hadoop3/python/pyspark/pandas/typedef/__init__.py\n",
            "spark-3.3.0-bin-hadoop3/python/pyspark/pandas/typedef/typehints.py\n",
            "spark-3.3.0-bin-hadoop3/python/pyspark/pandas/categorical.py\n",
            "spark-3.3.0-bin-hadoop3/python/pyspark/pandas/generic.py\n",
            "spark-3.3.0-bin-hadoop3/python/pyspark/pandas/exceptions.py\n",
            "spark-3.3.0-bin-hadoop3/python/pyspark/_typing.pyi\n",
            "spark-3.3.0-bin-hadoop3/python/pyspark/testing/\n",
            "spark-3.3.0-bin-hadoop3/python/pyspark/testing/mlutils.py\n",
            "spark-3.3.0-bin-hadoop3/python/pyspark/testing/__init__.py\n",
            "spark-3.3.0-bin-hadoop3/python/pyspark/testing/mllibutils.py\n",
            "spark-3.3.0-bin-hadoop3/python/pyspark/testing/pandasutils.py\n",
            "spark-3.3.0-bin-hadoop3/python/pyspark/testing/utils.py\n",
            "spark-3.3.0-bin-hadoop3/python/pyspark/testing/sqlutils.py\n",
            "spark-3.3.0-bin-hadoop3/python/pyspark/testing/streamingutils.py\n",
            "spark-3.3.0-bin-hadoop3/python/pyspark/accumulators.py\n",
            "spark-3.3.0-bin-hadoop3/python/pyspark/rddsampler.py\n",
            "spark-3.3.0-bin-hadoop3/python/pyspark/install.py\n",
            "spark-3.3.0-bin-hadoop3/python/pyspark/ml/\n",
            "spark-3.3.0-bin-hadoop3/python/pyspark/ml/tests/\n",
            "spark-3.3.0-bin-hadoop3/python/pyspark/ml/tests/test_algorithms.py\n",
            "spark-3.3.0-bin-hadoop3/python/pyspark/ml/tests/test_evaluation.py\n",
            "spark-3.3.0-bin-hadoop3/python/pyspark/ml/tests/test_util.py\n",
            "spark-3.3.0-bin-hadoop3/python/pyspark/ml/tests/test_feature.py\n",
            "spark-3.3.0-bin-hadoop3/python/pyspark/ml/tests/test_pipeline.py\n",
            "spark-3.3.0-bin-hadoop3/python/pyspark/ml/tests/test_wrapper.py\n",
            "spark-3.3.0-bin-hadoop3/python/pyspark/ml/tests/__init__.py\n",
            "spark-3.3.0-bin-hadoop3/python/pyspark/ml/tests/test_tuning.py\n",
            "spark-3.3.0-bin-hadoop3/python/pyspark/ml/tests/test_persistence.py\n",
            "spark-3.3.0-bin-hadoop3/python/pyspark/ml/tests/test_param.py\n",
            "spark-3.3.0-bin-hadoop3/python/pyspark/ml/tests/typing/\n",
            "spark-3.3.0-bin-hadoop3/python/pyspark/ml/tests/typing/test_clustering.yaml\n",
            "spark-3.3.0-bin-hadoop3/python/pyspark/ml/tests/typing/test_regression.yml\n",
            "spark-3.3.0-bin-hadoop3/python/pyspark/ml/tests/typing/test_param.yml\n",
            "spark-3.3.0-bin-hadoop3/python/pyspark/ml/tests/typing/test_evaluation.yml\n",
            "spark-3.3.0-bin-hadoop3/python/pyspark/ml/tests/typing/test_classification.yml\n",
            "spark-3.3.0-bin-hadoop3/python/pyspark/ml/tests/typing/test_readable.yml\n",
            "spark-3.3.0-bin-hadoop3/python/pyspark/ml/tests/typing/test_feature.yml\n",
            "spark-3.3.0-bin-hadoop3/python/pyspark/ml/tests/test_training_summary.py\n",
            "spark-3.3.0-bin-hadoop3/python/pyspark/ml/tests/test_linalg.py\n",
            "spark-3.3.0-bin-hadoop3/python/pyspark/ml/tests/test_image.py\n",
            "spark-3.3.0-bin-hadoop3/python/pyspark/ml/tests/test_stat.py\n",
            "spark-3.3.0-bin-hadoop3/python/pyspark/ml/tests/test_base.py\n",
            "spark-3.3.0-bin-hadoop3/python/pyspark/ml/_typing.pyi\n",
            "spark-3.3.0-bin-hadoop3/python/pyspark/ml/functions.py\n",
            "spark-3.3.0-bin-hadoop3/python/pyspark/ml/tuning.py\n",
            "spark-3.3.0-bin-hadoop3/python/pyspark/ml/pipeline.py\n",
            "spark-3.3.0-bin-hadoop3/python/pyspark/ml/base.py\n",
            "spark-3.3.0-bin-hadoop3/python/pyspark/ml/feature.py\n",
            "spark-3.3.0-bin-hadoop3/python/pyspark/ml/__init__.py\n",
            "spark-3.3.0-bin-hadoop3/python/pyspark/ml/stat.py\n",
            "spark-3.3.0-bin-hadoop3/python/pyspark/ml/image.py\n",
            "spark-3.3.0-bin-hadoop3/python/pyspark/ml/classification.py\n",
            "spark-3.3.0-bin-hadoop3/python/pyspark/ml/recommendation.py\n",
            "spark-3.3.0-bin-hadoop3/python/pyspark/ml/regression.py\n",
            "spark-3.3.0-bin-hadoop3/python/pyspark/ml/param/\n",
            "spark-3.3.0-bin-hadoop3/python/pyspark/ml/param/_shared_params_code_gen.py\n",
            "spark-3.3.0-bin-hadoop3/python/pyspark/ml/param/__init__.py\n",
            "spark-3.3.0-bin-hadoop3/python/pyspark/ml/param/shared.py\n",
            "spark-3.3.0-bin-hadoop3/python/pyspark/ml/tree.py\n",
            "spark-3.3.0-bin-hadoop3/python/pyspark/ml/fpm.py\n",
            "spark-3.3.0-bin-hadoop3/python/pyspark/ml/wrapper.py\n",
            "spark-3.3.0-bin-hadoop3/python/pyspark/ml/clustering.py\n",
            "spark-3.3.0-bin-hadoop3/python/pyspark/ml/common.py\n",
            "spark-3.3.0-bin-hadoop3/python/pyspark/ml/linalg/\n",
            "spark-3.3.0-bin-hadoop3/python/pyspark/ml/linalg/__init__.py\n",
            "spark-3.3.0-bin-hadoop3/python/pyspark/ml/evaluation.py\n",
            "spark-3.3.0-bin-hadoop3/python/pyspark/ml/util.py\n",
            "spark-3.3.0-bin-hadoop3/python/pyspark/find_spark_home.py\n",
            "spark-3.3.0-bin-hadoop3/python/pyspark/serializers.py\n",
            "spark-3.3.0-bin-hadoop3/python/pyspark/java_gateway.py\n",
            "spark-3.3.0-bin-hadoop3/python/pyspark/traceback_utils.py\n",
            "spark-3.3.0-bin-hadoop3/python/pyspark/resource/\n",
            "spark-3.3.0-bin-hadoop3/python/pyspark/resource/tests/\n",
            "spark-3.3.0-bin-hadoop3/python/pyspark/resource/tests/__init__.py\n",
            "spark-3.3.0-bin-hadoop3/python/pyspark/resource/tests/test_resources.py\n",
            "spark-3.3.0-bin-hadoop3/python/pyspark/resource/profile.py\n",
            "spark-3.3.0-bin-hadoop3/python/pyspark/resource/__init__.py\n",
            "spark-3.3.0-bin-hadoop3/python/pyspark/resource/information.py\n",
            "spark-3.3.0-bin-hadoop3/python/pyspark/resource/requests.py\n",
            "spark-3.3.0-bin-hadoop3/python/pyspark/conf.py\n",
            "spark-3.3.0-bin-hadoop3/python/pyspark/__init__.py\n",
            "spark-3.3.0-bin-hadoop3/python/pyspark/__pycache__/\n",
            "spark-3.3.0-bin-hadoop3/python/pyspark/__pycache__/install.cpython-38.pyc\n",
            "spark-3.3.0-bin-hadoop3/python/pyspark/mllib/\n",
            "spark-3.3.0-bin-hadoop3/python/pyspark/mllib/tests/\n",
            "spark-3.3.0-bin-hadoop3/python/pyspark/mllib/tests/test_algorithms.py\n",
            "spark-3.3.0-bin-hadoop3/python/pyspark/mllib/tests/test_streaming_algorithms.py\n",
            "spark-3.3.0-bin-hadoop3/python/pyspark/mllib/tests/test_util.py\n",
            "spark-3.3.0-bin-hadoop3/python/pyspark/mllib/tests/test_feature.py\n",
            "spark-3.3.0-bin-hadoop3/python/pyspark/mllib/tests/__init__.py\n",
            "spark-3.3.0-bin-hadoop3/python/pyspark/mllib/tests/test_linalg.py\n",
            "spark-3.3.0-bin-hadoop3/python/pyspark/mllib/tests/test_stat.py\n",
            "spark-3.3.0-bin-hadoop3/python/pyspark/mllib/_typing.pyi\n",
            "spark-3.3.0-bin-hadoop3/python/pyspark/mllib/recommendation.pyi\n",
            "spark-3.3.0-bin-hadoop3/python/pyspark/mllib/feature.py\n",
            "spark-3.3.0-bin-hadoop3/python/pyspark/mllib/__init__.py\n",
            "spark-3.3.0-bin-hadoop3/python/pyspark/mllib/classification.py\n",
            "spark-3.3.0-bin-hadoop3/python/pyspark/mllib/random.pyi\n",
            "spark-3.3.0-bin-hadoop3/python/pyspark/mllib/recommendation.py\n",
            "spark-3.3.0-bin-hadoop3/python/pyspark/mllib/regression.py\n",
            "spark-3.3.0-bin-hadoop3/python/pyspark/mllib/tree.py\n",
            "spark-3.3.0-bin-hadoop3/python/pyspark/mllib/fpm.py\n",
            "spark-3.3.0-bin-hadoop3/python/pyspark/mllib/random.py\n",
            "spark-3.3.0-bin-hadoop3/python/pyspark/mllib/stat/\n",
            "spark-3.3.0-bin-hadoop3/python/pyspark/mllib/stat/distribution.py\n",
            "spark-3.3.0-bin-hadoop3/python/pyspark/mllib/stat/__init__.py\n",
            "spark-3.3.0-bin-hadoop3/python/pyspark/mllib/stat/KernelDensity.py\n",
            "spark-3.3.0-bin-hadoop3/python/pyspark/mllib/stat/test.py\n",
            "spark-3.3.0-bin-hadoop3/python/pyspark/mllib/stat/_statistics.py\n",
            "spark-3.3.0-bin-hadoop3/python/pyspark/mllib/clustering.py\n",
            "spark-3.3.0-bin-hadoop3/python/pyspark/mllib/common.py\n",
            "spark-3.3.0-bin-hadoop3/python/pyspark/mllib/linalg/\n",
            "spark-3.3.0-bin-hadoop3/python/pyspark/mllib/linalg/__init__.py\n",
            "spark-3.3.0-bin-hadoop3/python/pyspark/mllib/linalg/distributed.py\n",
            "spark-3.3.0-bin-hadoop3/python/pyspark/mllib/evaluation.py\n",
            "spark-3.3.0-bin-hadoop3/python/pyspark/mllib/util.py\n",
            "spark-3.3.0-bin-hadoop3/python/pyspark/resultiterable.py\n",
            "spark-3.3.0-bin-hadoop3/python/pyspark/profiler.py\n",
            "spark-3.3.0-bin-hadoop3/python/pyspark/statcounter.py\n",
            "spark-3.3.0-bin-hadoop3/python/pyspark/join.py\n",
            "spark-3.3.0-bin-hadoop3/python/pyspark/daemon.py\n",
            "spark-3.3.0-bin-hadoop3/python/pyspark/rdd.py\n",
            "spark-3.3.0-bin-hadoop3/python/pyspark/context.py\n",
            "spark-3.3.0-bin-hadoop3/python/pyspark/instrumentation_utils.py\n",
            "spark-3.3.0-bin-hadoop3/python/pyspark/cloudpickle/\n",
            "spark-3.3.0-bin-hadoop3/python/pyspark/cloudpickle/cloudpickle_fast.py\n",
            "spark-3.3.0-bin-hadoop3/python/pyspark/cloudpickle/__init__.py\n",
            "spark-3.3.0-bin-hadoop3/python/pyspark/cloudpickle/compat.py\n",
            "spark-3.3.0-bin-hadoop3/python/pyspark/cloudpickle/cloudpickle.py\n",
            "spark-3.3.0-bin-hadoop3/python/pyspark/version.py\n",
            "spark-3.3.0-bin-hadoop3/python/pyspark/py.typed\n",
            "spark-3.3.0-bin-hadoop3/python/pyspark/files.py\n",
            "spark-3.3.0-bin-hadoop3/python/pyspark/worker.py\n",
            "spark-3.3.0-bin-hadoop3/python/pyspark/shell.py\n",
            "spark-3.3.0-bin-hadoop3/python/pyspark/streaming/\n",
            "spark-3.3.0-bin-hadoop3/python/pyspark/streaming/tests/\n",
            "spark-3.3.0-bin-hadoop3/python/pyspark/streaming/tests/test_listener.py\n",
            "spark-3.3.0-bin-hadoop3/python/pyspark/streaming/tests/test_kinesis.py\n",
            "spark-3.3.0-bin-hadoop3/python/pyspark/streaming/tests/__init__.py\n",
            "spark-3.3.0-bin-hadoop3/python/pyspark/streaming/tests/test_dstream.py\n",
            "spark-3.3.0-bin-hadoop3/python/pyspark/streaming/tests/test_context.py\n",
            "spark-3.3.0-bin-hadoop3/python/pyspark/streaming/dstream.py\n",
            "spark-3.3.0-bin-hadoop3/python/pyspark/streaming/__init__.py\n",
            "spark-3.3.0-bin-hadoop3/python/pyspark/streaming/kinesis.py\n",
            "spark-3.3.0-bin-hadoop3/python/pyspark/streaming/listener.py\n",
            "spark-3.3.0-bin-hadoop3/python/pyspark/streaming/context.py\n",
            "spark-3.3.0-bin-hadoop3/python/pyspark/streaming/util.py\n",
            "spark-3.3.0-bin-hadoop3/python/pyspark/status.py\n",
            "spark-3.3.0-bin-hadoop3/python/pyspark/sql/\n",
            "spark-3.3.0-bin-hadoop3/python/pyspark/sql/tests/\n",
            "spark-3.3.0-bin-hadoop3/python/pyspark/sql/tests/test_functions.py\n",
            "spark-3.3.0-bin-hadoop3/python/pyspark/sql/tests/test_readwriter.py\n",
            "spark-3.3.0-bin-hadoop3/python/pyspark/sql/tests/test_utils.py\n",
            "spark-3.3.0-bin-hadoop3/python/pyspark/sql/tests/test_pandas_grouped_map.py\n",
            "spark-3.3.0-bin-hadoop3/python/pyspark/sql/tests/test_dataframe.py\n",
            "spark-3.3.0-bin-hadoop3/python/pyspark/sql/tests/test_pandas_map.py\n",
            "spark-3.3.0-bin-hadoop3/python/pyspark/sql/tests/test_udf.py\n",
            "spark-3.3.0-bin-hadoop3/python/pyspark/sql/tests/test_streaming.py\n",
            "spark-3.3.0-bin-hadoop3/python/pyspark/sql/tests/__init__.py\n",
            "spark-3.3.0-bin-hadoop3/python/pyspark/sql/tests/test_serde.py\n",
            "spark-3.3.0-bin-hadoop3/python/pyspark/sql/tests/test_pandas_udf_window.py\n",
            "spark-3.3.0-bin-hadoop3/python/pyspark/sql/tests/test_group.py\n",
            "spark-3.3.0-bin-hadoop3/python/pyspark/sql/tests/test_pandas_udf.py\n",
            "spark-3.3.0-bin-hadoop3/python/pyspark/sql/tests/test_pandas_cogrouped_map.py\n",
            "spark-3.3.0-bin-hadoop3/python/pyspark/sql/tests/test_pandas_udf_grouped_agg.py\n",
            "spark-3.3.0-bin-hadoop3/python/pyspark/sql/tests/test_pandas_udf_scalar.py\n",
            "spark-3.3.0-bin-hadoop3/python/pyspark/sql/tests/typing/\n",
            "spark-3.3.0-bin-hadoop3/python/pyspark/sql/tests/typing/test_column.yml\n",
            "spark-3.3.0-bin-hadoop3/python/pyspark/sql/tests/typing/test_session.yml\n",
            "spark-3.3.0-bin-hadoop3/python/pyspark/sql/tests/typing/test_dataframe.yml\n",
            "spark-3.3.0-bin-hadoop3/python/pyspark/sql/tests/typing/test_functions.yml\n",
            "spark-3.3.0-bin-hadoop3/python/pyspark/sql/tests/typing/test_readwriter.yml\n",
            "spark-3.3.0-bin-hadoop3/python/pyspark/sql/tests/typing/test_udf.yml\n",
            "spark-3.3.0-bin-hadoop3/python/pyspark/sql/tests/test_udf_profiler.py\n",
            "spark-3.3.0-bin-hadoop3/python/pyspark/sql/tests/test_pandas_udf_typehints_with_future_annotations.py\n",
            "spark-3.3.0-bin-hadoop3/python/pyspark/sql/tests/test_catalog.py\n",
            "spark-3.3.0-bin-hadoop3/python/pyspark/sql/tests/test_datasources.py\n",
            "spark-3.3.0-bin-hadoop3/python/pyspark/sql/tests/test_pandas_udf_typehints.py\n",
            "spark-3.3.0-bin-hadoop3/python/pyspark/sql/tests/test_arrow_map.py\n",
            "spark-3.3.0-bin-hadoop3/python/pyspark/sql/tests/test_types.py\n",
            "spark-3.3.0-bin-hadoop3/python/pyspark/sql/tests/test_column.py\n",
            "spark-3.3.0-bin-hadoop3/python/pyspark/sql/tests/test_context.py\n",
            "spark-3.3.0-bin-hadoop3/python/pyspark/sql/tests/test_conf.py\n",
            "spark-3.3.0-bin-hadoop3/python/pyspark/sql/tests/test_arrow.py\n",
            "spark-3.3.0-bin-hadoop3/python/pyspark/sql/tests/test_session.py\n",
            "spark-3.3.0-bin-hadoop3/python/pyspark/sql/pandas/\n",
            "spark-3.3.0-bin-hadoop3/python/pyspark/sql/pandas/functions.py\n",
            "spark-3.3.0-bin-hadoop3/python/pyspark/sql/pandas/serializers.py\n",
            "spark-3.3.0-bin-hadoop3/python/pyspark/sql/pandas/__init__.py\n",
            "spark-3.3.0-bin-hadoop3/python/pyspark/sql/pandas/typehints.py\n",
            "spark-3.3.0-bin-hadoop3/python/pyspark/sql/pandas/map_ops.py\n",
            "spark-3.3.0-bin-hadoop3/python/pyspark/sql/pandas/types.py\n",
            "spark-3.3.0-bin-hadoop3/python/pyspark/sql/pandas/group_ops.py\n",
            "spark-3.3.0-bin-hadoop3/python/pyspark/sql/pandas/functions.pyi\n",
            "spark-3.3.0-bin-hadoop3/python/pyspark/sql/pandas/utils.py\n",
            "spark-3.3.0-bin-hadoop3/python/pyspark/sql/pandas/conversion.py\n",
            "spark-3.3.0-bin-hadoop3/python/pyspark/sql/pandas/_typing/\n",
            "spark-3.3.0-bin-hadoop3/python/pyspark/sql/pandas/_typing/__init__.pyi\n",
            "spark-3.3.0-bin-hadoop3/python/pyspark/sql/pandas/_typing/protocols/\n",
            "spark-3.3.0-bin-hadoop3/python/pyspark/sql/pandas/_typing/protocols/__init__.pyi\n",
            "spark-3.3.0-bin-hadoop3/python/pyspark/sql/pandas/_typing/protocols/series.pyi\n",
            "spark-3.3.0-bin-hadoop3/python/pyspark/sql/pandas/_typing/protocols/frame.pyi\n",
            "spark-3.3.0-bin-hadoop3/python/pyspark/sql/_typing.pyi\n",
            "spark-3.3.0-bin-hadoop3/python/pyspark/sql/functions.py\n",
            "spark-3.3.0-bin-hadoop3/python/pyspark/sql/readwriter.py\n",
            "spark-3.3.0-bin-hadoop3/python/pyspark/sql/catalog.py\n",
            "spark-3.3.0-bin-hadoop3/python/pyspark/sql/sql_formatter.py\n",
            "spark-3.3.0-bin-hadoop3/python/pyspark/sql/window.py\n",
            "spark-3.3.0-bin-hadoop3/python/pyspark/sql/udf.py\n",
            "spark-3.3.0-bin-hadoop3/python/pyspark/sql/conf.py\n",
            "spark-3.3.0-bin-hadoop3/python/pyspark/sql/__init__.py\n",
            "spark-3.3.0-bin-hadoop3/python/pyspark/sql/session.py\n",
            "spark-3.3.0-bin-hadoop3/python/pyspark/sql/column.py\n",
            "spark-3.3.0-bin-hadoop3/python/pyspark/sql/group.py\n",
            "spark-3.3.0-bin-hadoop3/python/pyspark/sql/context.py\n",
            "spark-3.3.0-bin-hadoop3/python/pyspark/sql/types.py\n",
            "spark-3.3.0-bin-hadoop3/python/pyspark/sql/observation.py\n",
            "spark-3.3.0-bin-hadoop3/python/pyspark/sql/dataframe.py\n",
            "spark-3.3.0-bin-hadoop3/python/pyspark/sql/avro/\n",
            "spark-3.3.0-bin-hadoop3/python/pyspark/sql/avro/functions.py\n",
            "spark-3.3.0-bin-hadoop3/python/pyspark/sql/avro/__init__.py\n",
            "spark-3.3.0-bin-hadoop3/python/pyspark/sql/utils.py\n",
            "spark-3.3.0-bin-hadoop3/python/pyspark/sql/streaming.py\n",
            "spark-3.3.0-bin-hadoop3/python/pyspark/python/\n",
            "spark-3.3.0-bin-hadoop3/python/pyspark/python/pyspark/\n",
            "spark-3.3.0-bin-hadoop3/python/pyspark/python/pyspark/shell.py\n",
            "spark-3.3.0-bin-hadoop3/python/pyspark/shuffle.py\n",
            "spark-3.3.0-bin-hadoop3/python/pyspark/taskcontext.py\n",
            "spark-3.3.0-bin-hadoop3/python/pyspark/_globals.py\n",
            "spark-3.3.0-bin-hadoop3/python/pyspark/broadcast.py\n",
            "spark-3.3.0-bin-hadoop3/python/pyspark/util.py\n",
            "spark-3.3.0-bin-hadoop3/python/pyspark/storagelevel.py\n",
            "spark-3.3.0-bin-hadoop3/python/.coveragerc\n",
            "spark-3.3.0-bin-hadoop3/python/docs/\n",
            "spark-3.3.0-bin-hadoop3/python/docs/make2.bat\n",
            "spark-3.3.0-bin-hadoop3/python/docs/source/\n",
            "spark-3.3.0-bin-hadoop3/python/docs/source/reference/\n",
            "spark-3.3.0-bin-hadoop3/python/docs/source/reference/pyspark.sql/\n",
            "spark-3.3.0-bin-hadoop3/python/docs/source/reference/pyspark.sql/configuration.rst\n",
            "spark-3.3.0-bin-hadoop3/python/docs/source/reference/pyspark.sql/window.rst\n",
            "spark-3.3.0-bin-hadoop3/python/docs/source/reference/pyspark.sql/spark_session.rst\n",
            "spark-3.3.0-bin-hadoop3/python/docs/source/reference/pyspark.sql/index.rst\n",
            "spark-3.3.0-bin-hadoop3/python/docs/source/reference/pyspark.sql/grouping.rst\n",
            "spark-3.3.0-bin-hadoop3/python/docs/source/reference/pyspark.sql/catalog.rst\n",
            "spark-3.3.0-bin-hadoop3/python/docs/source/reference/pyspark.sql/column.rst\n",
            "spark-3.3.0-bin-hadoop3/python/docs/source/reference/pyspark.sql/io.rst\n",
            "spark-3.3.0-bin-hadoop3/python/docs/source/reference/pyspark.sql/observation.rst\n",
            "spark-3.3.0-bin-hadoop3/python/docs/source/reference/pyspark.sql/core_classes.rst\n",
            "spark-3.3.0-bin-hadoop3/python/docs/source/reference/pyspark.sql/row.rst\n",
            "spark-3.3.0-bin-hadoop3/python/docs/source/reference/pyspark.sql/avro.rst\n",
            "spark-3.3.0-bin-hadoop3/python/docs/source/reference/pyspark.sql/functions.rst\n",
            "spark-3.3.0-bin-hadoop3/python/docs/source/reference/pyspark.sql/dataframe.rst\n",
            "spark-3.3.0-bin-hadoop3/python/docs/source/reference/pyspark.sql/data_types.rst\n",
            "spark-3.3.0-bin-hadoop3/python/docs/source/reference/index.rst\n",
            "spark-3.3.0-bin-hadoop3/python/docs/source/reference/pyspark.ml.rst\n",
            "spark-3.3.0-bin-hadoop3/python/docs/source/reference/pyspark.rst\n",
            "spark-3.3.0-bin-hadoop3/python/docs/source/reference/pyspark.ss/\n",
            "spark-3.3.0-bin-hadoop3/python/docs/source/reference/pyspark.ss/index.rst\n",
            "spark-3.3.0-bin-hadoop3/python/docs/source/reference/pyspark.ss/query_management.rst\n",
            "spark-3.3.0-bin-hadoop3/python/docs/source/reference/pyspark.ss/io.rst\n",
            "spark-3.3.0-bin-hadoop3/python/docs/source/reference/pyspark.ss/core_classes.rst\n",
            "spark-3.3.0-bin-hadoop3/python/docs/source/reference/pyspark.pandas/\n",
            "spark-3.3.0-bin-hadoop3/python/docs/source/reference/pyspark.pandas/window.rst\n",
            "spark-3.3.0-bin-hadoop3/python/docs/source/reference/pyspark.pandas/index.rst\n",
            "spark-3.3.0-bin-hadoop3/python/docs/source/reference/pyspark.pandas/extensions.rst\n",
            "spark-3.3.0-bin-hadoop3/python/docs/source/reference/pyspark.pandas/ml.rst\n",
            "spark-3.3.0-bin-hadoop3/python/docs/source/reference/pyspark.pandas/frame.rst\n",
            "spark-3.3.0-bin-hadoop3/python/docs/source/reference/pyspark.pandas/io.rst\n",
            "spark-3.3.0-bin-hadoop3/python/docs/source/reference/pyspark.pandas/series.rst\n",
            "spark-3.3.0-bin-hadoop3/python/docs/source/reference/pyspark.pandas/indexing.rst\n",
            "spark-3.3.0-bin-hadoop3/python/docs/source/reference/pyspark.pandas/general_functions.rst\n",
            "spark-3.3.0-bin-hadoop3/python/docs/source/reference/pyspark.pandas/groupby.rst\n",
            "spark-3.3.0-bin-hadoop3/python/docs/source/reference/pyspark.mllib.rst\n",
            "spark-3.3.0-bin-hadoop3/python/docs/source/reference/pyspark.streaming.rst\n",
            "spark-3.3.0-bin-hadoop3/python/docs/source/reference/pyspark.resource.rst\n",
            "spark-3.3.0-bin-hadoop3/python/docs/source/index.rst\n",
            "spark-3.3.0-bin-hadoop3/python/docs/source/getting_started/\n",
            "spark-3.3.0-bin-hadoop3/python/docs/source/getting_started/index.rst\n",
            "spark-3.3.0-bin-hadoop3/python/docs/source/getting_started/quickstart_ps.ipynb\n",
            "spark-3.3.0-bin-hadoop3/python/docs/source/getting_started/quickstart_df.ipynb\n",
            "spark-3.3.0-bin-hadoop3/python/docs/source/getting_started/install.rst\n",
            "spark-3.3.0-bin-hadoop3/python/docs/source/conf.py\n",
            "spark-3.3.0-bin-hadoop3/python/docs/source/_templates/\n",
            "spark-3.3.0-bin-hadoop3/python/docs/source/_templates/autosummary/\n",
            "spark-3.3.0-bin-hadoop3/python/docs/source/_templates/autosummary/class.rst\n",
            "spark-3.3.0-bin-hadoop3/python/docs/source/_templates/autosummary/class_with_docs.rst\n",
            "spark-3.3.0-bin-hadoop3/python/docs/source/_static/\n",
            "spark-3.3.0-bin-hadoop3/python/docs/source/_static/copybutton.js\n",
            "spark-3.3.0-bin-hadoop3/python/docs/source/_static/css/\n",
            "spark-3.3.0-bin-hadoop3/python/docs/source/_static/css/pyspark.css\n",
            "spark-3.3.0-bin-hadoop3/python/docs/source/development/\n",
            "spark-3.3.0-bin-hadoop3/python/docs/source/development/setting_ide.rst\n",
            "spark-3.3.0-bin-hadoop3/python/docs/source/development/index.rst\n",
            "spark-3.3.0-bin-hadoop3/python/docs/source/development/debugging.rst\n",
            "spark-3.3.0-bin-hadoop3/python/docs/source/development/testing.rst\n",
            "spark-3.3.0-bin-hadoop3/python/docs/source/development/contributing.rst\n",
            "spark-3.3.0-bin-hadoop3/python/docs/source/user_guide/\n",
            "spark-3.3.0-bin-hadoop3/python/docs/source/user_guide/arrow_pandas.rst\n",
            "spark-3.3.0-bin-hadoop3/python/docs/source/user_guide/index.rst\n",
            "spark-3.3.0-bin-hadoop3/python/docs/source/user_guide/pandas_on_spark/\n",
            "spark-3.3.0-bin-hadoop3/python/docs/source/user_guide/pandas_on_spark/types.rst\n",
            "spark-3.3.0-bin-hadoop3/python/docs/source/user_guide/pandas_on_spark/best_practices.rst\n",
            "spark-3.3.0-bin-hadoop3/python/docs/source/user_guide/pandas_on_spark/options.rst\n",
            "spark-3.3.0-bin-hadoop3/python/docs/source/user_guide/pandas_on_spark/pandas_pyspark.rst\n",
            "spark-3.3.0-bin-hadoop3/python/docs/source/user_guide/pandas_on_spark/index.rst\n",
            "spark-3.3.0-bin-hadoop3/python/docs/source/user_guide/pandas_on_spark/typehints.rst\n",
            "spark-3.3.0-bin-hadoop3/python/docs/source/user_guide/pandas_on_spark/transform_apply.rst\n",
            "spark-3.3.0-bin-hadoop3/python/docs/source/user_guide/pandas_on_spark/supported_pandas_api.rst\n",
            "spark-3.3.0-bin-hadoop3/python/docs/source/user_guide/pandas_on_spark/from_to_dbms.rst\n",
            "spark-3.3.0-bin-hadoop3/python/docs/source/user_guide/pandas_on_spark/faq.rst\n",
            "spark-3.3.0-bin-hadoop3/python/docs/source/user_guide/python_packaging.rst\n",
            "spark-3.3.0-bin-hadoop3/python/docs/source/user_guide/sql/\n",
            "spark-3.3.0-bin-hadoop3/python/docs/source/user_guide/sql/arrow_pandas.rst\n",
            "spark-3.3.0-bin-hadoop3/python/docs/source/user_guide/sql/index.rst\n",
            "spark-3.3.0-bin-hadoop3/python/docs/source/migration_guide/\n",
            "spark-3.3.0-bin-hadoop3/python/docs/source/migration_guide/pyspark_2.3.0_to_2.3.1_above.rst\n",
            "spark-3.3.0-bin-hadoop3/python/docs/source/migration_guide/index.rst\n",
            "spark-3.3.0-bin-hadoop3/python/docs/source/migration_guide/pyspark_2.4_to_3.0.rst\n",
            "spark-3.3.0-bin-hadoop3/python/docs/source/migration_guide/pyspark_1.0_1.2_to_1.3.rst\n",
            "spark-3.3.0-bin-hadoop3/python/docs/source/migration_guide/pyspark_3.2_to_3.3.rst\n",
            "spark-3.3.0-bin-hadoop3/python/docs/source/migration_guide/pyspark_2.3_to_2.4.rst\n",
            "spark-3.3.0-bin-hadoop3/python/docs/source/migration_guide/koalas_to_pyspark.rst\n",
            "spark-3.3.0-bin-hadoop3/python/docs/source/migration_guide/pyspark_1.4_to_1.5.rst\n",
            "spark-3.3.0-bin-hadoop3/python/docs/source/migration_guide/pyspark_2.2_to_2.3.rst\n",
            "spark-3.3.0-bin-hadoop3/python/docs/source/migration_guide/pyspark_3.1_to_3.2.rst\n",
            "spark-3.3.0-bin-hadoop3/python/docs/make.bat\n",
            "spark-3.3.0-bin-hadoop3/python/docs/Makefile\n",
            "spark-3.3.0-bin-hadoop3/python/lib/\n",
            "spark-3.3.0-bin-hadoop3/python/lib/PY4J_LICENSE.txt\n",
            "spark-3.3.0-bin-hadoop3/python/lib/py4j-0.10.9.5-src.zip\n",
            "spark-3.3.0-bin-hadoop3/python/lib/pyspark.zip\n",
            "spark-3.3.0-bin-hadoop3/python/run-tests\n",
            "spark-3.3.0-bin-hadoop3/python/setup.cfg\n",
            "spark-3.3.0-bin-hadoop3/python/dist/\n",
            "spark-3.3.0-bin-hadoop3/python/pyspark.egg-info/\n",
            "spark-3.3.0-bin-hadoop3/python/pyspark.egg-info/dependency_links.txt\n",
            "spark-3.3.0-bin-hadoop3/python/pyspark.egg-info/PKG-INFO\n",
            "spark-3.3.0-bin-hadoop3/python/pyspark.egg-info/top_level.txt\n",
            "spark-3.3.0-bin-hadoop3/python/pyspark.egg-info/requires.txt\n",
            "spark-3.3.0-bin-hadoop3/python/pyspark.egg-info/SOURCES.txt\n",
            "spark-3.3.0-bin-hadoop3/licenses/\n",
            "spark-3.3.0-bin-hadoop3/licenses/LICENSE-respond.txt\n",
            "spark-3.3.0-bin-hadoop3/licenses/LICENSE-sbt-launch-lib.txt\n",
            "spark-3.3.0-bin-hadoop3/licenses/LICENSE-antlr.txt\n",
            "spark-3.3.0-bin-hadoop3/licenses/LICENSE-dagre-d3.txt\n",
            "spark-3.3.0-bin-hadoop3/licenses/LICENSE-pyrolite.txt\n",
            "spark-3.3.0-bin-hadoop3/licenses/LICENSE-sorttable.js.txt\n",
            "spark-3.3.0-bin-hadoop3/licenses/LICENSE-janino.txt\n",
            "spark-3.3.0-bin-hadoop3/licenses/LICENSE-protobuf.txt\n",
            "spark-3.3.0-bin-hadoop3/licenses/LICENSE-jquery.txt\n",
            "spark-3.3.0-bin-hadoop3/licenses/LICENSE-scopt.txt\n",
            "spark-3.3.0-bin-hadoop3/licenses/LICENSE-netlib.txt\n",
            "spark-3.3.0-bin-hadoop3/licenses/LICENSE-d3.min.js.txt\n",
            "spark-3.3.0-bin-hadoop3/licenses/LICENSE-graphlib-dot.txt\n",
            "spark-3.3.0-bin-hadoop3/licenses/LICENSE-AnchorJS.txt\n",
            "spark-3.3.0-bin-hadoop3/licenses/LICENSE-datatables.txt\n",
            "spark-3.3.0-bin-hadoop3/licenses/LICENSE-pmml-model.txt\n",
            "spark-3.3.0-bin-hadoop3/licenses/LICENSE-paranamer.txt\n",
            "spark-3.3.0-bin-hadoop3/licenses/LICENSE-jakarta-ws-rs-api\n",
            "spark-3.3.0-bin-hadoop3/licenses/LICENSE-dnsjava.txt\n",
            "spark-3.3.0-bin-hadoop3/licenses/LICENSE-jakarta.xml.bind-api.txt\n",
            "spark-3.3.0-bin-hadoop3/licenses/LICENSE-jakarta-annotation-api\n",
            "spark-3.3.0-bin-hadoop3/licenses/LICENSE-CC0.txt\n",
            "spark-3.3.0-bin-hadoop3/licenses/LICENSE-jodd.txt\n",
            "spark-3.3.0-bin-hadoop3/licenses/LICENSE-f2j.txt\n",
            "spark-3.3.0-bin-hadoop3/licenses/LICENSE-machinist.txt\n",
            "spark-3.3.0-bin-hadoop3/licenses/LICENSE-javolution.txt\n",
            "spark-3.3.0-bin-hadoop3/licenses/LICENSE-modernizr.txt\n",
            "spark-3.3.0-bin-hadoop3/licenses/LICENSE-spire.txt\n",
            "spark-3.3.0-bin-hadoop3/licenses/LICENSE-leveldbjni.txt\n",
            "spark-3.3.0-bin-hadoop3/licenses/LICENSE-join.txt\n",
            "spark-3.3.0-bin-hadoop3/licenses/LICENSE-zstd-jni.txt\n",
            "spark-3.3.0-bin-hadoop3/licenses/LICENSE-slf4j.txt\n",
            "spark-3.3.0-bin-hadoop3/licenses/LICENSE-arpack.txt\n",
            "spark-3.3.0-bin-hadoop3/licenses/LICENSE-jsp-api.txt\n",
            "spark-3.3.0-bin-hadoop3/licenses/LICENSE-JTransforms.txt\n",
            "spark-3.3.0-bin-hadoop3/licenses/LICENSE-JLargeArrays.txt\n",
            "spark-3.3.0-bin-hadoop3/licenses/LICENSE-bootstrap.txt\n",
            "spark-3.3.0-bin-hadoop3/licenses/LICENSE-reflectasm.txt\n",
            "spark-3.3.0-bin-hadoop3/licenses/LICENSE-javassist.html\n",
            "spark-3.3.0-bin-hadoop3/licenses/LICENSE-zstd.txt\n",
            "spark-3.3.0-bin-hadoop3/licenses/LICENSE-json-formatter.txt\n",
            "spark-3.3.0-bin-hadoop3/licenses/LICENSE-matchMedia-polyfill.txt\n",
            "spark-3.3.0-bin-hadoop3/licenses/LICENSE-scala.txt\n",
            "spark-3.3.0-bin-hadoop3/licenses/LICENSE-jakarta.activation-api.txt\n",
            "spark-3.3.0-bin-hadoop3/licenses/LICENSE-automaton.txt\n",
            "spark-3.3.0-bin-hadoop3/licenses/LICENSE-javax-transaction-transaction-api.txt\n",
            "spark-3.3.0-bin-hadoop3/licenses/LICENSE-jaxb-runtime.txt\n",
            "spark-3.3.0-bin-hadoop3/licenses/LICENSE-minlog.txt\n",
            "spark-3.3.0-bin-hadoop3/licenses/LICENSE-mustache.txt\n",
            "spark-3.3.0-bin-hadoop3/licenses/LICENSE-xmlenc.txt\n",
            "spark-3.3.0-bin-hadoop3/licenses/LICENSE-jline.txt\n",
            "spark-3.3.0-bin-hadoop3/licenses/LICENSE-istack-commons-runtime.txt\n",
            "spark-3.3.0-bin-hadoop3/licenses/LICENSE-py4j.txt\n",
            "spark-3.3.0-bin-hadoop3/licenses/LICENSE-vis-timeline.txt\n",
            "spark-3.3.0-bin-hadoop3/licenses/LICENSE-blas.txt\n",
            "spark-3.3.0-bin-hadoop3/licenses/LICENSE-re2j.txt\n",
            "spark-3.3.0-bin-hadoop3/licenses/LICENSE-kryo.txt\n",
            "spark-3.3.0-bin-hadoop3/licenses/LICENSE-cloudpickle.txt\n",
            "Looking in indexes: https://pypi.org/simple, https://us-python.pkg.dev/colab-wheels/public/simple/\n",
            "Collecting pyspark\n",
            "  Downloading pyspark-3.3.0.tar.gz (281.3 MB)\n",
            "\u001b[K     |████████████████████████████████| 281.3 MB 37 kB/s \n",
            "\u001b[?25hCollecting py4j==0.10.9.5\n",
            "  Downloading py4j-0.10.9.5-py2.py3-none-any.whl (199 kB)\n",
            "\u001b[K     |████████████████████████████████| 199 kB 53.5 MB/s \n",
            "\u001b[?25hBuilding wheels for collected packages: pyspark\n",
            "  Building wheel for pyspark (setup.py) ... \u001b[?25l\u001b[?25hdone\n",
            "  Created wheel for pyspark: filename=pyspark-3.3.0-py2.py3-none-any.whl size=281764026 sha256=fd862f2a0e462a5a45065a86ef51407f225287160e72dbc0714ab60d98cf4256\n",
            "  Stored in directory: /root/.cache/pip/wheels/7a/8e/1b/f73a52650d2e5f337708d9f6a1750d451a7349a867f928b885\n",
            "Successfully built pyspark\n",
            "Installing collected packages: py4j, pyspark\n",
            "Successfully installed py4j-0.10.9.5 pyspark-3.3.0\n"
          ]
        }
      ],
      "source": [
        "#The sudo apt-get update command is used to download package information from all configured sources\n",
        "!sudo apt update\n",
        "\n",
        "# innstall java\n",
        "!apt-get install openjdk-8-jdk-headless -qq > /dev/null\n",
        "\n",
        "# install spark\n",
        "!wget -q https://dlcdn.apache.org/spark/spark-3.3.0/spark-3.3.0-bin-hadoop3.tgz\n",
        "\n",
        "# unzip the spark file to the current folder\n",
        "!tar -xvf spark-3.3.0-bin-hadoop3.tgz\n",
        "\n",
        "# install findspark using pip\n",
        "!pip install -q findspark\n",
        "\n",
        "#For python users, also install pyspark using the following command.\n",
        "!pip install pyspark\n"
      ]
    },
    {
      "cell_type": "code",
      "execution_count": 3,
      "metadata": {
        "id": "U7ZDDNp-UMvx"
      },
      "outputs": [],
      "source": [
        "# set your spark folder to your system path environment.\n",
        "import os\n",
        "os.environ[\"JAVA_HOME\"] = \"/usr/lib/jvm/java-8-openjdk-amd64\"\n",
        "os.environ[\"SPARK_HOME\"] = \"/content/spark-3.3.0-bin-hadoop3\""
      ]
    },
    {
      "cell_type": "code",
      "execution_count": 4,
      "metadata": {
        "id": "uXfng0DxUTgo"
      },
      "outputs": [],
      "source": [
        "#Run a local spark session to test your installation:\n",
        "\n",
        "import findspark\n",
        "findspark.init()\n",
        "\n",
        "#to know the location where Spark is installed\n",
        "findspark.find()\n",
        "\n",
        "from pyspark.sql import SparkSession\n",
        "spark = SparkSession.builder.master(\"local[*]\").getOrCreate()"
      ]
    },
    {
      "cell_type": "code",
      "execution_count": null,
      "metadata": {
        "id": "puuD-9v0WWYa"
      },
      "outputs": [],
      "source": [
        "from google.colab import files\n",
        "files.upload()"
      ]
    },
    {
      "cell_type": "code",
      "source": [
        "!unzip '/content/Data.zip'"
      ],
      "metadata": {
        "colab": {
          "base_uri": "https://localhost:8080/"
        },
        "id": "aytPvApytBV_",
        "outputId": "564bf91a-4e71-4c23-ca81-89a91c4332e2"
      },
      "execution_count": 6,
      "outputs": [
        {
          "output_type": "stream",
          "name": "stdout",
          "text": [
            "Archive:  /content/Data.zip\n",
            "   creating: Data/\n",
            "  inflating: Data/location_temp.csv  \n",
            "  inflating: Data/server_name.csv    \n",
            "  inflating: Data/utilization.csv    \n",
            "  inflating: Data/utlization.json    \n"
          ]
        }
      ]
    },
    {
      "cell_type": "code",
      "execution_count": 29,
      "metadata": {
        "collapsed": true,
        "id": "8kUehqrtmKcy"
      },
      "outputs": [],
      "source": [
        "data_path = '/content/Data/'\n",
        "#/content/Data/location_temp.csv"
      ]
    },
    {
      "cell_type": "code",
      "execution_count": 9,
      "metadata": {
        "collapsed": true,
        "id": "FNzL6kYtmKc3"
      },
      "outputs": [],
      "source": [
        "file_path = data_path + \"/location_temp.csv\"\n",
        "df1 = spark.read.format(\"csv\").option(\"header\", \"true\").load(file_path)"
      ]
    },
    {
      "cell_type": "code",
      "execution_count": 10,
      "metadata": {
        "id": "QoNpCfY5mKc4",
        "scrolled": true,
        "colab": {
          "base_uri": "https://localhost:8080/"
        },
        "outputId": "2a833652-1bfa-4818-f012-7c80103828bd"
      },
      "outputs": [
        {
          "output_type": "execute_result",
          "data": {
            "text/plain": [
              "[Row(event_date='03/04/2019 19:48:06', location_id='loc0', temp_celcius='29'),\n",
              " Row(event_date='03/04/2019 19:53:06', location_id='loc0', temp_celcius='27'),\n",
              " Row(event_date='03/04/2019 19:58:06', location_id='loc0', temp_celcius='28'),\n",
              " Row(event_date='03/04/2019 20:03:06', location_id='loc0', temp_celcius='30'),\n",
              " Row(event_date='03/04/2019 20:08:06', location_id='loc0', temp_celcius='27'),\n",
              " Row(event_date='03/04/2019 20:13:06', location_id='loc0', temp_celcius='27'),\n",
              " Row(event_date='03/04/2019 20:18:06', location_id='loc0', temp_celcius='27'),\n",
              " Row(event_date='03/04/2019 20:23:06', location_id='loc0', temp_celcius='29'),\n",
              " Row(event_date='03/04/2019 20:28:06', location_id='loc0', temp_celcius='32'),\n",
              " Row(event_date='03/04/2019 20:33:06', location_id='loc0', temp_celcius='35')]"
            ]
          },
          "metadata": {},
          "execution_count": 10
        }
      ],
      "source": [
        "df1.head(10)"
      ]
    },
    {
      "cell_type": "code",
      "execution_count": 11,
      "metadata": {
        "id": "uv1_BihamKc6",
        "colab": {
          "base_uri": "https://localhost:8080/"
        },
        "outputId": "722c5fe2-048b-4584-ae35-bd6682133f0b"
      },
      "outputs": [
        {
          "output_type": "stream",
          "name": "stdout",
          "text": [
            "+-------------------+-----------+------------+\n",
            "|         event_date|location_id|temp_celcius|\n",
            "+-------------------+-----------+------------+\n",
            "|03/04/2019 19:48:06|       loc0|          29|\n",
            "|03/04/2019 19:53:06|       loc0|          27|\n",
            "|03/04/2019 19:58:06|       loc0|          28|\n",
            "|03/04/2019 20:03:06|       loc0|          30|\n",
            "|03/04/2019 20:08:06|       loc0|          27|\n",
            "|03/04/2019 20:13:06|       loc0|          27|\n",
            "|03/04/2019 20:18:06|       loc0|          27|\n",
            "|03/04/2019 20:23:06|       loc0|          29|\n",
            "|03/04/2019 20:28:06|       loc0|          32|\n",
            "|03/04/2019 20:33:06|       loc0|          35|\n",
            "|03/04/2019 20:38:06|       loc0|          32|\n",
            "|03/04/2019 20:43:06|       loc0|          28|\n",
            "|03/04/2019 20:48:06|       loc0|          28|\n",
            "|03/04/2019 20:53:06|       loc0|          32|\n",
            "|03/04/2019 20:58:06|       loc0|          34|\n",
            "|03/04/2019 21:03:06|       loc0|          33|\n",
            "|03/04/2019 21:08:06|       loc0|          27|\n",
            "|03/04/2019 21:13:06|       loc0|          28|\n",
            "|03/04/2019 21:18:06|       loc0|          33|\n",
            "|03/04/2019 21:23:06|       loc0|          28|\n",
            "+-------------------+-----------+------------+\n",
            "only showing top 20 rows\n",
            "\n"
          ]
        }
      ],
      "source": [
        "df1.show()"
      ]
    },
    {
      "cell_type": "code",
      "execution_count": 12,
      "metadata": {
        "id": "MqQJqVZmmKc7",
        "colab": {
          "base_uri": "https://localhost:8080/"
        },
        "outputId": "473cdade-b083-42de-c7e1-1602498b23ba"
      },
      "outputs": [
        {
          "output_type": "execute_result",
          "data": {
            "text/plain": [
              "500000"
            ]
          },
          "metadata": {},
          "execution_count": 12
        }
      ],
      "source": [
        "df1.count()"
      ]
    },
    {
      "cell_type": "code",
      "source": [
        "df1.columns"
      ],
      "metadata": {
        "colab": {
          "base_uri": "https://localhost:8080/"
        },
        "id": "RpoqJ8WZvrRH",
        "outputId": "d7c0fb1f-18c2-45e7-e37c-fd23ec74bd31"
      },
      "execution_count": 15,
      "outputs": [
        {
          "output_type": "execute_result",
          "data": {
            "text/plain": [
              "['event_date', 'location_id', 'temp_celcius']"
            ]
          },
          "metadata": {},
          "execution_count": 15
        }
      ]
    },
    {
      "cell_type": "code",
      "execution_count": 16,
      "metadata": {
        "collapsed": true,
        "id": "hoPm1qz5mKc7"
      },
      "outputs": [],
      "source": [
        "file_path_no_header = data_path + \"/utilization.csv\"\n",
        "df2 = spark.read.format(\"csv\").option(\"header\", \"false\").option(\"inferSchema\",\"true\").load(file_path_no_header)"
      ]
    },
    {
      "cell_type": "code",
      "execution_count": 17,
      "metadata": {
        "id": "IO_YkQBKmKc8",
        "colab": {
          "base_uri": "https://localhost:8080/"
        },
        "outputId": "7eb4f4b9-5d73-4b5f-a38a-4542cb9b66e4"
      },
      "outputs": [
        {
          "output_type": "execute_result",
          "data": {
            "text/plain": [
              "500000"
            ]
          },
          "metadata": {},
          "execution_count": 17
        }
      ],
      "source": [
        "df2.count()"
      ]
    },
    {
      "cell_type": "code",
      "execution_count": 18,
      "metadata": {
        "id": "rQKI4Ae8mKc9",
        "colab": {
          "base_uri": "https://localhost:8080/"
        },
        "outputId": "46254632-3ae6-44cb-fdbf-228a90357986"
      },
      "outputs": [
        {
          "output_type": "execute_result",
          "data": {
            "text/plain": [
              "[Row(_c0='03/05/2019 08:06:14', _c1=100, _c2=0.57, _c3=0.51, _c4=47),\n",
              " Row(_c0='03/05/2019 08:11:14', _c1=100, _c2=0.47, _c3=0.62, _c4=43),\n",
              " Row(_c0='03/05/2019 08:16:14', _c1=100, _c2=0.56, _c3=0.57, _c4=62),\n",
              " Row(_c0='03/05/2019 08:21:14', _c1=100, _c2=0.57, _c3=0.56, _c4=50),\n",
              " Row(_c0='03/05/2019 08:26:14', _c1=100, _c2=0.35, _c3=0.46, _c4=43),\n",
              " Row(_c0='03/05/2019 08:31:14', _c1=100, _c2=0.41, _c3=0.58, _c4=48),\n",
              " Row(_c0='03/05/2019 08:36:14', _c1=100, _c2=0.57, _c3=0.35, _c4=58),\n",
              " Row(_c0='03/05/2019 08:41:14', _c1=100, _c2=0.41, _c3=0.4, _c4=58),\n",
              " Row(_c0='03/05/2019 08:46:14', _c1=100, _c2=0.53, _c3=0.35, _c4=62),\n",
              " Row(_c0='03/05/2019 08:51:14', _c1=100, _c2=0.51, _c3=0.6, _c4=45)]"
            ]
          },
          "metadata": {},
          "execution_count": 18
        }
      ],
      "source": [
        "df2.head(10)"
      ]
    },
    {
      "cell_type": "code",
      "source": [
        "df2.show(5)"
      ],
      "metadata": {
        "colab": {
          "base_uri": "https://localhost:8080/"
        },
        "id": "WvBpSGOev_og",
        "outputId": "c5ca2d9f-b6f8-4154-8f05-c49393fea4a0"
      },
      "execution_count": 21,
      "outputs": [
        {
          "output_type": "stream",
          "name": "stdout",
          "text": [
            "+-------------------+---+----+----+---+\n",
            "|                _c0|_c1| _c2| _c3|_c4|\n",
            "+-------------------+---+----+----+---+\n",
            "|03/05/2019 08:06:14|100|0.57|0.51| 47|\n",
            "|03/05/2019 08:11:14|100|0.47|0.62| 43|\n",
            "|03/05/2019 08:16:14|100|0.56|0.57| 62|\n",
            "|03/05/2019 08:21:14|100|0.57|0.56| 50|\n",
            "|03/05/2019 08:26:14|100|0.35|0.46| 43|\n",
            "+-------------------+---+----+----+---+\n",
            "only showing top 5 rows\n",
            "\n"
          ]
        }
      ]
    },
    {
      "cell_type": "code",
      "source": [
        "df2.columns"
      ],
      "metadata": {
        "colab": {
          "base_uri": "https://localhost:8080/"
        },
        "id": "lB06zzVUv-kV",
        "outputId": "5a82ac62-4a9f-4262-8c95-36e7b9f8a3a9"
      },
      "execution_count": 22,
      "outputs": [
        {
          "output_type": "execute_result",
          "data": {
            "text/plain": [
              "['_c0', '_c1', '_c2', '_c3', '_c4']"
            ]
          },
          "metadata": {},
          "execution_count": 22
        }
      ]
    },
    {
      "cell_type": "code",
      "execution_count": 23,
      "metadata": {
        "collapsed": true,
        "id": "7k_T_xV8mKdA"
      },
      "outputs": [],
      "source": [
        "df2 = df2.withColumnRenamed(\"_c0\", \"event_datetime\") \\\n",
        "        .withColumnRenamed (\"_c1\", \"server_id\")       \\\n",
        "        .withColumnRenamed(\"_c2\", \"cpu_utilization\")  \\\n",
        "        .withColumnRenamed(\"_c3\", \"free_memory\")      \\\n",
        "        .withColumnRenamed(\"_c4\", \"session_count\")"
      ]
    },
    {
      "cell_type": "code",
      "execution_count": 24,
      "metadata": {
        "id": "VFPVOqMemKdB",
        "colab": {
          "base_uri": "https://localhost:8080/"
        },
        "outputId": "c61727ca-084f-457d-90cd-b47e06ad5735"
      },
      "outputs": [
        {
          "output_type": "execute_result",
          "data": {
            "text/plain": [
              "[Row(event_datetime='03/05/2019 08:06:14', server_id=100, cpu_utilization=0.57, free_memory=0.51, session_count=47),\n",
              " Row(event_datetime='03/05/2019 08:11:14', server_id=100, cpu_utilization=0.47, free_memory=0.62, session_count=43),\n",
              " Row(event_datetime='03/05/2019 08:16:14', server_id=100, cpu_utilization=0.56, free_memory=0.57, session_count=62),\n",
              " Row(event_datetime='03/05/2019 08:21:14', server_id=100, cpu_utilization=0.57, free_memory=0.56, session_count=50),\n",
              " Row(event_datetime='03/05/2019 08:26:14', server_id=100, cpu_utilization=0.35, free_memory=0.46, session_count=43),\n",
              " Row(event_datetime='03/05/2019 08:31:14', server_id=100, cpu_utilization=0.41, free_memory=0.58, session_count=48),\n",
              " Row(event_datetime='03/05/2019 08:36:14', server_id=100, cpu_utilization=0.57, free_memory=0.35, session_count=58),\n",
              " Row(event_datetime='03/05/2019 08:41:14', server_id=100, cpu_utilization=0.41, free_memory=0.4, session_count=58),\n",
              " Row(event_datetime='03/05/2019 08:46:14', server_id=100, cpu_utilization=0.53, free_memory=0.35, session_count=62),\n",
              " Row(event_datetime='03/05/2019 08:51:14', server_id=100, cpu_utilization=0.51, free_memory=0.6, session_count=45)]"
            ]
          },
          "metadata": {},
          "execution_count": 24
        }
      ],
      "source": [
        "df2.head(10)"
      ]
    },
    {
      "cell_type": "code",
      "execution_count": 25,
      "metadata": {
        "id": "Bo69kmTZmKdC",
        "colab": {
          "base_uri": "https://localhost:8080/"
        },
        "outputId": "76f90130-0c25-478b-9c8f-fa3e52f0739e"
      },
      "outputs": [
        {
          "output_type": "stream",
          "name": "stdout",
          "text": [
            "+-------------------+---------+---------------+-----------+-------------+\n",
            "|     event_datetime|server_id|cpu_utilization|free_memory|session_count|\n",
            "+-------------------+---------+---------------+-----------+-------------+\n",
            "|03/05/2019 08:06:14|      100|           0.57|       0.51|           47|\n",
            "|03/05/2019 08:11:14|      100|           0.47|       0.62|           43|\n",
            "|03/05/2019 08:16:14|      100|           0.56|       0.57|           62|\n",
            "|03/05/2019 08:21:14|      100|           0.57|       0.56|           50|\n",
            "|03/05/2019 08:26:14|      100|           0.35|       0.46|           43|\n",
            "|03/05/2019 08:31:14|      100|           0.41|       0.58|           48|\n",
            "|03/05/2019 08:36:14|      100|           0.57|       0.35|           58|\n",
            "|03/05/2019 08:41:14|      100|           0.41|        0.4|           58|\n",
            "|03/05/2019 08:46:14|      100|           0.53|       0.35|           62|\n",
            "|03/05/2019 08:51:14|      100|           0.51|        0.6|           45|\n",
            "|03/05/2019 08:56:14|      100|           0.32|       0.37|           47|\n",
            "|03/05/2019 09:01:14|      100|           0.62|       0.59|           60|\n",
            "|03/05/2019 09:06:14|      100|           0.66|       0.72|           57|\n",
            "|03/05/2019 09:11:14|      100|           0.54|       0.54|           44|\n",
            "|03/05/2019 09:16:14|      100|           0.29|        0.4|           47|\n",
            "|03/05/2019 09:21:14|      100|           0.43|       0.68|           66|\n",
            "|03/05/2019 09:26:14|      100|           0.49|       0.66|           65|\n",
            "|03/05/2019 09:31:14|      100|           0.64|       0.55|           66|\n",
            "|03/05/2019 09:36:14|      100|           0.42|        0.6|           42|\n",
            "|03/05/2019 09:41:14|      100|           0.55|       0.59|           63|\n",
            "+-------------------+---------+---------------+-----------+-------------+\n",
            "only showing top 20 rows\n",
            "\n"
          ]
        }
      ],
      "source": [
        "df2.show()"
      ]
    },
    {
      "cell_type": "code",
      "execution_count": 26,
      "metadata": {
        "collapsed": true,
        "id": "FDCvM_VzmKdD"
      },
      "outputs": [],
      "source": [
        "json_df1_path = data_path + \"/location_temp.json\"\n",
        "df1.write.json(json_df1_path)"
      ]
    },
    {
      "cell_type": "code",
      "execution_count": 27,
      "metadata": {
        "collapsed": true,
        "id": "K3kvtvONmKdD"
      },
      "outputs": [],
      "source": [
        "json_df2_path = data_path + \"/utilization.json\"\n",
        "df2.write.json(json_df2_path)"
      ]
    },
    {
      "cell_type": "code",
      "source": [
        "data_path = '/content/Data/'"
      ],
      "metadata": {
        "id": "ffx91E_yx3fP"
      },
      "execution_count": 32,
      "outputs": []
    },
    {
      "cell_type": "code",
      "source": [
        "json_df1_path = data_path + \"/location_temp.json\"\n",
        "df1 = spark.read.format(\"json\").load(json_df1_path)"
      ],
      "metadata": {
        "id": "5fjTC9j_xWVt"
      },
      "execution_count": 30,
      "outputs": []
    },
    {
      "cell_type": "code",
      "source": [
        "json_df2_path = data_path + \"/utilization.json\"\n",
        "df2 = spark.read.format(\"json\").load(json_df2_path)"
      ],
      "metadata": {
        "id": "qltk6S2Hxjn2"
      },
      "execution_count": 31,
      "outputs": []
    },
    {
      "cell_type": "code",
      "source": [
        "df1.count()"
      ],
      "metadata": {
        "colab": {
          "base_uri": "https://localhost:8080/"
        },
        "id": "NAatb4Dcx045",
        "outputId": "8386607d-99d4-4f16-890e-e91ccbb7723f"
      },
      "execution_count": 33,
      "outputs": [
        {
          "output_type": "execute_result",
          "data": {
            "text/plain": [
              "500000"
            ]
          },
          "metadata": {},
          "execution_count": 33
        }
      ]
    },
    {
      "cell_type": "code",
      "source": [
        "df1.head()"
      ],
      "metadata": {
        "colab": {
          "base_uri": "https://localhost:8080/"
        },
        "id": "_mYY73Jfx_K7",
        "outputId": "58c60c3d-8b81-421b-a4c7-f3633612a5a0"
      },
      "execution_count": 34,
      "outputs": [
        {
          "output_type": "execute_result",
          "data": {
            "text/plain": [
              "Row(event_date='03/04/2019 19:48:06', location_id='loc0', temp_celcius='29')"
            ]
          },
          "metadata": {},
          "execution_count": 34
        }
      ]
    },
    {
      "cell_type": "code",
      "source": [
        "df2.count()"
      ],
      "metadata": {
        "colab": {
          "base_uri": "https://localhost:8080/"
        },
        "id": "PfPq0QrVyAZt",
        "outputId": "8bec8bb5-48ae-43ff-d252-cd01d9b7d599"
      },
      "execution_count": 35,
      "outputs": [
        {
          "output_type": "execute_result",
          "data": {
            "text/plain": [
              "500000"
            ]
          },
          "metadata": {},
          "execution_count": 35
        }
      ]
    },
    {
      "cell_type": "code",
      "source": [
        "df1.show(5)"
      ],
      "metadata": {
        "colab": {
          "base_uri": "https://localhost:8080/"
        },
        "id": "IhCJoryqyDnz",
        "outputId": "484b0169-fcf3-47e6-9c35-4ecccae02596"
      },
      "execution_count": 36,
      "outputs": [
        {
          "output_type": "stream",
          "name": "stdout",
          "text": [
            "+-------------------+-----------+------------+\n",
            "|         event_date|location_id|temp_celcius|\n",
            "+-------------------+-----------+------------+\n",
            "|03/04/2019 19:48:06|       loc0|          29|\n",
            "|03/04/2019 19:53:06|       loc0|          27|\n",
            "|03/04/2019 19:58:06|       loc0|          28|\n",
            "|03/04/2019 20:03:06|       loc0|          30|\n",
            "|03/04/2019 20:08:06|       loc0|          27|\n",
            "+-------------------+-----------+------------+\n",
            "only showing top 5 rows\n",
            "\n"
          ]
        }
      ]
    },
    {
      "cell_type": "code",
      "source": [
        "! ls '/content/Data'"
      ],
      "metadata": {
        "colab": {
          "base_uri": "https://localhost:8080/"
        },
        "id": "ralkFf8fyFXg",
        "outputId": "ad726f93-0827-4e52-a7b9-bd6dd8302b0e"
      },
      "execution_count": 38,
      "outputs": [
        {
          "output_type": "stream",
          "name": "stdout",
          "text": [
            "location_temp.csv   server_name.csv  utilization.json\n",
            "location_temp.json  utilization.csv  utlization.json\n"
          ]
        }
      ]
    },
    {
      "cell_type": "code",
      "source": [
        "! ls  '/content/Data/location_temp.json'"
      ],
      "metadata": {
        "colab": {
          "base_uri": "https://localhost:8080/"
        },
        "id": "-6fTj-YsyRXl",
        "outputId": "d70aa4d5-e1f3-4331-edfe-130845386cf2"
      },
      "execution_count": 40,
      "outputs": [
        {
          "output_type": "stream",
          "name": "stdout",
          "text": [
            "part-00000-ad599dcf-9c4e-4c64-ac4f-f0dbbf46a71e-c000.json  _SUCCESS\n",
            "part-00001-ad599dcf-9c4e-4c64-ac4f-f0dbbf46a71e-c000.json\n"
          ]
        }
      ]
    },
    {
      "cell_type": "code",
      "source": [
        "! ls '/content/Data/utilization.json'"
      ],
      "metadata": {
        "colab": {
          "base_uri": "https://localhost:8080/"
        },
        "id": "JzULX_tMywyc",
        "outputId": "fe50c98e-9eef-41f2-8a98-e0edfab86d8e"
      },
      "execution_count": 41,
      "outputs": [
        {
          "output_type": "stream",
          "name": "stdout",
          "text": [
            "part-00000-2545d8cc-2d53-489f-a400-cb24f9de695d-c000.json  _SUCCESS\n",
            "part-00001-2545d8cc-2d53-489f-a400-cb24f9de695d-c000.json\n"
          ]
        }
      ]
    },
    {
      "cell_type": "code",
      "source": [
        "json_df2_path = data_path + \"/utilization.json\"\n",
        "df2 = spark.read.format(\"json\").load(json_df2_path)"
      ],
      "metadata": {
        "id": "2UTIMDcyy_fU"
      },
      "execution_count": 42,
      "outputs": []
    },
    {
      "cell_type": "code",
      "source": [
        "df2.head(5)"
      ],
      "metadata": {
        "colab": {
          "base_uri": "https://localhost:8080/"
        },
        "id": "HJgyhl81za2r",
        "outputId": "52a846f0-e510-400d-c44e-f4741dc6f212"
      },
      "execution_count": 43,
      "outputs": [
        {
          "output_type": "execute_result",
          "data": {
            "text/plain": [
              "[Row(cpu_utilization=0.57, event_datetime='03/05/2019 08:06:14', free_memory=0.51, server_id=100, session_count=47),\n",
              " Row(cpu_utilization=0.47, event_datetime='03/05/2019 08:11:14', free_memory=0.62, server_id=100, session_count=43),\n",
              " Row(cpu_utilization=0.56, event_datetime='03/05/2019 08:16:14', free_memory=0.57, server_id=100, session_count=62),\n",
              " Row(cpu_utilization=0.57, event_datetime='03/05/2019 08:21:14', free_memory=0.56, server_id=100, session_count=50),\n",
              " Row(cpu_utilization=0.35, event_datetime='03/05/2019 08:26:14', free_memory=0.46, server_id=100, session_count=43)]"
            ]
          },
          "metadata": {},
          "execution_count": 43
        }
      ]
    },
    {
      "cell_type": "code",
      "source": [
        "df2.show(5)"
      ],
      "metadata": {
        "colab": {
          "base_uri": "https://localhost:8080/"
        },
        "id": "_z18_Z7gzfEV",
        "outputId": "2155e8a5-7a5e-40fc-c63c-9d9e311e4057"
      },
      "execution_count": 44,
      "outputs": [
        {
          "output_type": "stream",
          "name": "stdout",
          "text": [
            "+---------------+-------------------+-----------+---------+-------------+\n",
            "|cpu_utilization|     event_datetime|free_memory|server_id|session_count|\n",
            "+---------------+-------------------+-----------+---------+-------------+\n",
            "|           0.57|03/05/2019 08:06:14|       0.51|      100|           47|\n",
            "|           0.47|03/05/2019 08:11:14|       0.62|      100|           43|\n",
            "|           0.56|03/05/2019 08:16:14|       0.57|      100|           62|\n",
            "|           0.57|03/05/2019 08:21:14|       0.56|      100|           50|\n",
            "|           0.35|03/05/2019 08:26:14|       0.46|      100|           43|\n",
            "+---------------+-------------------+-----------+---------+-------------+\n",
            "only showing top 5 rows\n",
            "\n"
          ]
        }
      ]
    },
    {
      "cell_type": "code",
      "source": [
        "df2.count()"
      ],
      "metadata": {
        "colab": {
          "base_uri": "https://localhost:8080/"
        },
        "id": "6LwDjtFyzlZ3",
        "outputId": "afdef01f-83ec-46ff-f726-fa1f90c885bd"
      },
      "execution_count": 45,
      "outputs": [
        {
          "output_type": "execute_result",
          "data": {
            "text/plain": [
              "500000"
            ]
          },
          "metadata": {},
          "execution_count": 45
        }
      ]
    },
    {
      "cell_type": "code",
      "source": [
        "df2.columns"
      ],
      "metadata": {
        "colab": {
          "base_uri": "https://localhost:8080/"
        },
        "id": "CCfsFHQezqLQ",
        "outputId": "40f18a48-b943-46f3-b348-69d9edc86b03"
      },
      "execution_count": 46,
      "outputs": [
        {
          "output_type": "execute_result",
          "data": {
            "text/plain": [
              "['cpu_utilization',\n",
              " 'event_datetime',\n",
              " 'free_memory',\n",
              " 'server_id',\n",
              " 'session_count']"
            ]
          },
          "metadata": {},
          "execution_count": 46
        }
      ]
    },
    {
      "cell_type": "code",
      "source": [
        "df2.describe()"
      ],
      "metadata": {
        "colab": {
          "base_uri": "https://localhost:8080/"
        },
        "id": "NgerHTyZzu_F",
        "outputId": "e2bd04f3-0e03-4062-9eaf-3410e7a1f91d"
      },
      "execution_count": 47,
      "outputs": [
        {
          "output_type": "execute_result",
          "data": {
            "text/plain": [
              "DataFrame[summary: string, cpu_utilization: string, event_datetime: string, free_memory: string, server_id: string, session_count: string]"
            ]
          },
          "metadata": {},
          "execution_count": 47
        }
      ]
    },
    {
      "cell_type": "code",
      "source": [
        "df2_sample = df2.sample(False,fraction=0.1)"
      ],
      "metadata": {
        "id": "EU8ju1S5z1gY"
      },
      "execution_count": 50,
      "outputs": []
    },
    {
      "cell_type": "code",
      "source": [
        "df2_sample.show(10)"
      ],
      "metadata": {
        "colab": {
          "base_uri": "https://localhost:8080/"
        },
        "id": "ozTnOewl06pw",
        "outputId": "e671be31-9f2f-4ec7-b1e4-0e28923b5a8a"
      },
      "execution_count": 51,
      "outputs": [
        {
          "output_type": "stream",
          "name": "stdout",
          "text": [
            "+---------------+-------------------+-----------+---------+-------------+\n",
            "|cpu_utilization|     event_datetime|free_memory|server_id|session_count|\n",
            "+---------------+-------------------+-----------+---------+-------------+\n",
            "|           0.53|03/05/2019 08:46:14|       0.35|      100|           62|\n",
            "|           0.44|03/05/2019 09:56:14|       0.48|      100|           63|\n",
            "|           0.67|03/05/2019 10:56:14|       0.54|      100|           57|\n",
            "|           0.52|03/05/2019 11:51:14|       0.68|      100|           41|\n",
            "|            0.4|03/05/2019 12:06:14|       0.36|      100|           53|\n",
            "|           0.27|03/05/2019 12:11:14|       0.65|      100|           69|\n",
            "|           0.29|03/05/2019 13:36:14|       0.63|      100|           67|\n",
            "|           0.66|03/05/2019 14:01:14|       0.69|      100|           56|\n",
            "|            0.6|03/05/2019 14:36:14|       0.65|      100|           59|\n",
            "|           0.58|03/05/2019 15:26:14|       0.66|      100|           53|\n",
            "+---------------+-------------------+-----------+---------+-------------+\n",
            "only showing top 10 rows\n",
            "\n"
          ]
        }
      ]
    },
    {
      "cell_type": "code",
      "source": [
        "df2_sort = df2_sample.sort('event_datetime')"
      ],
      "metadata": {
        "id": "gkL-NXTI0-fC"
      },
      "execution_count": 52,
      "outputs": []
    },
    {
      "cell_type": "code",
      "source": [
        "df2_sort.show(10)"
      ],
      "metadata": {
        "colab": {
          "base_uri": "https://localhost:8080/"
        },
        "id": "R-qbk7Ac1CGb",
        "outputId": "ca115393-8201-4b47-8914-1e7ed3dcdda1"
      },
      "execution_count": 53,
      "outputs": [
        {
          "output_type": "stream",
          "name": "stdout",
          "text": [
            "+---------------+-------------------+-----------+---------+-------------+\n",
            "|cpu_utilization|     event_datetime|free_memory|server_id|session_count|\n",
            "+---------------+-------------------+-----------+---------+-------------+\n",
            "|           0.84|03/05/2019 08:06:21|       0.36|      104|           94|\n",
            "|           0.64|03/05/2019 08:06:26|       0.55|      107|           56|\n",
            "|           0.68|03/05/2019 08:06:31|       0.44|      110|           47|\n",
            "|           0.76|03/05/2019 08:11:19|       0.12|      103|           81|\n",
            "|           0.67|03/05/2019 08:11:29|       0.46|      109|           68|\n",
            "|           0.75|03/05/2019 08:11:33|       0.28|      111|           48|\n",
            "|           0.55|03/05/2019 08:11:45|       0.38|      118|           81|\n",
            "|           0.65|03/05/2019 08:11:58|       0.12|      126|           83|\n",
            "|           0.74|03/05/2019 08:12:03|       0.62|      129|           81|\n",
            "|           0.51|03/05/2019 08:12:06|       0.53|      130|           62|\n",
            "+---------------+-------------------+-----------+---------+-------------+\n",
            "only showing top 10 rows\n",
            "\n"
          ]
        }
      ]
    },
    {
      "cell_type": "code",
      "source": [
        "df2.describe().show()"
      ],
      "metadata": {
        "colab": {
          "base_uri": "https://localhost:8080/"
        },
        "id": "bWFz6pt81GqB",
        "outputId": "db624681-1aa3-47ea-f441-bc7a8f7ae5de"
      },
      "execution_count": 54,
      "outputs": [
        {
          "output_type": "stream",
          "name": "stdout",
          "text": [
            "+-------+-------------------+-------------------+-------------------+-----------------+------------------+\n",
            "|summary|    cpu_utilization|     event_datetime|        free_memory|        server_id|     session_count|\n",
            "+-------+-------------------+-------------------+-------------------+-----------------+------------------+\n",
            "|  count|             500000|             500000|             500000|           500000|            500000|\n",
            "|   mean| 0.6205177399999506|               null|0.37912809999999125|            124.5|          69.59616|\n",
            "| stddev|0.15875173872913045|               null|0.15830931278376167|14.43088412055242|14.850676696352812|\n",
            "|    min|               0.22|03/05/2019 08:06:14|                0.0|              100|                32|\n",
            "|    max|                1.0|04/09/2019 01:22:46|               0.78|              149|               105|\n",
            "+-------+-------------------+-------------------+-------------------+-----------------+------------------+\n",
            "\n"
          ]
        }
      ]
    },
    {
      "cell_type": "code",
      "source": [
        "file_path = data_path + \"/location_temp.csv\"\n",
        "df1 = spark.read.format(\"csv\").option(\"header\", \"true\").load(file_path)"
      ],
      "metadata": {
        "id": "vWralgSh1WgT"
      },
      "execution_count": 55,
      "outputs": []
    },
    {
      "cell_type": "code",
      "source": [
        "df1.show(10)"
      ],
      "metadata": {
        "colab": {
          "base_uri": "https://localhost:8080/"
        },
        "id": "idPquuiM1pha",
        "outputId": "c21a06f4-dfb0-4710-f3ad-be5603d60d94"
      },
      "execution_count": 56,
      "outputs": [
        {
          "output_type": "stream",
          "name": "stdout",
          "text": [
            "+-------------------+-----------+------------+\n",
            "|         event_date|location_id|temp_celcius|\n",
            "+-------------------+-----------+------------+\n",
            "|03/04/2019 19:48:06|       loc0|          29|\n",
            "|03/04/2019 19:53:06|       loc0|          27|\n",
            "|03/04/2019 19:58:06|       loc0|          28|\n",
            "|03/04/2019 20:03:06|       loc0|          30|\n",
            "|03/04/2019 20:08:06|       loc0|          27|\n",
            "|03/04/2019 20:13:06|       loc0|          27|\n",
            "|03/04/2019 20:18:06|       loc0|          27|\n",
            "|03/04/2019 20:23:06|       loc0|          29|\n",
            "|03/04/2019 20:28:06|       loc0|          32|\n",
            "|03/04/2019 20:33:06|       loc0|          35|\n",
            "+-------------------+-----------+------------+\n",
            "only showing top 10 rows\n",
            "\n"
          ]
        }
      ]
    },
    {
      "cell_type": "code",
      "source": [
        "df1.filter(df1[\"location_id\"]==\"loc0\").show()"
      ],
      "metadata": {
        "colab": {
          "base_uri": "https://localhost:8080/"
        },
        "id": "DsaSVnBm14yN",
        "outputId": "920ae47d-83be-4622-a2d7-753280e1dcc0"
      },
      "execution_count": 57,
      "outputs": [
        {
          "output_type": "stream",
          "name": "stdout",
          "text": [
            "+-------------------+-----------+------------+\n",
            "|         event_date|location_id|temp_celcius|\n",
            "+-------------------+-----------+------------+\n",
            "|03/04/2019 19:48:06|       loc0|          29|\n",
            "|03/04/2019 19:53:06|       loc0|          27|\n",
            "|03/04/2019 19:58:06|       loc0|          28|\n",
            "|03/04/2019 20:03:06|       loc0|          30|\n",
            "|03/04/2019 20:08:06|       loc0|          27|\n",
            "|03/04/2019 20:13:06|       loc0|          27|\n",
            "|03/04/2019 20:18:06|       loc0|          27|\n",
            "|03/04/2019 20:23:06|       loc0|          29|\n",
            "|03/04/2019 20:28:06|       loc0|          32|\n",
            "|03/04/2019 20:33:06|       loc0|          35|\n",
            "|03/04/2019 20:38:06|       loc0|          32|\n",
            "|03/04/2019 20:43:06|       loc0|          28|\n",
            "|03/04/2019 20:48:06|       loc0|          28|\n",
            "|03/04/2019 20:53:06|       loc0|          32|\n",
            "|03/04/2019 20:58:06|       loc0|          34|\n",
            "|03/04/2019 21:03:06|       loc0|          33|\n",
            "|03/04/2019 21:08:06|       loc0|          27|\n",
            "|03/04/2019 21:13:06|       loc0|          28|\n",
            "|03/04/2019 21:18:06|       loc0|          33|\n",
            "|03/04/2019 21:23:06|       loc0|          28|\n",
            "+-------------------+-----------+------------+\n",
            "only showing top 20 rows\n",
            "\n"
          ]
        }
      ]
    },
    {
      "cell_type": "code",
      "source": [
        "df1.filter(df1[\"location_id\"]==\"loc0\").count()"
      ],
      "metadata": {
        "colab": {
          "base_uri": "https://localhost:8080/"
        },
        "id": "w0-mssp-17n3",
        "outputId": "0e22cdf5-2408-4f2f-ad34-3270c05fdc87"
      },
      "execution_count": 58,
      "outputs": [
        {
          "output_type": "execute_result",
          "data": {
            "text/plain": [
              "1000"
            ]
          },
          "metadata": {},
          "execution_count": 58
        }
      ]
    },
    {
      "cell_type": "code",
      "source": [
        "df1.filter(df1[\"location_id\"]==\"loc1\").count()"
      ],
      "metadata": {
        "colab": {
          "base_uri": "https://localhost:8080/"
        },
        "id": "Tf_UTDA32BFA",
        "outputId": "396fb698-3aaf-421e-afbc-339e795caf9f"
      },
      "execution_count": 59,
      "outputs": [
        {
          "output_type": "execute_result",
          "data": {
            "text/plain": [
              "1000"
            ]
          },
          "metadata": {},
          "execution_count": 59
        }
      ]
    },
    {
      "cell_type": "code",
      "source": [
        "df1.filter(\"location_id = 'loc1'\").show(10)"
      ],
      "metadata": {
        "colab": {
          "base_uri": "https://localhost:8080/"
        },
        "id": "JIpUl5L32G_n",
        "outputId": "b7ffa45f-3060-4ca4-fc4f-81cf98f40e68"
      },
      "execution_count": 60,
      "outputs": [
        {
          "output_type": "stream",
          "name": "stdout",
          "text": [
            "+-------------------+-----------+------------+\n",
            "|         event_date|location_id|temp_celcius|\n",
            "+-------------------+-----------+------------+\n",
            "|03/04/2019 19:48:06|       loc1|          31|\n",
            "|03/04/2019 19:53:06|       loc1|          26|\n",
            "|03/04/2019 19:58:06|       loc1|          31|\n",
            "|03/04/2019 20:03:06|       loc1|          26|\n",
            "|03/04/2019 20:08:06|       loc1|          28|\n",
            "|03/04/2019 20:13:06|       loc1|          27|\n",
            "|03/04/2019 20:18:06|       loc1|          30|\n",
            "|03/04/2019 20:23:06|       loc1|          28|\n",
            "|03/04/2019 20:28:06|       loc1|          28|\n",
            "|03/04/2019 20:33:06|       loc1|          27|\n",
            "+-------------------+-----------+------------+\n",
            "only showing top 10 rows\n",
            "\n"
          ]
        }
      ]
    },
    {
      "cell_type": "code",
      "source": [
        "file_path = data_path + \"/location_temp.csv\"\n",
        "df1 = spark.read.format(\"csv\").option(\"header\", \"true\").load(file_path)"
      ],
      "metadata": {
        "id": "X19l8cuj2Kvg"
      },
      "execution_count": 61,
      "outputs": []
    },
    {
      "cell_type": "code",
      "source": [
        "df1.show(10)"
      ],
      "metadata": {
        "colab": {
          "base_uri": "https://localhost:8080/"
        },
        "id": "d6VFqSee2li2",
        "outputId": "effcee35-3bbc-49d3-d01c-c606ea4cc255"
      },
      "execution_count": 62,
      "outputs": [
        {
          "output_type": "stream",
          "name": "stdout",
          "text": [
            "+-------------------+-----------+------------+\n",
            "|         event_date|location_id|temp_celcius|\n",
            "+-------------------+-----------+------------+\n",
            "|03/04/2019 19:48:06|       loc0|          29|\n",
            "|03/04/2019 19:53:06|       loc0|          27|\n",
            "|03/04/2019 19:58:06|       loc0|          28|\n",
            "|03/04/2019 20:03:06|       loc0|          30|\n",
            "|03/04/2019 20:08:06|       loc0|          27|\n",
            "|03/04/2019 20:13:06|       loc0|          27|\n",
            "|03/04/2019 20:18:06|       loc0|          27|\n",
            "|03/04/2019 20:23:06|       loc0|          29|\n",
            "|03/04/2019 20:28:06|       loc0|          32|\n",
            "|03/04/2019 20:33:06|       loc0|          35|\n",
            "+-------------------+-----------+------------+\n",
            "only showing top 10 rows\n",
            "\n"
          ]
        }
      ]
    },
    {
      "cell_type": "code",
      "source": [
        "df1.groupBy(\"location_id\").count().show()"
      ],
      "metadata": {
        "colab": {
          "base_uri": "https://localhost:8080/"
        },
        "id": "Nhn6CLxV2opN",
        "outputId": "41cf9746-ab61-47d6-9b3d-214c0013c1bd"
      },
      "execution_count": 63,
      "outputs": [
        {
          "output_type": "stream",
          "name": "stdout",
          "text": [
            "+-----------+-----+\n",
            "|location_id|count|\n",
            "+-----------+-----+\n",
            "|     loc196| 1000|\n",
            "|     loc226| 1000|\n",
            "|     loc150| 1000|\n",
            "|     loc292| 1000|\n",
            "|     loc311| 1000|\n",
            "|      loc22| 1000|\n",
            "|      loc31| 1000|\n",
            "|     loc305| 1000|\n",
            "|      loc82| 1000|\n",
            "|      loc90| 1000|\n",
            "|     loc118| 1000|\n",
            "|     loc195| 1000|\n",
            "|     loc208| 1000|\n",
            "|      loc39| 1000|\n",
            "|      loc75| 1000|\n",
            "|     loc228| 1000|\n",
            "|     loc203| 1000|\n",
            "|     loc193| 1000|\n",
            "|     loc122| 1000|\n",
            "|     loc145| 1000|\n",
            "+-----------+-----+\n",
            "only showing top 20 rows\n",
            "\n"
          ]
        }
      ]
    },
    {
      "cell_type": "code",
      "source": [
        "df1.orderBy(\"location_id\").show(10)"
      ],
      "metadata": {
        "colab": {
          "base_uri": "https://localhost:8080/"
        },
        "id": "c2PePbUs2s7v",
        "outputId": "f3313012-3d5a-44e4-8d43-e52d96992272"
      },
      "execution_count": 64,
      "outputs": [
        {
          "output_type": "stream",
          "name": "stdout",
          "text": [
            "+-------------------+-----------+------------+\n",
            "|         event_date|location_id|temp_celcius|\n",
            "+-------------------+-----------+------------+\n",
            "|03/04/2019 20:33:06|       loc0|          35|\n",
            "|03/04/2019 20:13:06|       loc0|          27|\n",
            "|03/04/2019 20:28:06|       loc0|          32|\n",
            "|03/04/2019 19:58:06|       loc0|          28|\n",
            "|03/04/2019 20:08:06|       loc0|          27|\n",
            "|03/04/2019 20:18:06|       loc0|          27|\n",
            "|03/04/2019 20:23:06|       loc0|          29|\n",
            "|03/04/2019 19:48:06|       loc0|          29|\n",
            "|03/04/2019 19:53:06|       loc0|          27|\n",
            "|03/04/2019 20:03:06|       loc0|          30|\n",
            "+-------------------+-----------+------------+\n",
            "only showing top 10 rows\n",
            "\n"
          ]
        }
      ]
    },
    {
      "cell_type": "code",
      "source": [
        "df1.groupby('location_id').agg({'temp_celcius': 'mean'}).show()"
      ],
      "metadata": {
        "colab": {
          "base_uri": "https://localhost:8080/"
        },
        "id": "ECyK2A522yPv",
        "outputId": "215e89f9-a621-488d-8f67-1646788c4a6a"
      },
      "execution_count": 65,
      "outputs": [
        {
          "output_type": "stream",
          "name": "stdout",
          "text": [
            "+-----------+-----------------+\n",
            "|location_id|avg(temp_celcius)|\n",
            "+-----------+-----------------+\n",
            "|     loc196|           29.225|\n",
            "|     loc226|           25.306|\n",
            "|     loc150|           32.188|\n",
            "|     loc292|           29.159|\n",
            "|     loc311|           24.308|\n",
            "|      loc22|           28.251|\n",
            "|      loc31|           25.196|\n",
            "|     loc305|           27.314|\n",
            "|      loc82|           27.355|\n",
            "|      loc90|           23.216|\n",
            "|     loc118|           24.219|\n",
            "|     loc195|            27.25|\n",
            "|     loc208|           26.206|\n",
            "|      loc39|           25.199|\n",
            "|      loc75|           23.209|\n",
            "|     loc228|           27.295|\n",
            "|     loc203|           26.214|\n",
            "|     loc193|           30.225|\n",
            "|     loc122|            32.36|\n",
            "|     loc145|           32.309|\n",
            "+-----------+-----------------+\n",
            "only showing top 20 rows\n",
            "\n"
          ]
        }
      ]
    },
    {
      "cell_type": "code",
      "source": [
        "df1.groupby('location_id').agg({'temp_celcius': 'max'}).show()"
      ],
      "metadata": {
        "colab": {
          "base_uri": "https://localhost:8080/"
        },
        "id": "fq6cXkjo24k9",
        "outputId": "3d00c0b9-f4c2-48bc-d005-0e75f9bf7bd9"
      },
      "execution_count": 66,
      "outputs": [
        {
          "output_type": "stream",
          "name": "stdout",
          "text": [
            "+-----------+-----------------+\n",
            "|location_id|max(temp_celcius)|\n",
            "+-----------+-----------------+\n",
            "|       loc0|               36|\n",
            "|       loc1|               35|\n",
            "|      loc10|               32|\n",
            "|     loc100|               34|\n",
            "|     loc101|               32|\n",
            "|     loc102|               37|\n",
            "|     loc103|               32|\n",
            "|     loc104|               33|\n",
            "|     loc105|               33|\n",
            "|     loc106|               34|\n",
            "|     loc107|               40|\n",
            "|     loc108|               39|\n",
            "|     loc109|               31|\n",
            "|      loc11|               32|\n",
            "|     loc110|               33|\n",
            "|     loc111|               38|\n",
            "|     loc112|               40|\n",
            "|     loc113|               37|\n",
            "|     loc114|               36|\n",
            "|     loc115|               30|\n",
            "+-----------+-----------------+\n",
            "only showing top 20 rows\n",
            "\n"
          ]
        }
      ]
    },
    {
      "cell_type": "code",
      "source": [
        "file_path = data_path + \"/location_temp.csv\"\n",
        "df1 = spark.read.format(\"csv\").option(\"header\", \"true\").load(file_path)"
      ],
      "metadata": {
        "id": "EZXN9ufw29ln"
      },
      "execution_count": 67,
      "outputs": []
    },
    {
      "cell_type": "code",
      "source": [
        "df1.show(10)"
      ],
      "metadata": {
        "colab": {
          "base_uri": "https://localhost:8080/"
        },
        "id": "fs5-hrbf3NVl",
        "outputId": "71abb759-1349-4dde-8759-cfdeaa647064"
      },
      "execution_count": 68,
      "outputs": [
        {
          "output_type": "stream",
          "name": "stdout",
          "text": [
            "+-------------------+-----------+------------+\n",
            "|         event_date|location_id|temp_celcius|\n",
            "+-------------------+-----------+------------+\n",
            "|03/04/2019 19:48:06|       loc0|          29|\n",
            "|03/04/2019 19:53:06|       loc0|          27|\n",
            "|03/04/2019 19:58:06|       loc0|          28|\n",
            "|03/04/2019 20:03:06|       loc0|          30|\n",
            "|03/04/2019 20:08:06|       loc0|          27|\n",
            "|03/04/2019 20:13:06|       loc0|          27|\n",
            "|03/04/2019 20:18:06|       loc0|          27|\n",
            "|03/04/2019 20:23:06|       loc0|          29|\n",
            "|03/04/2019 20:28:06|       loc0|          32|\n",
            "|03/04/2019 20:33:06|       loc0|          35|\n",
            "+-------------------+-----------+------------+\n",
            "only showing top 10 rows\n",
            "\n"
          ]
        }
      ]
    },
    {
      "cell_type": "code",
      "source": [
        "df1.count()"
      ],
      "metadata": {
        "colab": {
          "base_uri": "https://localhost:8080/"
        },
        "id": "mD4LHRLA3RtP",
        "outputId": "90b51513-6215-4aaf-ddc4-d644daca508d"
      },
      "execution_count": 69,
      "outputs": [
        {
          "output_type": "execute_result",
          "data": {
            "text/plain": [
              "500000"
            ]
          },
          "metadata": {},
          "execution_count": 69
        }
      ]
    },
    {
      "cell_type": "code",
      "source": [
        "df_s1 = df1.sample(fraction=0.1,withReplacement=False)"
      ],
      "metadata": {
        "id": "ksq0K-nT3UwX"
      },
      "execution_count": 70,
      "outputs": []
    },
    {
      "cell_type": "code",
      "source": [
        "df_s1.groupBy(\"location_id\").agg({'temp_celcius': 'mean'}).show(5)"
      ],
      "metadata": {
        "colab": {
          "base_uri": "https://localhost:8080/"
        },
        "id": "GQcKg9eU3X0J",
        "outputId": "2a469550-565f-4771-d29d-f578abc89670"
      },
      "execution_count": 71,
      "outputs": [
        {
          "output_type": "stream",
          "name": "stdout",
          "text": [
            "+-----------+------------------+\n",
            "|location_id| avg(temp_celcius)|\n",
            "+-----------+------------------+\n",
            "|     loc196|              29.0|\n",
            "|     loc226| 25.11881188118812|\n",
            "|     loc150| 32.11206896551724|\n",
            "|     loc292|29.055555555555557|\n",
            "|     loc311|24.379310344827587|\n",
            "+-----------+------------------+\n",
            "only showing top 5 rows\n",
            "\n"
          ]
        }
      ]
    },
    {
      "cell_type": "code",
      "source": [
        "df_s1.groupBy(\"location_id\").agg({'temp_celcius': 'mean'}).orderBy(\"location_id\").show(5)"
      ],
      "metadata": {
        "colab": {
          "base_uri": "https://localhost:8080/"
        },
        "id": "_T24jhdR3hR3",
        "outputId": "ce52ed82-3044-44f8-d4cc-ff87feda1c44"
      },
      "execution_count": 72,
      "outputs": [
        {
          "output_type": "stream",
          "name": "stdout",
          "text": [
            "+-----------+------------------+\n",
            "|location_id| avg(temp_celcius)|\n",
            "+-----------+------------------+\n",
            "|       loc0|28.756521739130434|\n",
            "|       loc1|  28.2183908045977|\n",
            "|      loc10|25.406976744186046|\n",
            "|     loc100| 27.26851851851852|\n",
            "|     loc101|25.318681318681318|\n",
            "+-----------+------------------+\n",
            "only showing top 5 rows\n",
            "\n"
          ]
        }
      ]
    },
    {
      "cell_type": "code",
      "source": [
        "df1.groupBy(\"location_id\").agg({'temp_celcius': 'mean'}).orderBy(\"location_id\").show(5)"
      ],
      "metadata": {
        "colab": {
          "base_uri": "https://localhost:8080/"
        },
        "id": "_p2u9LIh3nNB",
        "outputId": "66494fd7-d2e9-4800-8066-6b6b00c239d8"
      },
      "execution_count": 73,
      "outputs": [
        {
          "output_type": "stream",
          "name": "stdout",
          "text": [
            "+-----------+-----------------+\n",
            "|location_id|avg(temp_celcius)|\n",
            "+-----------+-----------------+\n",
            "|       loc0|           29.176|\n",
            "|       loc1|           28.246|\n",
            "|      loc10|           25.337|\n",
            "|     loc100|           27.297|\n",
            "|     loc101|           25.317|\n",
            "+-----------+-----------------+\n",
            "only showing top 5 rows\n",
            "\n"
          ]
        }
      ]
    },
    {
      "cell_type": "code",
      "source": [
        "df_s2 = df1.sample(fraction=0.001,withReplacement=False)"
      ],
      "metadata": {
        "id": "saltTUKE3zOI"
      },
      "execution_count": 74,
      "outputs": []
    },
    {
      "cell_type": "code",
      "source": [
        "df_s2.groupBy(\"location_id\").agg({'temp_celcius': 'mean'}).orderBy(\"location_id\").show(5)"
      ],
      "metadata": {
        "colab": {
          "base_uri": "https://localhost:8080/"
        },
        "id": "4bdqok9Y37yu",
        "outputId": "84d4ed93-7f1c-4995-ab11-cf6b2f09b456"
      },
      "execution_count": 75,
      "outputs": [
        {
          "output_type": "stream",
          "name": "stdout",
          "text": [
            "+-----------+-----------------+\n",
            "|location_id|avg(temp_celcius)|\n",
            "+-----------+-----------------+\n",
            "|      loc10|             32.0|\n",
            "|     loc100|             29.5|\n",
            "|     loc102|             33.0|\n",
            "|     loc104|             25.5|\n",
            "|     loc105|             28.0|\n",
            "+-----------+-----------------+\n",
            "only showing top 5 rows\n",
            "\n"
          ]
        }
      ]
    },
    {
      "cell_type": "code",
      "source": [
        "file_path = data_path + \"/location_temp.csv\"\n",
        "df1 = spark.read.format(\"csv\").option(\"header\", \"true\").load(file_path)"
      ],
      "metadata": {
        "id": "ewGqczEr4CE_"
      },
      "execution_count": 77,
      "outputs": []
    },
    {
      "cell_type": "code",
      "source": [
        "df1.show(10)"
      ],
      "metadata": {
        "colab": {
          "base_uri": "https://localhost:8080/"
        },
        "id": "AnrRQOT64bGg",
        "outputId": "79219469-89a9-470f-f48a-2337ca7e4463"
      },
      "execution_count": 78,
      "outputs": [
        {
          "output_type": "stream",
          "name": "stdout",
          "text": [
            "+-------------------+-----------+------------+\n",
            "|         event_date|location_id|temp_celcius|\n",
            "+-------------------+-----------+------------+\n",
            "|03/04/2019 19:48:06|       loc0|          29|\n",
            "|03/04/2019 19:53:06|       loc0|          27|\n",
            "|03/04/2019 19:58:06|       loc0|          28|\n",
            "|03/04/2019 20:03:06|       loc0|          30|\n",
            "|03/04/2019 20:08:06|       loc0|          27|\n",
            "|03/04/2019 20:13:06|       loc0|          27|\n",
            "|03/04/2019 20:18:06|       loc0|          27|\n",
            "|03/04/2019 20:23:06|       loc0|          29|\n",
            "|03/04/2019 20:28:06|       loc0|          32|\n",
            "|03/04/2019 20:33:06|       loc0|          35|\n",
            "+-------------------+-----------+------------+\n",
            "only showing top 10 rows\n",
            "\n"
          ]
        }
      ]
    },
    {
      "cell_type": "code",
      "source": [
        "df1.write.csv('df1.csv')"
      ],
      "metadata": {
        "id": "VBZ0VO0g40cq"
      },
      "execution_count": 79,
      "outputs": []
    },
    {
      "cell_type": "code",
      "source": [
        "! ls df1.csv"
      ],
      "metadata": {
        "colab": {
          "base_uri": "https://localhost:8080/"
        },
        "id": "hHtifiaG46u9",
        "outputId": "e79f0dd3-60f8-4545-cf43-4c72f832ab87"
      },
      "execution_count": 80,
      "outputs": [
        {
          "output_type": "stream",
          "name": "stdout",
          "text": [
            "part-00000-4be90dd8-9565-4a5e-85fd-203675f2508b-c000.csv  _SUCCESS\n",
            "part-00001-4be90dd8-9565-4a5e-85fd-203675f2508b-c000.csv\n"
          ]
        }
      ]
    },
    {
      "cell_type": "code",
      "source": [
        "! head '/content/df1.csv/part-00000-4be90dd8-9565-4a5e-85fd-203675f2508b-c000.csv'"
      ],
      "metadata": {
        "colab": {
          "base_uri": "https://localhost:8080/"
        },
        "id": "IqiCTG8_49DM",
        "outputId": "61d53a40-0298-4060-fea4-c7311109174e"
      },
      "execution_count": 84,
      "outputs": [
        {
          "output_type": "stream",
          "name": "stdout",
          "text": [
            "03/04/2019 19:48:06,loc0,29\n",
            "03/04/2019 19:53:06,loc0,27\n",
            "03/04/2019 19:58:06,loc0,28\n",
            "03/04/2019 20:03:06,loc0,30\n",
            "03/04/2019 20:08:06,loc0,27\n",
            "03/04/2019 20:13:06,loc0,27\n",
            "03/04/2019 20:18:06,loc0,27\n",
            "03/04/2019 20:23:06,loc0,29\n",
            "03/04/2019 20:28:06,loc0,32\n",
            "03/04/2019 20:33:06,loc0,35\n"
          ]
        }
      ]
    },
    {
      "cell_type": "code",
      "source": [
        "df1.write.json('df1.json')"
      ],
      "metadata": {
        "id": "bdewEHtB5CYJ"
      },
      "execution_count": 85,
      "outputs": []
    },
    {
      "cell_type": "code",
      "source": [
        "! ls df1.json"
      ],
      "metadata": {
        "colab": {
          "base_uri": "https://localhost:8080/"
        },
        "id": "SO6NfcYt50BM",
        "outputId": "6098dbf1-dc65-4fc1-ec58-397540dff453"
      },
      "execution_count": 86,
      "outputs": [
        {
          "output_type": "stream",
          "name": "stdout",
          "text": [
            "part-00000-18ac650b-e536-45b2-a1d8-054b74ce1d81-c000.json  _SUCCESS\n",
            "part-00001-18ac650b-e536-45b2-a1d8-054b74ce1d81-c000.json\n"
          ]
        }
      ]
    },
    {
      "cell_type": "code",
      "source": [
        "! head df1.json/part-00000-18ac650b-e536-45b2-a1d8-054b74ce1d81-c000.json"
      ],
      "metadata": {
        "colab": {
          "base_uri": "https://localhost:8080/"
        },
        "id": "nBGA9A3R52TB",
        "outputId": "a4c41645-ff12-494c-d631-f48d9b8e06db"
      },
      "execution_count": 87,
      "outputs": [
        {
          "output_type": "stream",
          "name": "stdout",
          "text": [
            "{\"event_date\":\"03/04/2019 19:48:06\",\"location_id\":\"loc0\",\"temp_celcius\":\"29\"}\n",
            "{\"event_date\":\"03/04/2019 19:53:06\",\"location_id\":\"loc0\",\"temp_celcius\":\"27\"}\n",
            "{\"event_date\":\"03/04/2019 19:58:06\",\"location_id\":\"loc0\",\"temp_celcius\":\"28\"}\n",
            "{\"event_date\":\"03/04/2019 20:03:06\",\"location_id\":\"loc0\",\"temp_celcius\":\"30\"}\n",
            "{\"event_date\":\"03/04/2019 20:08:06\",\"location_id\":\"loc0\",\"temp_celcius\":\"27\"}\n",
            "{\"event_date\":\"03/04/2019 20:13:06\",\"location_id\":\"loc0\",\"temp_celcius\":\"27\"}\n",
            "{\"event_date\":\"03/04/2019 20:18:06\",\"location_id\":\"loc0\",\"temp_celcius\":\"27\"}\n",
            "{\"event_date\":\"03/04/2019 20:23:06\",\"location_id\":\"loc0\",\"temp_celcius\":\"29\"}\n",
            "{\"event_date\":\"03/04/2019 20:28:06\",\"location_id\":\"loc0\",\"temp_celcius\":\"32\"}\n",
            "{\"event_date\":\"03/04/2019 20:33:06\",\"location_id\":\"loc0\",\"temp_celcius\":\"35\"}\n"
          ]
        }
      ]
    },
    {
      "cell_type": "code",
      "source": [],
      "metadata": {
        "id": "of2Ck36x58ZR"
      },
      "execution_count": null,
      "outputs": []
    }
  ],
  "metadata": {
    "colab": {
      "collapsed_sections": [],
      "name": "Learning_Pyspark_part1.ipynb",
      "provenance": []
    },
    "kernelspec": {
      "display_name": "Python 3",
      "language": "python",
      "name": "python3"
    },
    "language_info": {
      "codemirror_mode": {
        "name": "ipython",
        "version": 3
      },
      "file_extension": ".py",
      "mimetype": "text/x-python",
      "name": "python",
      "nbconvert_exporter": "python",
      "pygments_lexer": "ipython3",
      "version": "3.6.1"
    }
  },
  "nbformat": 4,
  "nbformat_minor": 0
}